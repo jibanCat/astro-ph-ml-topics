{
 "cells": [
  {
   "cell_type": "code",
   "execution_count": 32,
   "metadata": {},
   "outputs": [],
   "source": [
    "from bs4 import BeautifulSoup\n",
    "from matplotlib import pyplot as plt\n",
    "import pandas as pd\n",
    "import numpy as np\n",
    "import urllib\n",
    "import time\n",
    "\n",
    "%matplotlib inline\n",
    "\n",
    "import altair as alt\n",
    "\n",
    "# using xml tool to scrape\n",
    "import xml.etree.ElementTree as ET\n",
    "\n",
    "import matplotlib\n",
    "import matplotlib.pyplot as plt\n",
    "from cycler import cycler\n",
    "matplotlib.rc(\"font\", family=\"serif\", size=14)\n",
    "matplotlib.rc(\"figure\", figsize=\"10, 5\")"
   ]
  },
  {
   "cell_type": "markdown",
   "metadata": {},
   "source": [
    "# Galaxy NN in Arxiv"
   ]
  },
  {
   "cell_type": "code",
   "execution_count": 4,
   "metadata": {},
   "outputs": [],
   "source": [
    "from arxiv_harvest import harvest"
   ]
  },
  {
   "cell_type": "code",
   "execution_count": null,
   "metadata": {},
   "outputs": [],
   "source": [
    "# fetch all arxiv astro-ph metadata\n",
    "df = harvest(\n",
    "    arxiv=\"physics:astro-ph\", \n",
    "    start_date=\"2016-01-01\", \n",
    "    end_date=\"2018-11-15\",\n",
    "    output_filename=\"df_astro_16-18.csv\"\n",
    ")"
   ]
  },
  {
   "cell_type": "code",
   "execution_count": 5,
   "metadata": {},
   "outputs": [],
   "source": [
    "df = pd.read_csv(\"df_astro_16-18.csv\")"
   ]
  },
  {
   "cell_type": "markdown",
   "metadata": {},
   "source": [
    "## Read data \n",
    "\n",
    "Skip this part if you don't have my original data, just use the `df_astro_00-18.csv`."
   ]
  },
  {
   "cell_type": "code",
   "execution_count": 7,
   "metadata": {},
   "outputs": [],
   "source": [
    "# concat different phases of \n",
    "df = pd.concat(\n",
    "    [\n",
    "        pd.read_csv(\"df_astro_00-10.csv\"), \n",
    "        pd.read_csv(\"df_astro_10-18.csv\"),\n",
    "        pd.read_csv(\"df_astro_17-18.csv\"),\n",
    "    ], \n",
    "    axis=0\n",
    ")\n",
    "\n",
    "# drop duplicate papers\n",
    "df = df.drop_duplicates(subset=['title'], keep=False)"
   ]
  },
  {
   "cell_type": "code",
   "execution_count": 11,
   "metadata": {},
   "outputs": [],
   "source": [
    "df.to_csv(\"df_astro_00-18.csv\")"
   ]
  },
  {
   "cell_type": "markdown",
   "metadata": {},
   "source": [
    "## Everything about NN"
   ]
  },
  {
   "cell_type": "code",
   "execution_count": 4,
   "metadata": {},
   "outputs": [
    {
     "name": "stderr",
     "output_type": "stream",
     "text": [
      "/Users/cicero/anaconda/envs/viper/lib/python3.6/site-packages/IPython/core/interactiveshell.py:2785: DtypeWarning: Columns (6) have mixed types. Specify dtype option on import or set low_memory=False.\n",
      "  interactivity=interactivity, compiler=compiler, result=result)\n"
     ]
    }
   ],
   "source": [
    "df = pd.read_csv(\n",
    "    \"df_astro_00-18.csv\", parse_dates=True, index_col=\"created\"\n",
    ")"
   ]
  },
  {
   "cell_type": "code",
   "execution_count": 5,
   "metadata": {},
   "outputs": [
    {
     "data": {
      "text/html": [
       "<div>\n",
       "<style scoped>\n",
       "    .dataframe tbody tr th:only-of-type {\n",
       "        vertical-align: middle;\n",
       "    }\n",
       "\n",
       "    .dataframe tbody tr th {\n",
       "        vertical-align: top;\n",
       "    }\n",
       "\n",
       "    .dataframe thead th {\n",
       "        text-align: right;\n",
       "    }\n",
       "</style>\n",
       "<table border=\"1\" class=\"dataframe\">\n",
       "  <thead>\n",
       "    <tr style=\"text-align: right;\">\n",
       "      <th></th>\n",
       "      <th>Unnamed: 0</th>\n",
       "      <th>Unnamed: 0.1</th>\n",
       "      <th>title</th>\n",
       "      <th>abstract</th>\n",
       "      <th>categories</th>\n",
       "      <th>id</th>\n",
       "      <th>doi</th>\n",
       "    </tr>\n",
       "    <tr>\n",
       "      <th>created</th>\n",
       "      <th></th>\n",
       "      <th></th>\n",
       "      <th></th>\n",
       "      <th></th>\n",
       "      <th></th>\n",
       "      <th></th>\n",
       "      <th></th>\n",
       "    </tr>\n",
       "  </thead>\n",
       "  <tbody>\n",
       "    <tr>\n",
       "      <th>2018-11-08</th>\n",
       "      <td>34881</td>\n",
       "      <td>34881</td>\n",
       "      <td>Bayesian Deep Learning for Exoplanet Atmospher...</td>\n",
       "      <td>Over the past decade, the study of exoplanets ...</td>\n",
       "      <td>['astro-ph.EP', 'cs.LG']</td>\n",
       "      <td>1811.03</td>\n",
       "      <td>NaN</td>\n",
       "    </tr>\n",
       "    <tr>\n",
       "      <th>2018-11-08</th>\n",
       "      <td>34912</td>\n",
       "      <td>34912</td>\n",
       "      <td>Deep Learning Applied to the Asteroseismic Mod...</td>\n",
       "      <td>We develop a novel method based on machine lea...</td>\n",
       "      <td>['astro-ph.SR']</td>\n",
       "      <td>1811.04</td>\n",
       "      <td>NaN</td>\n",
       "    </tr>\n",
       "    <tr>\n",
       "      <th>2018-11-08</th>\n",
       "      <td>34930</td>\n",
       "      <td>34930</td>\n",
       "      <td>Machine learning Applied to Star-Galaxy-QSO Cl...</td>\n",
       "      <td>In modern astrophysics, the machine learning h...</td>\n",
       "      <td>['astro-ph.GA', 'astro-ph.IM', 'astro-ph.SR']</td>\n",
       "      <td>1811.04</td>\n",
       "      <td>NaN</td>\n",
       "    </tr>\n",
       "    <tr>\n",
       "      <th>2018-11-09</th>\n",
       "      <td>34933</td>\n",
       "      <td>34933</td>\n",
       "      <td>Finding high-redshift strong lenses in DES usi...</td>\n",
       "      <td>We search Dark Energy Survey (DES) Year 3 imag...</td>\n",
       "      <td>['astro-ph.GA', 'astro-ph.IM']</td>\n",
       "      <td>1811.04</td>\n",
       "      <td>NaN</td>\n",
       "    </tr>\n",
       "    <tr>\n",
       "      <th>2018-11-09</th>\n",
       "      <td>34940</td>\n",
       "      <td>34940</td>\n",
       "      <td>Classification of gravitational-wave glitches ...</td>\n",
       "      <td>We present a new method for the classification...</td>\n",
       "      <td>['astro-ph.IM', 'gr-qc']</td>\n",
       "      <td>1811.04</td>\n",
       "      <td>NaN</td>\n",
       "    </tr>\n",
       "  </tbody>\n",
       "</table>\n",
       "</div>"
      ],
      "text/plain": [
       "            Unnamed: 0  Unnamed: 0.1  \\\n",
       "created                                \n",
       "2018-11-08       34881         34881   \n",
       "2018-11-08       34912         34912   \n",
       "2018-11-08       34930         34930   \n",
       "2018-11-09       34933         34933   \n",
       "2018-11-09       34940         34940   \n",
       "\n",
       "                                                        title  \\\n",
       "created                                                         \n",
       "2018-11-08  Bayesian Deep Learning for Exoplanet Atmospher...   \n",
       "2018-11-08  Deep Learning Applied to the Asteroseismic Mod...   \n",
       "2018-11-08  Machine learning Applied to Star-Galaxy-QSO Cl...   \n",
       "2018-11-09  Finding high-redshift strong lenses in DES usi...   \n",
       "2018-11-09  Classification of gravitational-wave glitches ...   \n",
       "\n",
       "                                                     abstract  \\\n",
       "created                                                         \n",
       "2018-11-08  Over the past decade, the study of exoplanets ...   \n",
       "2018-11-08  We develop a novel method based on machine lea...   \n",
       "2018-11-08  In modern astrophysics, the machine learning h...   \n",
       "2018-11-09  We search Dark Energy Survey (DES) Year 3 imag...   \n",
       "2018-11-09  We present a new method for the classification...   \n",
       "\n",
       "                                               categories       id  doi  \n",
       "created                                                                  \n",
       "2018-11-08                       ['astro-ph.EP', 'cs.LG']  1811.03  NaN  \n",
       "2018-11-08                                ['astro-ph.SR']  1811.04  NaN  \n",
       "2018-11-08  ['astro-ph.GA', 'astro-ph.IM', 'astro-ph.SR']  1811.04  NaN  \n",
       "2018-11-09                 ['astro-ph.GA', 'astro-ph.IM']  1811.04  NaN  \n",
       "2018-11-09                       ['astro-ph.IM', 'gr-qc']  1811.04  NaN  "
      ]
     },
     "execution_count": 5,
     "metadata": {},
     "output_type": "execute_result"
    }
   ],
   "source": [
    "df_nn = df[\n",
    "    df.abstract.str.contains(\"neural network\") | \n",
    "    df.abstract.str.contains(\"machine learning\") |\n",
    "    df.abstract.str.contains(\"deep learning\")\n",
    "]\n",
    "df_nn.tail()"
   ]
  },
  {
   "cell_type": "code",
   "execution_count": 40,
   "metadata": {},
   "outputs": [
    {
     "name": "stdout",
     "output_type": "stream",
     "text": [
      "Number of total astro-ph papers from arxiv API 2010 - 2018: 209970\n",
      "The ratio of neural net or machine learning papers in astro-ph: 0.00218\n"
     ]
    }
   ],
   "source": [
    "# ratio of neural network in the astro-ph\n",
    "print(\"Number of total astro-ph papers from arxiv API 2010 - 2018:\", len(df))\n",
    "print(\"The ratio of neural net or machine learning papers in astro-ph: {:.3g}\".format(len(df_nn) / len(df)))"
   ]
  },
  {
   "cell_type": "code",
   "execution_count": 41,
   "metadata": {},
   "outputs": [
    {
     "name": "stdout",
     "output_type": "stream",
     "text": [
      "How many of them are about galaxy: 0.249\n"
     ]
    },
    {
     "data": {
      "text/html": [
       "<div>\n",
       "<style scoped>\n",
       "    .dataframe tbody tr th:only-of-type {\n",
       "        vertical-align: middle;\n",
       "    }\n",
       "\n",
       "    .dataframe tbody tr th {\n",
       "        vertical-align: top;\n",
       "    }\n",
       "\n",
       "    .dataframe thead th {\n",
       "        text-align: right;\n",
       "    }\n",
       "</style>\n",
       "<table border=\"1\" class=\"dataframe\">\n",
       "  <thead>\n",
       "    <tr style=\"text-align: right;\">\n",
       "      <th></th>\n",
       "      <th>Unnamed: 0</th>\n",
       "      <th>Unnamed: 0.1</th>\n",
       "      <th>title</th>\n",
       "      <th>abstract</th>\n",
       "      <th>categories</th>\n",
       "      <th>id</th>\n",
       "      <th>doi</th>\n",
       "    </tr>\n",
       "    <tr>\n",
       "      <th>created</th>\n",
       "      <th></th>\n",
       "      <th></th>\n",
       "      <th></th>\n",
       "      <th></th>\n",
       "      <th></th>\n",
       "      <th></th>\n",
       "      <th></th>\n",
       "    </tr>\n",
       "  </thead>\n",
       "  <tbody>\n",
       "    <tr>\n",
       "      <th>2018-10-22</th>\n",
       "      <td>34071</td>\n",
       "      <td>34071</td>\n",
       "      <td>Identifying Tidal Disruption Events via Prior ...</td>\n",
       "      <td>A nuclear transient detected in a post-starbur...</td>\n",
       "      <td>['astro-ph.GA']</td>\n",
       "      <td>1810.1</td>\n",
       "      <td>NaN</td>\n",
       "    </tr>\n",
       "    <tr>\n",
       "      <th>2018-10-30</th>\n",
       "      <td>34432</td>\n",
       "      <td>34432</td>\n",
       "      <td>Towards a radially-resolved semi-analytic mode...</td>\n",
       "      <td>We present a flexible, detailed model for the ...</td>\n",
       "      <td>['astro-ph.GA']</td>\n",
       "      <td>1810.13</td>\n",
       "      <td>NaN</td>\n",
       "    </tr>\n",
       "    <tr>\n",
       "      <th>2018-11-07</th>\n",
       "      <td>34838</td>\n",
       "      <td>34838</td>\n",
       "      <td>Forging new worlds: high-resolution synthetic ...</td>\n",
       "      <td>Astronomy of the 21st century finds itself wit...</td>\n",
       "      <td>['astro-ph.IM', 'astro-ph.GA', 'cs.LG', 'stat....</td>\n",
       "      <td>1811.03</td>\n",
       "      <td>NaN</td>\n",
       "    </tr>\n",
       "    <tr>\n",
       "      <th>2018-11-08</th>\n",
       "      <td>34930</td>\n",
       "      <td>34930</td>\n",
       "      <td>Machine learning Applied to Star-Galaxy-QSO Cl...</td>\n",
       "      <td>In modern astrophysics, the machine learning h...</td>\n",
       "      <td>['astro-ph.GA', 'astro-ph.IM', 'astro-ph.SR']</td>\n",
       "      <td>1811.04</td>\n",
       "      <td>NaN</td>\n",
       "    </tr>\n",
       "    <tr>\n",
       "      <th>2018-11-09</th>\n",
       "      <td>34933</td>\n",
       "      <td>34933</td>\n",
       "      <td>Finding high-redshift strong lenses in DES usi...</td>\n",
       "      <td>We search Dark Energy Survey (DES) Year 3 imag...</td>\n",
       "      <td>['astro-ph.GA', 'astro-ph.IM']</td>\n",
       "      <td>1811.04</td>\n",
       "      <td>NaN</td>\n",
       "    </tr>\n",
       "  </tbody>\n",
       "</table>\n",
       "</div>"
      ],
      "text/plain": [
       "            Unnamed: 0  Unnamed: 0.1  \\\n",
       "created                                \n",
       "2018-10-22       34071         34071   \n",
       "2018-10-30       34432         34432   \n",
       "2018-11-07       34838         34838   \n",
       "2018-11-08       34930         34930   \n",
       "2018-11-09       34933         34933   \n",
       "\n",
       "                                                        title  \\\n",
       "created                                                         \n",
       "2018-10-22  Identifying Tidal Disruption Events via Prior ...   \n",
       "2018-10-30  Towards a radially-resolved semi-analytic mode...   \n",
       "2018-11-07  Forging new worlds: high-resolution synthetic ...   \n",
       "2018-11-08  Machine learning Applied to Star-Galaxy-QSO Cl...   \n",
       "2018-11-09  Finding high-redshift strong lenses in DES usi...   \n",
       "\n",
       "                                                     abstract  \\\n",
       "created                                                         \n",
       "2018-10-22  A nuclear transient detected in a post-starbur...   \n",
       "2018-10-30  We present a flexible, detailed model for the ...   \n",
       "2018-11-07  Astronomy of the 21st century finds itself wit...   \n",
       "2018-11-08  In modern astrophysics, the machine learning h...   \n",
       "2018-11-09  We search Dark Energy Survey (DES) Year 3 imag...   \n",
       "\n",
       "                                                   categories       id  doi  \n",
       "created                                                                      \n",
       "2018-10-22                                    ['astro-ph.GA']   1810.1  NaN  \n",
       "2018-10-30                                    ['astro-ph.GA']  1810.13  NaN  \n",
       "2018-11-07  ['astro-ph.IM', 'astro-ph.GA', 'cs.LG', 'stat....  1811.03  NaN  \n",
       "2018-11-08      ['astro-ph.GA', 'astro-ph.IM', 'astro-ph.SR']  1811.04  NaN  \n",
       "2018-11-09                     ['astro-ph.GA', 'astro-ph.IM']  1811.04  NaN  "
      ]
     },
     "execution_count": 41,
     "metadata": {},
     "output_type": "execute_result"
    }
   ],
   "source": [
    "# How many of them are about galaxy\n",
    "print(\"How many of them are about galaxy: {:.3g}\".format(\n",
    "    len(df_nn[df_nn.abstract.str.contains(\"galaxy\")]) / len(df_nn)\n",
    "))\n",
    "df_nn[df_nn.abstract.str.contains(\"galaxy\")].tail()"
   ]
  },
  {
   "cell_type": "markdown",
   "metadata": {},
   "source": [
    "## Paper number through time"
   ]
  },
  {
   "cell_type": "code",
   "execution_count": 33,
   "metadata": {},
   "outputs": [
    {
     "data": {
      "text/plain": [
       "Text(0.5,1,'Neural Net and Machine Learning Related Papers in Astro-ph')"
      ]
     },
     "execution_count": 33,
     "metadata": {},
     "output_type": "execute_result"
    },
    {
     "data": {
      "image/png": "[encoded data removed]",
      "text/plain": [
       "<Figure size 720x360 with 1 Axes>"
      ]
     },
     "metadata": {},
     "output_type": "display_data"
    }
   ],
   "source": [
    "# Paper about neural net, ml, dl in astro-ph\n",
    "df_nn.resample(\"Y\").title.count().plot(label=\"nn+ml+dl\")\n",
    "df_nn[df_nn.abstract.str.contains(\"galaxy\")].resample(\"Y\").title.count().plot(label=\"nn+ml+dl+galaxy\")\n",
    "plt.legend()\n",
    "plt.title(\"Neural Net and Machine Learning Related Papers in Astro-ph\")"
   ]
  },
  {
   "cell_type": "markdown",
   "metadata": {},
   "source": [
    "## Category"
   ]
  },
  {
   "cell_type": "code",
   "execution_count": 24,
   "metadata": {},
   "outputs": [],
   "source": [
    "import itertools\n",
    "from collections import Counter\n",
    "import re\n",
    "\n",
    "all_category = list(itertools.chain.from_iterable(\n",
    "    df_nn.categories.apply(\n",
    "        lambda x: re.sub(r\"[\\[\\]' ]\", \"\", x).split(\",\") \n",
    "    ).values\n",
    "))"
   ]
  },
  {
   "cell_type": "code",
   "execution_count": 25,
   "metadata": {},
   "outputs": [
    {
     "data": {
      "text/plain": [
       "[('astro-ph.IM', 208),\n",
       " ('astro-ph.CO', 112),\n",
       " ('astro-ph', 88),\n",
       " ('astro-ph.GA', 79),\n",
       " ('astro-ph.SR', 63),\n",
       " ('astro-ph.HE', 32),\n",
       " ('cs.LG', 30),\n",
       " ('astro-ph.EP', 21),\n",
       " ('stat.ML', 19),\n",
       " ('physics.data-an', 16),\n",
       " ('cs.CV', 15),\n",
       " ('gr-qc', 11),\n",
       " ('cs.NE', 8),\n",
       " ('hep-ph', 7),\n",
       " ('cs.AI', 6)]"
      ]
     },
     "execution_count": 25,
     "metadata": {},
     "output_type": "execute_result"
    }
   ],
   "source": [
    "one_gram_category = Counter(all_category).most_common(15)\n",
    "one_gram_category"
   ]
  },
  {
   "cell_type": "code",
   "execution_count": 26,
   "metadata": {},
   "outputs": [
    {
     "data": {
      "application/vnd.vegalite.v2+json": {
       "$schema": "https://vega.github.io/schema/vega-lite/v2.4.3.json",
       "config": {
        "view": {
         "height": 300,
         "width": 400
        }
       },
       "data": {
        "values": [
         {
          "category": "astro-ph.IM",
          "count": 208
         },
         {
          "category": "astro-ph.CO",
          "count": 112
         },
         {
          "category": "astro-ph",
          "count": 88
         },
         {
          "category": "astro-ph.GA",
          "count": 79
         },
         {
          "category": "astro-ph.SR",
          "count": 63
         },
         {
          "category": "astro-ph.HE",
          "count": 32
         },
         {
          "category": "cs.LG",
          "count": 30
         },
         {
          "category": "astro-ph.EP",
          "count": 21
         },
         {
          "category": "stat.ML",
          "count": 19
         },
         {
          "category": "physics.data-an",
          "count": 16
         },
         {
          "category": "cs.CV",
          "count": 15
         },
         {
          "category": "gr-qc",
          "count": 11
         },
         {
          "category": "cs.NE",
          "count": 8
         },
         {
          "category": "hep-ph",
          "count": 7
         },
         {
          "category": "cs.AI",
          "count": 6
         }
        ]
       },
       "encoding": {
        "x": {
         "field": "count",
         "type": "quantitative"
        },
        "y": {
         "field": "category",
         "sort": {
          "field": "freq",
          "op": "sum",
          "order": "ascending"
         },
         "type": "nominal"
        }
       },
       "mark": "bar"
      },
      "image/png": "[encoded data removed]",
      "text/plain": [
       "<VegaLite 2 object>\n",
       "\n",
       "If you see this message, it means the renderer has not been properly enabled\n",
       "for the frontend that you are using. For more information, see\n",
       "https://altair-viz.github.io/user_guide/troubleshooting.html\n"
      ]
     },
     "execution_count": 26,
     "metadata": {},
     "output_type": "execute_result"
    }
   ],
   "source": [
    "data = pd.DataFrame(one_gram_category, columns=[\"category\", \"count\"])\n",
    "\n",
    "alt.Chart(data).mark_bar().encode(\n",
    "    x='count',\n",
    "    y=alt.Y('category', sort=alt.SortField(field=\"freq\", op=\"sum\", order=\"ascending\")), \n",
    ")"
   ]
  },
  {
   "cell_type": "markdown",
   "metadata": {},
   "source": [
    "## N-Grams on Abstract"
   ]
  },
  {
   "cell_type": "code",
   "execution_count": 27,
   "metadata": {},
   "outputs": [],
   "source": [
    "# concat all string into one big string\n",
    "all_abstract = \"\".join(df_nn.abstract)\n",
    "all_abstract = all_abstract.lower()\n",
    "all_abstract = re.sub(\n",
    "    r\"(at |using| with |which |have |of |the |and |in |from |to |for |by |such |on |as |a |has |been |We |present |find |In |this |Sky |Survey |is |used |an |not |only |are |also |that |The |or |will |be |we )\", \n",
    "    \"\", \n",
    "    all_abstract, \n",
    ")\n",
    "all_abstract = re.sub(r\"  \", \" \", all_abstract, )\n",
    "all_abstract = all_abstract.split(\" \")\n",
    "\n",
    "# ngrams\n",
    "one_gram_abstract    = Counter(all_abstract)\n",
    "two_grams_abstract   = Counter(zip(all_abstract, all_abstract[1:]))\n",
    "three_grams_abstract = Counter(zip(all_abstract, all_abstract[1:], all_abstract[2:]))"
   ]
  },
  {
   "cell_type": "code",
   "execution_count": 28,
   "metadata": {},
   "outputs": [
    {
     "data": {
      "application/vnd.vegalite.v2+json": {
       "$schema": "https://vega.github.io/schema/vega-lite/v2.4.3.json",
       "config": {
        "view": {
         "height": 300,
         "width": 400
        }
       },
       "data": {
        "values": [
         {
          "count": 315,
          "one_gram_abstract": "learning"
         },
         {
          "count": 284,
          "one_gram_abstract": "neural"
         },
         {
          "count": 268,
          "one_gram_abstract": "machine"
         },
         {
          "count": 237,
          "one_gram_abstract": "our"
         },
         {
          "count": 179,
          "one_gram_abstract": "network"
         },
         {
          "count": 172,
          "one_gram_abstract": "galaxy"
         },
         {
          "count": 170,
          "one_gram_abstract": "method"
         },
         {
          "count": 161,
          "one_gram_abstract": "it"
         },
         {
          "count": 157,
          "one_gram_abstract": "these"
         },
         {
          "count": 148,
          "one_gram_abstract": "results"
         },
         {
          "count": 147,
          "one_gram_abstract": "photometric"
         },
         {
          "count": 145,
          "one_gram_abstract": "training"
         },
         {
          "count": 143,
          "one_gram_abstract": "new"
         },
         {
          "count": 138,
          "one_gram_abstract": "based"
         },
         {
          "count": 138,
          "one_gram_abstract": "networks"
         },
         {
          "count": 135,
          "one_gram_abstract": "galaxies"
         },
         {
          "count": 129,
          "one_gram_abstract": "large"
         },
         {
          "count": 127,
          "one_gram_abstract": "survey"
         },
         {
          "count": 127,
          "one_gram_abstract": "model"
         },
         {
          "count": 123,
          "one_gram_abstract": "redshift"
         }
        ]
       },
       "encoding": {
        "x": {
         "field": "count",
         "type": "quantitative"
        },
        "y": {
         "field": "one_gram_abstract",
         "sort": {
          "field": "freq",
          "op": "sum",
          "order": "ascending"
         },
         "type": "nominal"
        }
       },
       "mark": "bar"
      },
      "image/png": "[encoded data removed]",
      "text/plain": [
       "<VegaLite 2 object>\n",
       "\n",
       "If you see this message, it means the renderer has not been properly enabled\n",
       "for the frontend that you are using. For more information, see\n",
       "https://altair-viz.github.io/user_guide/troubleshooting.html\n"
      ]
     },
     "execution_count": 28,
     "metadata": {},
     "output_type": "execute_result"
    }
   ],
   "source": [
    "# 1-gram\n",
    "one_gram_abstract.most_common(20)\n",
    "\n",
    "data = pd.DataFrame(one_gram_abstract.most_common(20), columns=[\"one_gram_abstract\", \"count\"])\n",
    "\n",
    "alt.Chart(data).mark_bar().encode(\n",
    "    x='count',\n",
    "    y=alt.Y('one_gram_abstract', sort=alt.SortField(field=\"freq\", op=\"sum\", order=\"ascending\")), \n",
    ")"
   ]
  },
  {
   "cell_type": "code",
   "execution_count": 29,
   "metadata": {},
   "outputs": [
    {
     "data": {
      "application/vnd.vegalite.v2+json": {
       "$schema": "https://vega.github.io/schema/vega-lite/v2.4.3.json",
       "config": {
        "view": {
         "height": 300,
         "width": 400
        }
       },
       "data": {
        "values": [
         {
          "count": 206,
          "two_grams_abstract": [
           "machine",
           "learning"
          ]
         },
         {
          "count": 102,
          "two_grams_abstract": [
           "neural",
           "network"
          ]
         },
         {
          "count": 87,
          "two_grams_abstract": [
           "neural",
           "networks"
          ]
         },
         {
          "count": 54,
          "two_grams_abstract": [
           "artificial",
           "neural"
          ]
         },
         {
          "count": 35,
          "two_grams_abstract": [
           "sky",
           "survey"
          ]
         },
         {
          "count": 32,
          "two_grams_abstract": [
           "convolutional",
           "neural"
          ]
         },
         {
          "count": 29,
          "two_grams_abstract": [
           "photometric",
           "redshift"
          ]
         },
         {
          "count": 26,
          "two_grams_abstract": [
           "photometric",
           "redshifts"
          ]
         },
         {
          "count": 25,
          "two_grams_abstract": [
           "training",
           "set"
          ]
         },
         {
          "count": 25,
          "two_grams_abstract": [
           "our",
           "method"
          ]
         },
         {
          "count": 22,
          "two_grams_abstract": [
           "light",
           "curve"
          ]
         },
         {
          "count": 22,
          "two_grams_abstract": [
           "deep",
           "learning"
          ]
         },
         {
          "count": 20,
          "two_grams_abstract": [
           "learning",
           "techniques"
          ]
         },
         {
          "count": 20,
          "two_grams_abstract": [
           "our",
           "results"
          ]
         },
         {
          "count": 19,
          "two_grams_abstract": [
           "slodigital",
           "sky"
          ]
         },
         {
          "count": 19,
          "two_grams_abstract": [
           "et",
           "al."
          ]
         },
         {
          "count": 18,
          "two_grams_abstract": [
           "random",
           "forest"
          ]
         },
         {
          "count": 18,
          "two_grams_abstract": [
           "learning",
           "algorithms"
          ]
         },
         {
          "count": 17,
          "two_grams_abstract": [
           "learning",
           "methods"
          ]
         },
         {
          "count": 17,
          "two_grams_abstract": [
           "neural",
           "networks,"
          ]
         }
        ]
       },
       "encoding": {
        "x": {
         "field": "count",
         "type": "quantitative"
        },
        "y": {
         "field": "two_grams_abstract",
         "sort": {
          "field": "freq",
          "op": "sum",
          "order": "ascending"
         },
         "type": "nominal"
        }
       },
       "mark": "bar"
      },
      "image/png": "[encoded data removed]",
      "text/plain": [
       "<VegaLite 2 object>\n",
       "\n",
       "If you see this message, it means the renderer has not been properly enabled\n",
       "for the frontend that you are using. For more information, see\n",
       "https://altair-viz.github.io/user_guide/troubleshooting.html\n"
      ]
     },
     "execution_count": 29,
     "metadata": {},
     "output_type": "execute_result"
    }
   ],
   "source": [
    "# 2-grams\n",
    "two_grams_abstract.most_common(20)\n",
    "\n",
    "data = pd.DataFrame(two_grams_abstract.most_common(20), columns=[\"two_grams_abstract\", \"count\"])\n",
    "\n",
    "alt.Chart(data).mark_bar().encode(\n",
    "    x='count',\n",
    "    y=alt.Y('two_grams_abstract', sort=alt.SortField(field=\"freq\", op=\"sum\", order=\"ascending\")), \n",
    ")"
   ]
  },
  {
   "cell_type": "code",
   "execution_count": 42,
   "metadata": {},
   "outputs": [
    {
     "data": {
      "application/vnd.vegalite.v2+json": {
       "$schema": "https://vega.github.io/schema/vega-lite/v2.4.3.json",
       "config": {
        "view": {
         "height": 300,
         "width": 400
        }
       },
       "data": {
        "values": [
         {
          "count": 19,
          "three_grams_abstract": [
           "artificial",
           "neural",
           "networks"
          ]
         },
         {
          "count": 16,
          "three_grams_abstract": [
           "artificial",
           "neural",
           "network"
          ]
         },
         {
          "count": 15,
          "three_grams_abstract": [
           "convolutional",
           "neural",
           "networks"
          ]
         },
         {
          "count": 14,
          "three_grams_abstract": [
           "slodigital",
           "sky",
           "survey"
          ]
         },
         {
          "count": 13,
          "three_grams_abstract": [
           "machine",
           "learning",
           "techniques"
          ]
         },
         {
          "count": 11,
          "three_grams_abstract": [
           "machine",
           "learning",
           "methods"
          ]
         },
         {
          "count": 11,
          "three_grams_abstract": [
           "machine",
           "learning",
           "algorithms"
          ]
         },
         {
          "count": 10,
          "three_grams_abstract": [
           "machine",
           "learning",
           "algorithm"
          ]
         },
         {
          "count": 10,
          "three_grams_abstract": [
           "convolutional",
           "neural",
           "network"
          ]
         },
         {
          "count": 9,
          "three_grams_abstract": [
           "neural",
           "network",
           "(ann)"
          ]
         },
         {
          "count": 8,
          "three_grams_abstract": [
           "cosmic",
           "microwave",
           "background"
          ]
         },
         {
          "count": 8,
          "three_grams_abstract": [
           "machine",
           "learning",
           "(ml)"
          ]
         },
         {
          "count": 8,
          "three_grams_abstract": [
           "large",
           "synoptic",
           "survey"
          ]
         },
         {
          "count": 7,
          "three_grams_abstract": [
           "machine",
           "learning",
           "methods."
          ]
         },
         {
          "count": 7,
          "three_grams_abstract": [
           "dark",
           "energy",
           "survey"
          ]
         },
         {
          "count": 7,
          "three_grams_abstract": [
           "machine",
           "learning",
           "approach"
          ]
         },
         {
          "count": 7,
          "three_grams_abstract": [
           "supervised",
           "machine",
           "learning"
          ]
         },
         {
          "count": 6,
          "three_grams_abstract": [
           "sky",
           "survey",
           "(sdss)"
          ]
         },
         {
          "count": 6,
          "three_grams_abstract": [
           "deep",
           "convolutional",
           "neural"
          ]
         },
         {
          "count": 5,
          "three_grams_abstract": [
           "based",
           "artificial",
           "neural"
          ]
         }
        ]
       },
       "encoding": {
        "x": {
         "field": "count",
         "type": "quantitative"
        },
        "y": {
         "field": "three_grams_abstract",
         "sort": {
          "field": "freq",
          "op": "sum",
          "order": "ascending"
         },
         "type": "nominal"
        }
       },
       "mark": "bar"
      },
      "image/png": "[encoded data removed]",
      "text/plain": [
       "<VegaLite 2 object>\n",
       "\n",
       "If you see this message, it means the renderer has not been properly enabled\n",
       "for the frontend that you are using. For more information, see\n",
       "https://altair-viz.github.io/user_guide/troubleshooting.html\n"
      ]
     },
     "execution_count": 42,
     "metadata": {},
     "output_type": "execute_result"
    }
   ],
   "source": [
    "# 3-grams\n",
    "three_grams_abstract.most_common(20)\n",
    "\n",
    "data = pd.DataFrame(three_grams_abstract.most_common(20), columns=[\"three_grams_abstract\", \"count\"])\n",
    "\n",
    "alt.Chart(data).mark_bar().encode(\n",
    "    x='count',\n",
    "    y=alt.Y('three_grams_abstract', sort=alt.SortField(field=\"freq\", op=\"sum\", order=\"ascending\")), \n",
    ")"
   ]
  },
  {
   "cell_type": "markdown",
   "metadata": {},
   "source": [
    "## Neural Network Type\n",
    "\n",
    "It is interesting to see what type of the NN has been used most often."
   ]
  },
  {
   "cell_type": "code",
   "execution_count": 60,
   "metadata": {},
   "outputs": [
    {
     "data": {
      "text/html": [
       "<div>\n",
       "<style scoped>\n",
       "    .dataframe tbody tr th:only-of-type {\n",
       "        vertical-align: middle;\n",
       "    }\n",
       "\n",
       "    .dataframe tbody tr th {\n",
       "        vertical-align: top;\n",
       "    }\n",
       "\n",
       "    .dataframe thead th {\n",
       "        text-align: right;\n",
       "    }\n",
       "</style>\n",
       "<table border=\"1\" class=\"dataframe\">\n",
       "  <thead>\n",
       "    <tr style=\"text-align: right;\">\n",
       "      <th></th>\n",
       "      <th>Unnamed: 0</th>\n",
       "      <th>title</th>\n",
       "      <th>abstract</th>\n",
       "      <th>categories</th>\n",
       "      <th>created</th>\n",
       "      <th>id</th>\n",
       "      <th>doi</th>\n",
       "    </tr>\n",
       "  </thead>\n",
       "  <tbody>\n",
       "    <tr>\n",
       "      <th>19251</th>\n",
       "      <td>19251</td>\n",
       "      <td>Increasing Lifetime of Recurrent Sunspot Group...</td>\n",
       "      <td>Long-lived (&gt;20 days) sunspot groups extracted...</td>\n",
       "      <td>['astro-ph.SR']</td>\n",
       "      <td>2009-07-24</td>\n",
       "      <td>0907.4274</td>\n",
       "      <td>10.1007/s11207-009-9419-5</td>\n",
       "    </tr>\n",
       "    <tr>\n",
       "      <th>29501</th>\n",
       "      <td>29501</td>\n",
       "      <td>Deep Learning for Image Sequence Classificatio...</td>\n",
       "      <td>We propose a new sequential classification mod...</td>\n",
       "      <td>['astro-ph.IM']</td>\n",
       "      <td>2018-07-10</td>\n",
       "      <td>1807.04</td>\n",
       "      <td>NaN</td>\n",
       "    </tr>\n",
       "    <tr>\n",
       "      <th>30467</th>\n",
       "      <td>30467</td>\n",
       "      <td>Analyzing interferometric observations of stro...</td>\n",
       "      <td>We use convolutional neural networks (CNNs) an...</td>\n",
       "      <td>['astro-ph.IM']</td>\n",
       "      <td>2018-07-31</td>\n",
       "      <td>1808</td>\n",
       "      <td>NaN</td>\n",
       "    </tr>\n",
       "    <tr>\n",
       "      <th>31581</th>\n",
       "      <td>31581</td>\n",
       "      <td>Detecting Radio Frequency Interference in radi...</td>\n",
       "      <td>Signal artefacts due to Radio Frequency Interf...</td>\n",
       "      <td>['astro-ph.IM']</td>\n",
       "      <td>2018-08-29</td>\n",
       "      <td>1808.1</td>\n",
       "      <td>10.1002/asna.201813505</td>\n",
       "    </tr>\n",
       "    <tr>\n",
       "      <th>33703</th>\n",
       "      <td>33703</td>\n",
       "      <td>Improved Photometric Classification of Superno...</td>\n",
       "      <td>We present improved photometric supernovae cla...</td>\n",
       "      <td>['astro-ph.IM']</td>\n",
       "      <td>2018-10-15</td>\n",
       "      <td>1810.06</td>\n",
       "      <td>NaN</td>\n",
       "    </tr>\n",
       "  </tbody>\n",
       "</table>\n",
       "</div>"
      ],
      "text/plain": [
       "       Unnamed: 0                                              title  \\\n",
       "19251       19251  Increasing Lifetime of Recurrent Sunspot Group...   \n",
       "29501       29501  Deep Learning for Image Sequence Classificatio...   \n",
       "30467       30467  Analyzing interferometric observations of stro...   \n",
       "31581       31581  Detecting Radio Frequency Interference in radi...   \n",
       "33703       33703  Improved Photometric Classification of Superno...   \n",
       "\n",
       "                                                abstract       categories  \\\n",
       "19251  Long-lived (>20 days) sunspot groups extracted...  ['astro-ph.SR']   \n",
       "29501  We propose a new sequential classification mod...  ['astro-ph.IM']   \n",
       "30467  We use convolutional neural networks (CNNs) an...  ['astro-ph.IM']   \n",
       "31581  Signal artefacts due to Radio Frequency Interf...  ['astro-ph.IM']   \n",
       "33703  We present improved photometric supernovae cla...  ['astro-ph.IM']   \n",
       "\n",
       "          created         id                        doi  \n",
       "19251  2009-07-24  0907.4274  10.1007/s11207-009-9419-5  \n",
       "29501  2018-07-10    1807.04                        NaN  \n",
       "30467  2018-07-31       1808                        NaN  \n",
       "31581  2018-08-29     1808.1     10.1002/asna.201813505  \n",
       "33703  2018-10-15    1810.06                        NaN  "
      ]
     },
     "execution_count": 60,
     "metadata": {},
     "output_type": "execute_result"
    }
   ],
   "source": [
    "df_nn[df_nn.abstract.apply(lambda x : \"recurrent\" in x)]"
   ]
  },
  {
   "cell_type": "code",
   "execution_count": 72,
   "metadata": {},
   "outputs": [
    {
     "data": {
      "text/html": [
       "<div>\n",
       "<style scoped>\n",
       "    .dataframe tbody tr th:only-of-type {\n",
       "        vertical-align: middle;\n",
       "    }\n",
       "\n",
       "    .dataframe tbody tr th {\n",
       "        vertical-align: top;\n",
       "    }\n",
       "\n",
       "    .dataframe thead th {\n",
       "        text-align: right;\n",
       "    }\n",
       "</style>\n",
       "<table border=\"1\" class=\"dataframe\">\n",
       "  <thead>\n",
       "    <tr style=\"text-align: right;\">\n",
       "      <th></th>\n",
       "      <th>Unnamed: 0</th>\n",
       "      <th>title</th>\n",
       "      <th>abstract</th>\n",
       "      <th>categories</th>\n",
       "      <th>created</th>\n",
       "      <th>id</th>\n",
       "      <th>doi</th>\n",
       "    </tr>\n",
       "  </thead>\n",
       "  <tbody>\n",
       "    <tr>\n",
       "      <th>81437</th>\n",
       "      <td>81437</td>\n",
       "      <td>Spectral classification using convolutional ne...</td>\n",
       "      <td>There is a great need for accurate and autonom...</td>\n",
       "      <td>['cs.CV', 'astro-ph.IM', 'cs.NE']</td>\n",
       "      <td>2014-12-29</td>\n",
       "      <td>1412.83</td>\n",
       "      <td>NaN</td>\n",
       "    </tr>\n",
       "    <tr>\n",
       "      <th>105730</th>\n",
       "      <td>105730</td>\n",
       "      <td>Star-galaxy Classification Using Deep Convolut...</td>\n",
       "      <td>Most existing star-galaxy classifiers use the ...</td>\n",
       "      <td>['astro-ph.IM', 'astro-ph.CO', 'astro-ph.GA', ...</td>\n",
       "      <td>2016-08-15</td>\n",
       "      <td>1608.04</td>\n",
       "      <td>10.1093/mnras/stw2672</td>\n",
       "    </tr>\n",
       "    <tr>\n",
       "      <th>21894</th>\n",
       "      <td>21894</td>\n",
       "      <td>Radio Galaxy Zoo: Compact and extended radio s...</td>\n",
       "      <td>Machine learning techniques have been increasi...</td>\n",
       "      <td>['astro-ph.IM']</td>\n",
       "      <td>2018-01-15</td>\n",
       "      <td>1801.05</td>\n",
       "      <td>10.1093/mnras/sty163</td>\n",
       "    </tr>\n",
       "    <tr>\n",
       "      <th>22788</th>\n",
       "      <td>22788</td>\n",
       "      <td>Non-Gaussian information from weak lensing dat...</td>\n",
       "      <td>Weak lensing maps contain information beyond t...</td>\n",
       "      <td>['astro-ph.CO', 'cs.LG', 'stat.ML']</td>\n",
       "      <td>2018-02-04</td>\n",
       "      <td>1802.01</td>\n",
       "      <td>10.1103/PhysRevD.97.103515</td>\n",
       "    </tr>\n",
       "    <tr>\n",
       "      <th>23080</th>\n",
       "      <td>23080</td>\n",
       "      <td>The Strong Gravitational Lens Finding Challenge</td>\n",
       "      <td>Large scale imaging surveys will increase the ...</td>\n",
       "      <td>['astro-ph.GA', 'astro-ph.CO', 'astro-ph.IM']</td>\n",
       "      <td>2018-02-10</td>\n",
       "      <td>1802.04</td>\n",
       "      <td>NaN</td>\n",
       "    </tr>\n",
       "    <tr>\n",
       "      <th>23443</th>\n",
       "      <td>23443</td>\n",
       "      <td>Deep Learning Classification in Asteroseismolo...</td>\n",
       "      <td>Deep learning in the form of 1D convolutional ...</td>\n",
       "      <td>['astro-ph.IM', 'astro-ph.SR']</td>\n",
       "      <td>2018-02-20</td>\n",
       "      <td>1802.07</td>\n",
       "      <td>10.1093/mnras/sty483</td>\n",
       "    </tr>\n",
       "    <tr>\n",
       "      <th>23634</th>\n",
       "      <td>23634</td>\n",
       "      <td>Muon Hunter: a Zooniverse project</td>\n",
       "      <td>The large datasets and often low signal-to-noi...</td>\n",
       "      <td>['astro-ph.IM', 'astro-ph.HE', 'physics.data-an']</td>\n",
       "      <td>2018-02-24</td>\n",
       "      <td>1802.09</td>\n",
       "      <td>NaN</td>\n",
       "    </tr>\n",
       "    <tr>\n",
       "      <th>24043</th>\n",
       "      <td>24043</td>\n",
       "      <td>Lunar Crater Identification via Deep Learning</td>\n",
       "      <td>Crater counting on the Moon and other bodies i...</td>\n",
       "      <td>['astro-ph.EP']</td>\n",
       "      <td>2018-03-06</td>\n",
       "      <td>1803.02</td>\n",
       "      <td>10.1016/j.icarus.2018.06.022</td>\n",
       "    </tr>\n",
       "    <tr>\n",
       "      <th>24149</th>\n",
       "      <td>24149</td>\n",
       "      <td>Applying Deep Learning to Fast Radio Burst Cla...</td>\n",
       "      <td>Upcoming Fast Radio Burst (FRB) surveys will s...</td>\n",
       "      <td>['astro-ph.IM', 'astro-ph.HE']</td>\n",
       "      <td>2018-03-08</td>\n",
       "      <td>1803.03</td>\n",
       "      <td>NaN</td>\n",
       "    </tr>\n",
       "    <tr>\n",
       "      <th>24286</th>\n",
       "      <td>24286</td>\n",
       "      <td>Particle Identification In Camera Image Sensor...</td>\n",
       "      <td>We present a deep learning, computer vision al...</td>\n",
       "      <td>['astro-ph.IM', 'physics.data-an']</td>\n",
       "      <td>2018-03-12</td>\n",
       "      <td>1803.04</td>\n",
       "      <td>10.1016/j.astropartphys.2018.08.009</td>\n",
       "    </tr>\n",
       "    <tr>\n",
       "      <th>24449</th>\n",
       "      <td>24449</td>\n",
       "      <td>Characterizing the velocity of a wandering bla...</td>\n",
       "      <td>We present a method for estimating the velocit...</td>\n",
       "      <td>['astro-ph.HE']</td>\n",
       "      <td>2018-03-15</td>\n",
       "      <td>1803.06</td>\n",
       "      <td>10.1103/PhysRevD.97.063001</td>\n",
       "    </tr>\n",
       "    <tr>\n",
       "      <th>24884</th>\n",
       "      <td>24884</td>\n",
       "      <td>Image-based deep learning for classification o...</td>\n",
       "      <td>The detection of gravitational waves has inaug...</td>\n",
       "      <td>['gr-qc', 'astro-ph.IM', 'cs.CV']</td>\n",
       "      <td>2018-03-27</td>\n",
       "      <td>1803.1</td>\n",
       "      <td>10.1088/1361-6382/aab793</td>\n",
       "    </tr>\n",
       "    <tr>\n",
       "      <th>26551</th>\n",
       "      <td>26551</td>\n",
       "      <td>Searching for hot subdwarf stars from the LAMO...</td>\n",
       "      <td>Hot subdwarf stars are core He burning stars l...</td>\n",
       "      <td>['astro-ph.IM']</td>\n",
       "      <td>2018-05-04</td>\n",
       "      <td>1805.02</td>\n",
       "      <td>NaN</td>\n",
       "    </tr>\n",
       "    <tr>\n",
       "      <th>26655</th>\n",
       "      <td>26655</td>\n",
       "      <td>Deep learning from 21-cm images of the Cosmic ...</td>\n",
       "      <td>The 21-cm power spectrum (PS) has been shown t...</td>\n",
       "      <td>['astro-ph.CO']</td>\n",
       "      <td>2018-05-07</td>\n",
       "      <td>1805.03</td>\n",
       "      <td>NaN</td>\n",
       "    </tr>\n",
       "    <tr>\n",
       "      <th>27538</th>\n",
       "      <td>27538</td>\n",
       "      <td>Using transfer learning to detect galaxy mergers</td>\n",
       "      <td>We investigate the use of deep convolutional n...</td>\n",
       "      <td>['astro-ph.IM', 'cs.LG']</td>\n",
       "      <td>2018-05-25</td>\n",
       "      <td>1805.1</td>\n",
       "      <td>10.1093/mnras/sty1398</td>\n",
       "    </tr>\n",
       "    <tr>\n",
       "      <th>28391</th>\n",
       "      <td>28391</td>\n",
       "      <td>Learning from deep learning: better cosmologic...</td>\n",
       "      <td>Gravitational weak lensing is one of the most ...</td>\n",
       "      <td>['astro-ph.CO']</td>\n",
       "      <td>2018-06-15</td>\n",
       "      <td>1806.06</td>\n",
       "      <td>NaN</td>\n",
       "    </tr>\n",
       "    <tr>\n",
       "      <th>29257</th>\n",
       "      <td>29257</td>\n",
       "      <td>The SPectral Image Typer (SPIT)</td>\n",
       "      <td>We present the Spectral Image Typer (SPIT), a ...</td>\n",
       "      <td>['astro-ph.IM']</td>\n",
       "      <td>2018-07-04</td>\n",
       "      <td>1807.02</td>\n",
       "      <td>NaN</td>\n",
       "    </tr>\n",
       "    <tr>\n",
       "      <th>29357</th>\n",
       "      <td>29357</td>\n",
       "      <td>DeepSource: Point Source Detection using Deep ...</td>\n",
       "      <td>Point source detection at low signal-to-noise ...</td>\n",
       "      <td>['astro-ph.IM', 'cs.CV', 'cs.LG', 'hep-ph', 's...</td>\n",
       "      <td>2018-07-07</td>\n",
       "      <td>1807.03</td>\n",
       "      <td>NaN</td>\n",
       "    </tr>\n",
       "    <tr>\n",
       "      <th>29501</th>\n",
       "      <td>29501</td>\n",
       "      <td>Deep Learning for Image Sequence Classificatio...</td>\n",
       "      <td>We propose a new sequential classification mod...</td>\n",
       "      <td>['astro-ph.IM']</td>\n",
       "      <td>2018-07-10</td>\n",
       "      <td>1807.04</td>\n",
       "      <td>NaN</td>\n",
       "    </tr>\n",
       "    <tr>\n",
       "      <th>29716</th>\n",
       "      <td>29716</td>\n",
       "      <td>Visualizing the Hidden Features of Galaxy Morp...</td>\n",
       "      <td>We train three convolutional neural networks (...</td>\n",
       "      <td>['astro-ph.GA', 'astro-ph.IM']</td>\n",
       "      <td>2018-07-15</td>\n",
       "      <td>1807.06</td>\n",
       "      <td>NaN</td>\n",
       "    </tr>\n",
       "    <tr>\n",
       "      <th>30354</th>\n",
       "      <td>30354</td>\n",
       "      <td>Detecting solar system objects with convolutio...</td>\n",
       "      <td>In the preparation for ESA's Euclid mission an...</td>\n",
       "      <td>['astro-ph.IM', 'astro-ph.EP']</td>\n",
       "      <td>2018-07-28</td>\n",
       "      <td>1807.11</td>\n",
       "      <td>NaN</td>\n",
       "    </tr>\n",
       "    <tr>\n",
       "      <th>30467</th>\n",
       "      <td>30467</td>\n",
       "      <td>Analyzing interferometric observations of stro...</td>\n",
       "      <td>We use convolutional neural networks (CNNs) an...</td>\n",
       "      <td>['astro-ph.IM']</td>\n",
       "      <td>2018-07-31</td>\n",
       "      <td>1808</td>\n",
       "      <td>NaN</td>\n",
       "    </tr>\n",
       "    <tr>\n",
       "      <th>31356</th>\n",
       "      <td>31356</td>\n",
       "      <td>Weak lensing shear estimation beyond the shape...</td>\n",
       "      <td>Weak lensing shear estimation typically result...</td>\n",
       "      <td>['astro-ph.CO']</td>\n",
       "      <td>2018-08-22</td>\n",
       "      <td>1808.07</td>\n",
       "      <td>NaN</td>\n",
       "    </tr>\n",
       "    <tr>\n",
       "      <th>31602</th>\n",
       "      <td>31602</td>\n",
       "      <td>QuasarNET: Human-level spectral classification...</td>\n",
       "      <td>We introduce QuasarNET, a deep convolutional n...</td>\n",
       "      <td>['astro-ph.IM', 'astro-ph.CO', 'astro-ph.GA', ...</td>\n",
       "      <td>2018-08-29</td>\n",
       "      <td>1808.1</td>\n",
       "      <td>NaN</td>\n",
       "    </tr>\n",
       "    <tr>\n",
       "      <th>31942</th>\n",
       "      <td>31942</td>\n",
       "      <td>Galaxy detection and identification using deep...</td>\n",
       "      <td>We present a method for automatic detection an...</td>\n",
       "      <td>['astro-ph.IM']</td>\n",
       "      <td>2018-09-05</td>\n",
       "      <td>1809.02</td>\n",
       "      <td>NaN</td>\n",
       "    </tr>\n",
       "    <tr>\n",
       "      <th>32069</th>\n",
       "      <td>32069</td>\n",
       "      <td>Fast Radio Burst 121102 Pulse Detection and Pe...</td>\n",
       "      <td>We report the detection of 72 new pulses from ...</td>\n",
       "      <td>['astro-ph.HE', 'astro-ph.IM']</td>\n",
       "      <td>2018-09-09</td>\n",
       "      <td>1809.03</td>\n",
       "      <td>10.3847/1538-4357/aadf31</td>\n",
       "    </tr>\n",
       "    <tr>\n",
       "      <th>33039</th>\n",
       "      <td>33039</td>\n",
       "      <td>Extracting gamma-ray information from images w...</td>\n",
       "      <td>The Cherenkov Telescope Array (CTA) will be th...</td>\n",
       "      <td>['astro-ph.IM']</td>\n",
       "      <td>2018-10-01</td>\n",
       "      <td>1810.01</td>\n",
       "      <td>10.1007/978-3-319-99978-4</td>\n",
       "    </tr>\n",
       "    <tr>\n",
       "      <th>33149</th>\n",
       "      <td>33149</td>\n",
       "      <td>DeepCMB: Lensing Reconstruction of the Cosmic ...</td>\n",
       "      <td>Next-generation cosmic microwave background (C...</td>\n",
       "      <td>['astro-ph.CO', 'cs.CV']</td>\n",
       "      <td>2018-10-02</td>\n",
       "      <td>1810.01</td>\n",
       "      <td>NaN</td>\n",
       "    </tr>\n",
       "    <tr>\n",
       "      <th>33906</th>\n",
       "      <td>33906</td>\n",
       "      <td>Multiband galaxy morphologies for CLASH: a con...</td>\n",
       "      <td>We present visual-like morphologies over 16 ph...</td>\n",
       "      <td>['astro-ph.IM']</td>\n",
       "      <td>2018-10-17</td>\n",
       "      <td>1810.08</td>\n",
       "      <td>NaN</td>\n",
       "    </tr>\n",
       "    <tr>\n",
       "      <th>33936</th>\n",
       "      <td>33936</td>\n",
       "      <td>Machine Learning Applied to the Reionization H...</td>\n",
       "      <td>The Epoch of Reionization (EoR) features a ric...</td>\n",
       "      <td>['astro-ph.CO']</td>\n",
       "      <td>2018-10-18</td>\n",
       "      <td>1810.08</td>\n",
       "      <td>NaN</td>\n",
       "    </tr>\n",
       "    <tr>\n",
       "      <th>34046</th>\n",
       "      <td>34046</td>\n",
       "      <td>Deep multi-survey classification of variable s...</td>\n",
       "      <td>During the last decade, a considerable amount ...</td>\n",
       "      <td>['astro-ph.IM', 'cs.LG', 'stat.ML']</td>\n",
       "      <td>2018-10-21</td>\n",
       "      <td>1810.09</td>\n",
       "      <td>10.1093/mnras/sty2836</td>\n",
       "    </tr>\n",
       "    <tr>\n",
       "      <th>34255</th>\n",
       "      <td>34255</td>\n",
       "      <td>Distinguishing standard and modified gravity c...</td>\n",
       "      <td>We present a convolutional neural network to i...</td>\n",
       "      <td>['astro-ph.CO']</td>\n",
       "      <td>2018-10-25</td>\n",
       "      <td>1810.11</td>\n",
       "      <td>NaN</td>\n",
       "    </tr>\n",
       "    <tr>\n",
       "      <th>34324</th>\n",
       "      <td>34324</td>\n",
       "      <td>Inferring Cosmic String Tension through the Ne...</td>\n",
       "      <td>In references [1, 2] we constructed a convolut...</td>\n",
       "      <td>['astro-ph.CO', 'gr-qc', 'hep-ph', 'hep-th']</td>\n",
       "      <td>2018-10-28</td>\n",
       "      <td>1810.12</td>\n",
       "      <td>NaN</td>\n",
       "    </tr>\n",
       "    <tr>\n",
       "      <th>34427</th>\n",
       "      <td>34427</td>\n",
       "      <td>Using convolutional neural networks to predict...</td>\n",
       "      <td>We train a deep residual convolutional neural ...</td>\n",
       "      <td>['astro-ph.GA']</td>\n",
       "      <td>2018-10-30</td>\n",
       "      <td>1810.13</td>\n",
       "      <td>NaN</td>\n",
       "    </tr>\n",
       "    <tr>\n",
       "      <th>34495</th>\n",
       "      <td>34495</td>\n",
       "      <td>Scientific Domain Knowledge Improves Exoplanet...</td>\n",
       "      <td>Space missions such as Kepler, and soon TESS, ...</td>\n",
       "      <td>['astro-ph.EP']</td>\n",
       "      <td>2018-10-31</td>\n",
       "      <td>1810.13</td>\n",
       "      <td>NaN</td>\n",
       "    </tr>\n",
       "    <tr>\n",
       "      <th>34933</th>\n",
       "      <td>34933</td>\n",
       "      <td>Finding high-redshift strong lenses in DES usi...</td>\n",
       "      <td>We search Dark Energy Survey (DES) Year 3 imag...</td>\n",
       "      <td>['astro-ph.GA', 'astro-ph.IM']</td>\n",
       "      <td>2018-11-09</td>\n",
       "      <td>1811.04</td>\n",
       "      <td>NaN</td>\n",
       "    </tr>\n",
       "  </tbody>\n",
       "</table>\n",
       "</div>"
      ],
      "text/plain": [
       "        Unnamed: 0                                              title  \\\n",
       "81437        81437  Spectral classification using convolutional ne...   \n",
       "105730      105730  Star-galaxy Classification Using Deep Convolut...   \n",
       "21894        21894  Radio Galaxy Zoo: Compact and extended radio s...   \n",
       "22788        22788  Non-Gaussian information from weak lensing dat...   \n",
       "23080        23080    The Strong Gravitational Lens Finding Challenge   \n",
       "23443        23443  Deep Learning Classification in Asteroseismolo...   \n",
       "23634        23634                  Muon Hunter: a Zooniverse project   \n",
       "24043        24043      Lunar Crater Identification via Deep Learning   \n",
       "24149        24149  Applying Deep Learning to Fast Radio Burst Cla...   \n",
       "24286        24286  Particle Identification In Camera Image Sensor...   \n",
       "24449        24449  Characterizing the velocity of a wandering bla...   \n",
       "24884        24884  Image-based deep learning for classification o...   \n",
       "26551        26551  Searching for hot subdwarf stars from the LAMO...   \n",
       "26655        26655  Deep learning from 21-cm images of the Cosmic ...   \n",
       "27538        27538   Using transfer learning to detect galaxy mergers   \n",
       "28391        28391  Learning from deep learning: better cosmologic...   \n",
       "29257        29257                    The SPectral Image Typer (SPIT)   \n",
       "29357        29357  DeepSource: Point Source Detection using Deep ...   \n",
       "29501        29501  Deep Learning for Image Sequence Classificatio...   \n",
       "29716        29716  Visualizing the Hidden Features of Galaxy Morp...   \n",
       "30354        30354  Detecting solar system objects with convolutio...   \n",
       "30467        30467  Analyzing interferometric observations of stro...   \n",
       "31356        31356  Weak lensing shear estimation beyond the shape...   \n",
       "31602        31602  QuasarNET: Human-level spectral classification...   \n",
       "31942        31942  Galaxy detection and identification using deep...   \n",
       "32069        32069  Fast Radio Burst 121102 Pulse Detection and Pe...   \n",
       "33039        33039  Extracting gamma-ray information from images w...   \n",
       "33149        33149  DeepCMB: Lensing Reconstruction of the Cosmic ...   \n",
       "33906        33906  Multiband galaxy morphologies for CLASH: a con...   \n",
       "33936        33936  Machine Learning Applied to the Reionization H...   \n",
       "34046        34046  Deep multi-survey classification of variable s...   \n",
       "34255        34255  Distinguishing standard and modified gravity c...   \n",
       "34324        34324  Inferring Cosmic String Tension through the Ne...   \n",
       "34427        34427  Using convolutional neural networks to predict...   \n",
       "34495        34495  Scientific Domain Knowledge Improves Exoplanet...   \n",
       "34933        34933  Finding high-redshift strong lenses in DES usi...   \n",
       "\n",
       "                                                 abstract  \\\n",
       "81437   There is a great need for accurate and autonom...   \n",
       "105730  Most existing star-galaxy classifiers use the ...   \n",
       "21894   Machine learning techniques have been increasi...   \n",
       "22788   Weak lensing maps contain information beyond t...   \n",
       "23080   Large scale imaging surveys will increase the ...   \n",
       "23443   Deep learning in the form of 1D convolutional ...   \n",
       "23634   The large datasets and often low signal-to-noi...   \n",
       "24043   Crater counting on the Moon and other bodies i...   \n",
       "24149   Upcoming Fast Radio Burst (FRB) surveys will s...   \n",
       "24286   We present a deep learning, computer vision al...   \n",
       "24449   We present a method for estimating the velocit...   \n",
       "24884   The detection of gravitational waves has inaug...   \n",
       "26551   Hot subdwarf stars are core He burning stars l...   \n",
       "26655   The 21-cm power spectrum (PS) has been shown t...   \n",
       "27538   We investigate the use of deep convolutional n...   \n",
       "28391   Gravitational weak lensing is one of the most ...   \n",
       "29257   We present the Spectral Image Typer (SPIT), a ...   \n",
       "29357   Point source detection at low signal-to-noise ...   \n",
       "29501   We propose a new sequential classification mod...   \n",
       "29716   We train three convolutional neural networks (...   \n",
       "30354   In the preparation for ESA's Euclid mission an...   \n",
       "30467   We use convolutional neural networks (CNNs) an...   \n",
       "31356   Weak lensing shear estimation typically result...   \n",
       "31602   We introduce QuasarNET, a deep convolutional n...   \n",
       "31942   We present a method for automatic detection an...   \n",
       "32069   We report the detection of 72 new pulses from ...   \n",
       "33039   The Cherenkov Telescope Array (CTA) will be th...   \n",
       "33149   Next-generation cosmic microwave background (C...   \n",
       "33906   We present visual-like morphologies over 16 ph...   \n",
       "33936   The Epoch of Reionization (EoR) features a ric...   \n",
       "34046   During the last decade, a considerable amount ...   \n",
       "34255   We present a convolutional neural network to i...   \n",
       "34324   In references [1, 2] we constructed a convolut...   \n",
       "34427   We train a deep residual convolutional neural ...   \n",
       "34495   Space missions such as Kepler, and soon TESS, ...   \n",
       "34933   We search Dark Energy Survey (DES) Year 3 imag...   \n",
       "\n",
       "                                               categories    created       id  \\\n",
       "81437                   ['cs.CV', 'astro-ph.IM', 'cs.NE'] 2014-12-29  1412.83   \n",
       "105730  ['astro-ph.IM', 'astro-ph.CO', 'astro-ph.GA', ... 2016-08-15  1608.04   \n",
       "21894                                     ['astro-ph.IM'] 2018-01-15  1801.05   \n",
       "22788                 ['astro-ph.CO', 'cs.LG', 'stat.ML'] 2018-02-04  1802.01   \n",
       "23080       ['astro-ph.GA', 'astro-ph.CO', 'astro-ph.IM'] 2018-02-10  1802.04   \n",
       "23443                      ['astro-ph.IM', 'astro-ph.SR'] 2018-02-20  1802.07   \n",
       "23634   ['astro-ph.IM', 'astro-ph.HE', 'physics.data-an'] 2018-02-24  1802.09   \n",
       "24043                                     ['astro-ph.EP'] 2018-03-06  1803.02   \n",
       "24149                      ['astro-ph.IM', 'astro-ph.HE'] 2018-03-08  1803.03   \n",
       "24286                  ['astro-ph.IM', 'physics.data-an'] 2018-03-12  1803.04   \n",
       "24449                                     ['astro-ph.HE'] 2018-03-15  1803.06   \n",
       "24884                   ['gr-qc', 'astro-ph.IM', 'cs.CV'] 2018-03-27   1803.1   \n",
       "26551                                     ['astro-ph.IM'] 2018-05-04  1805.02   \n",
       "26655                                     ['astro-ph.CO'] 2018-05-07  1805.03   \n",
       "27538                            ['astro-ph.IM', 'cs.LG'] 2018-05-25   1805.1   \n",
       "28391                                     ['astro-ph.CO'] 2018-06-15  1806.06   \n",
       "29257                                     ['astro-ph.IM'] 2018-07-04  1807.02   \n",
       "29357   ['astro-ph.IM', 'cs.CV', 'cs.LG', 'hep-ph', 's... 2018-07-07  1807.03   \n",
       "29501                                     ['astro-ph.IM'] 2018-07-10  1807.04   \n",
       "29716                      ['astro-ph.GA', 'astro-ph.IM'] 2018-07-15  1807.06   \n",
       "30354                      ['astro-ph.IM', 'astro-ph.EP'] 2018-07-28  1807.11   \n",
       "30467                                     ['astro-ph.IM'] 2018-07-31     1808   \n",
       "31356                                     ['astro-ph.CO'] 2018-08-22  1808.07   \n",
       "31602   ['astro-ph.IM', 'astro-ph.CO', 'astro-ph.GA', ... 2018-08-29   1808.1   \n",
       "31942                                     ['astro-ph.IM'] 2018-09-05  1809.02   \n",
       "32069                      ['astro-ph.HE', 'astro-ph.IM'] 2018-09-09  1809.03   \n",
       "33039                                     ['astro-ph.IM'] 2018-10-01  1810.01   \n",
       "33149                            ['astro-ph.CO', 'cs.CV'] 2018-10-02  1810.01   \n",
       "33906                                     ['astro-ph.IM'] 2018-10-17  1810.08   \n",
       "33936                                     ['astro-ph.CO'] 2018-10-18  1810.08   \n",
       "34046                 ['astro-ph.IM', 'cs.LG', 'stat.ML'] 2018-10-21  1810.09   \n",
       "34255                                     ['astro-ph.CO'] 2018-10-25  1810.11   \n",
       "34324        ['astro-ph.CO', 'gr-qc', 'hep-ph', 'hep-th'] 2018-10-28  1810.12   \n",
       "34427                                     ['astro-ph.GA'] 2018-10-30  1810.13   \n",
       "34495                                     ['astro-ph.EP'] 2018-10-31  1810.13   \n",
       "34933                      ['astro-ph.GA', 'astro-ph.IM'] 2018-11-09  1811.04   \n",
       "\n",
       "                                        doi  \n",
       "81437                                   NaN  \n",
       "105730                10.1093/mnras/stw2672  \n",
       "21894                  10.1093/mnras/sty163  \n",
       "22788            10.1103/PhysRevD.97.103515  \n",
       "23080                                   NaN  \n",
       "23443                  10.1093/mnras/sty483  \n",
       "23634                                   NaN  \n",
       "24043          10.1016/j.icarus.2018.06.022  \n",
       "24149                                   NaN  \n",
       "24286   10.1016/j.astropartphys.2018.08.009  \n",
       "24449            10.1103/PhysRevD.97.063001  \n",
       "24884              10.1088/1361-6382/aab793  \n",
       "26551                                   NaN  \n",
       "26655                                   NaN  \n",
       "27538                 10.1093/mnras/sty1398  \n",
       "28391                                   NaN  \n",
       "29257                                   NaN  \n",
       "29357                                   NaN  \n",
       "29501                                   NaN  \n",
       "29716                                   NaN  \n",
       "30354                                   NaN  \n",
       "30467                                   NaN  \n",
       "31356                                   NaN  \n",
       "31602                                   NaN  \n",
       "31942                                   NaN  \n",
       "32069              10.3847/1538-4357/aadf31  \n",
       "33039             10.1007/978-3-319-99978-4  \n",
       "33149                                   NaN  \n",
       "33906                                   NaN  \n",
       "33936                                   NaN  \n",
       "34046                 10.1093/mnras/sty2836  \n",
       "34255                                   NaN  \n",
       "34324                                   NaN  \n",
       "34427                                   NaN  \n",
       "34495                                   NaN  \n",
       "34933                                   NaN  "
      ]
     },
     "execution_count": 72,
     "metadata": {},
     "output_type": "execute_result"
    }
   ],
   "source": [
    "df_nn[df_nn.abstract.apply(lambda x : \"convolutional\" in x)]"
   ]
  },
  {
   "cell_type": "code",
   "execution_count": 78,
   "metadata": {},
   "outputs": [
    {
     "data": {
      "text/html": [
       "<div>\n",
       "<style scoped>\n",
       "    .dataframe tbody tr th:only-of-type {\n",
       "        vertical-align: middle;\n",
       "    }\n",
       "\n",
       "    .dataframe tbody tr th {\n",
       "        vertical-align: top;\n",
       "    }\n",
       "\n",
       "    .dataframe thead th {\n",
       "        text-align: right;\n",
       "    }\n",
       "</style>\n",
       "<table border=\"1\" class=\"dataframe\">\n",
       "  <thead>\n",
       "    <tr style=\"text-align: right;\">\n",
       "      <th></th>\n",
       "      <th>Unnamed: 0</th>\n",
       "      <th>title</th>\n",
       "      <th>abstract</th>\n",
       "      <th>categories</th>\n",
       "      <th>created</th>\n",
       "      <th>id</th>\n",
       "      <th>doi</th>\n",
       "    </tr>\n",
       "  </thead>\n",
       "  <tbody>\n",
       "    <tr>\n",
       "      <th>34838</th>\n",
       "      <td>34838</td>\n",
       "      <td>Forging new worlds: high-resolution synthetic ...</td>\n",
       "      <td>Astronomy of the 21st century finds itself wit...</td>\n",
       "      <td>['astro-ph.IM', 'astro-ph.GA', 'cs.LG', 'stat....</td>\n",
       "      <td>2018-11-07</td>\n",
       "      <td>1811.03</td>\n",
       "      <td>NaN</td>\n",
       "    </tr>\n",
       "  </tbody>\n",
       "</table>\n",
       "</div>"
      ],
      "text/plain": [
       "       Unnamed: 0                                              title  \\\n",
       "34838       34838  Forging new worlds: high-resolution synthetic ...   \n",
       "\n",
       "                                                abstract  \\\n",
       "34838  Astronomy of the 21st century finds itself wit...   \n",
       "\n",
       "                                              categories    created       id  \\\n",
       "34838  ['astro-ph.IM', 'astro-ph.GA', 'cs.LG', 'stat.... 2018-11-07  1811.03   \n",
       "\n",
       "       doi  \n",
       "34838  NaN  "
      ]
     },
     "execution_count": 78,
     "metadata": {},
     "output_type": "execute_result"
    }
   ],
   "source": [
    "df_nn[df_nn.abstract.apply(lambda x : \"adversarial\" in x)]"
   ]
  },
  {
   "cell_type": "code",
   "execution_count": null,
   "metadata": {},
   "outputs": [],
   "source": []
  }
 ],
 "metadata": {
  "kernelspec": {
   "display_name": "Python 3",
   "language": "python",
   "name": "python3"
  },
  "language_info": {
   "codemirror_mode": {
    "name": "ipython",
    "version": 3
   },
   "file_extension": ".py",
   "mimetype": "text/x-python",
   "name": "python",
   "nbconvert_exporter": "python",
   "pygments_lexer": "ipython3",
   "version": "3.6.1"
  }
 },
 "nbformat": 4,
 "nbformat_minor": 2
}
