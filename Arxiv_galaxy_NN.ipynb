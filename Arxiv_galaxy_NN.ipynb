{
 "cells": [
  {
   "cell_type": "code",
   "execution_count": 32,
   "metadata": {},
   "outputs": [],
   "source": [
    "from bs4 import BeautifulSoup\n",
    "from matplotlib import pyplot as plt\n",
    "import pandas as pd\n",
    "import numpy as np\n",
    "import urllib\n",
    "import time\n",
    "\n",
    "%matplotlib inline\n",
    "\n",
    "import altair as alt\n",
    "\n",
    "# using xml tool to scrape\n",
    "import xml.etree.ElementTree as ET\n",
    "\n",
    "import matplotlib\n",
    "import matplotlib.pyplot as plt\n",
    "from cycler import cycler\n",
    "matplotlib.rc(\"font\", family=\"serif\", size=14)\n",
    "matplotlib.rc(\"figure\", figsize=\"10, 5\")"
   ]
  },
  {
   "cell_type": "markdown",
   "metadata": {},
   "source": [
    "# Galaxy NN in Arxiv"
   ]
  },
  {
   "cell_type": "code",
   "execution_count": 4,
   "metadata": {},
   "outputs": [],
   "source": [
    "from arxiv_harvest import harvest"
   ]
  },
  {
   "cell_type": "code",
   "execution_count": null,
   "metadata": {},
   "outputs": [],
   "source": [
    "# fetch all arxiv astro-ph metadata\n",
    "df = harvest(\n",
    "    arxiv=\"physics:astro-ph\", \n",
    "    start_date=\"2010-01-01\", \n",
    "    end_date=\"2018-11-15\",\n",
    "    output_filename=\"df_astro_10-18.csv\"\n",
    ")"
   ]
  },
  {
   "cell_type": "code",
   "execution_count": 5,
   "metadata": {},
   "outputs": [],
   "source": [
    "df = pd.read_csv(\"df_astro_10-18.csv\")"
   ]
  },
  {
   "cell_type": "markdown",
   "metadata": {},
   "source": [
    "## Read data \n",
    "\n",
    "Skip this part if you don't have my original data, just use the `df_astro_00-18.csv`."
   ]
  },
  {
   "cell_type": "code",
   "execution_count": null,
   "metadata": {},
   "outputs": [],
   "source": [
    "# concat different phases of \n",
    "df = pd.concat(\n",
    "    [\n",
    "        pd.read_csv(\"df_astro_00-10.csv\"), \n",
    "        pd.read_csv(\"df_astro_10-18.csv\"),\n",
    "        pd.read_csv(\"df_astro_18-18.csv\"),\n",
    "        pd.read_csv(\"df_astro_16-18.csv\"),\n",
    "        pd.read_csv(\"df_astro_16-18m.csv\"),\n",
    "        pd.read_csv(\"df_astro_17-18.csv\"),\n",
    "    ], \n",
    "    axis=0\n",
    ")\n",
    "\n",
    "# drop duplicate papers\n",
    "df = df.drop_duplicates(subset=['title'], keep=\"first\")"
   ]
  },
  {
   "cell_type": "code",
   "execution_count": 51,
   "metadata": {},
   "outputs": [],
   "source": [
    "df.to_csv(\"df_astro_00-18.csv\")"
   ]
  },
  {
   "cell_type": "markdown",
   "metadata": {},
   "source": [
    "## Everything about NN"
   ]
  },
  {
   "cell_type": "code",
   "execution_count": 62,
   "metadata": {},
   "outputs": [],
   "source": [
    "df = pd.read_csv(\n",
    "    \"df_astro_00-18.csv\", parse_dates=True, index_col=\"created\"\n",
    ")"
   ]
  },
  {
   "cell_type": "code",
   "execution_count": 63,
   "metadata": {},
   "outputs": [
    {
     "data": {
      "text/html": [
       "<div>\n",
       "<style scoped>\n",
       "    .dataframe tbody tr th:only-of-type {\n",
       "        vertical-align: middle;\n",
       "    }\n",
       "\n",
       "    .dataframe tbody tr th {\n",
       "        vertical-align: top;\n",
       "    }\n",
       "\n",
       "    .dataframe thead th {\n",
       "        text-align: right;\n",
       "    }\n",
       "</style>\n",
       "<table border=\"1\" class=\"dataframe\">\n",
       "  <thead>\n",
       "    <tr style=\"text-align: right;\">\n",
       "      <th></th>\n",
       "      <th>Unnamed: 0</th>\n",
       "      <th>Unnamed: 0.1</th>\n",
       "      <th>title</th>\n",
       "      <th>abstract</th>\n",
       "      <th>categories</th>\n",
       "      <th>id</th>\n",
       "      <th>doi</th>\n",
       "    </tr>\n",
       "    <tr>\n",
       "      <th>created</th>\n",
       "      <th></th>\n",
       "      <th></th>\n",
       "      <th></th>\n",
       "      <th></th>\n",
       "      <th></th>\n",
       "      <th></th>\n",
       "      <th></th>\n",
       "    </tr>\n",
       "  </thead>\n",
       "  <tbody>\n",
       "    <tr>\n",
       "      <th>2018-11-08</th>\n",
       "      <td>34881</td>\n",
       "      <td>34881</td>\n",
       "      <td>Bayesian Deep Learning for Exoplanet Atmospher...</td>\n",
       "      <td>Over the past decade, the study of exoplanets ...</td>\n",
       "      <td>['astro-ph.EP', 'cs.LG']</td>\n",
       "      <td>1811.0339</td>\n",
       "      <td>NaN</td>\n",
       "    </tr>\n",
       "    <tr>\n",
       "      <th>2018-11-08</th>\n",
       "      <td>34912</td>\n",
       "      <td>34912</td>\n",
       "      <td>Deep Learning Applied to the Asteroseismic Mod...</td>\n",
       "      <td>We develop a novel method based on machine lea...</td>\n",
       "      <td>['astro-ph.SR']</td>\n",
       "      <td>1811.0363899999998</td>\n",
       "      <td>NaN</td>\n",
       "    </tr>\n",
       "    <tr>\n",
       "      <th>2018-11-08</th>\n",
       "      <td>34930</td>\n",
       "      <td>34930</td>\n",
       "      <td>Machine learning Applied to Star-Galaxy-QSO Cl...</td>\n",
       "      <td>In modern astrophysics, the machine learning h...</td>\n",
       "      <td>['astro-ph.GA', 'astro-ph.IM', 'astro-ph.SR']</td>\n",
       "      <td>1811.0374</td>\n",
       "      <td>NaN</td>\n",
       "    </tr>\n",
       "    <tr>\n",
       "      <th>2018-11-09</th>\n",
       "      <td>34933</td>\n",
       "      <td>34933</td>\n",
       "      <td>Finding high-redshift strong lenses in DES usi...</td>\n",
       "      <td>We search Dark Energy Survey (DES) Year 3 imag...</td>\n",
       "      <td>['astro-ph.GA', 'astro-ph.IM']</td>\n",
       "      <td>1811.0378600000001</td>\n",
       "      <td>NaN</td>\n",
       "    </tr>\n",
       "    <tr>\n",
       "      <th>2018-11-09</th>\n",
       "      <td>34940</td>\n",
       "      <td>34940</td>\n",
       "      <td>Classification of gravitational-wave glitches ...</td>\n",
       "      <td>We present a new method for the classification...</td>\n",
       "      <td>['astro-ph.IM', 'gr-qc']</td>\n",
       "      <td>1811.03867</td>\n",
       "      <td>NaN</td>\n",
       "    </tr>\n",
       "  </tbody>\n",
       "</table>\n",
       "</div>"
      ],
      "text/plain": [
       "            Unnamed: 0  Unnamed: 0.1  \\\n",
       "created                                \n",
       "2018-11-08       34881         34881   \n",
       "2018-11-08       34912         34912   \n",
       "2018-11-08       34930         34930   \n",
       "2018-11-09       34933         34933   \n",
       "2018-11-09       34940         34940   \n",
       "\n",
       "                                                        title  \\\n",
       "created                                                         \n",
       "2018-11-08  Bayesian Deep Learning for Exoplanet Atmospher...   \n",
       "2018-11-08  Deep Learning Applied to the Asteroseismic Mod...   \n",
       "2018-11-08  Machine learning Applied to Star-Galaxy-QSO Cl...   \n",
       "2018-11-09  Finding high-redshift strong lenses in DES usi...   \n",
       "2018-11-09  Classification of gravitational-wave glitches ...   \n",
       "\n",
       "                                                     abstract  \\\n",
       "created                                                         \n",
       "2018-11-08  Over the past decade, the study of exoplanets ...   \n",
       "2018-11-08  We develop a novel method based on machine lea...   \n",
       "2018-11-08  In modern astrophysics, the machine learning h...   \n",
       "2018-11-09  We search Dark Energy Survey (DES) Year 3 imag...   \n",
       "2018-11-09  We present a new method for the classification...   \n",
       "\n",
       "                                               categories                  id  \\\n",
       "created                                                                         \n",
       "2018-11-08                       ['astro-ph.EP', 'cs.LG']           1811.0339   \n",
       "2018-11-08                                ['astro-ph.SR']  1811.0363899999998   \n",
       "2018-11-08  ['astro-ph.GA', 'astro-ph.IM', 'astro-ph.SR']           1811.0374   \n",
       "2018-11-09                 ['astro-ph.GA', 'astro-ph.IM']  1811.0378600000001   \n",
       "2018-11-09                       ['astro-ph.IM', 'gr-qc']          1811.03867   \n",
       "\n",
       "            doi  \n",
       "created          \n",
       "2018-11-08  NaN  \n",
       "2018-11-08  NaN  \n",
       "2018-11-08  NaN  \n",
       "2018-11-09  NaN  \n",
       "2018-11-09  NaN  "
      ]
     },
     "execution_count": 63,
     "metadata": {},
     "output_type": "execute_result"
    }
   ],
   "source": [
    "df_nn = df[\n",
    "    df.abstract.str.contains(\"neural network\") | \n",
    "    df.abstract.str.contains(\"machine learning\") |\n",
    "    df.abstract.str.contains(\"deep learning\")\n",
    "]\n",
    "df_nn.tail()"
   ]
  },
  {
   "cell_type": "code",
   "execution_count": 64,
   "metadata": {},
   "outputs": [
    {
     "name": "stdout",
     "output_type": "stream",
     "text": [
      "Number of total astro-ph papers from arxiv API 2010 - 2018: 184382\n",
      "The ratio of neural net or machine learning papers in astro-ph: 0.00139\n"
     ]
    }
   ],
   "source": [
    "# ratio of neural network in the astro-ph\n",
    "print(\"Number of total astro-ph papers from arxiv API 2010 - 2018:\", len(df))\n",
    "print(\"The ratio of neural net or machine learning papers in astro-ph: {:.3g}\".format(len(df_nn) / len(df)))"
   ]
  },
  {
   "cell_type": "code",
   "execution_count": 65,
   "metadata": {},
   "outputs": [
    {
     "name": "stdout",
     "output_type": "stream",
     "text": [
      "How many of them are about galaxy: 0.273\n"
     ]
    },
    {
     "data": {
      "text/html": [
       "<div>\n",
       "<style scoped>\n",
       "    .dataframe tbody tr th:only-of-type {\n",
       "        vertical-align: middle;\n",
       "    }\n",
       "\n",
       "    .dataframe tbody tr th {\n",
       "        vertical-align: top;\n",
       "    }\n",
       "\n",
       "    .dataframe thead th {\n",
       "        text-align: right;\n",
       "    }\n",
       "</style>\n",
       "<table border=\"1\" class=\"dataframe\">\n",
       "  <thead>\n",
       "    <tr style=\"text-align: right;\">\n",
       "      <th></th>\n",
       "      <th>Unnamed: 0</th>\n",
       "      <th>Unnamed: 0.1</th>\n",
       "      <th>title</th>\n",
       "      <th>abstract</th>\n",
       "      <th>categories</th>\n",
       "      <th>id</th>\n",
       "      <th>doi</th>\n",
       "    </tr>\n",
       "    <tr>\n",
       "      <th>created</th>\n",
       "      <th></th>\n",
       "      <th></th>\n",
       "      <th></th>\n",
       "      <th></th>\n",
       "      <th></th>\n",
       "      <th></th>\n",
       "      <th></th>\n",
       "    </tr>\n",
       "  </thead>\n",
       "  <tbody>\n",
       "    <tr>\n",
       "      <th>1996-09-10</th>\n",
       "      <td>49421</td>\n",
       "      <td>49421</td>\n",
       "      <td>Quantitative Morphology of Moderate Redshift G...</td>\n",
       "      <td>The advent of the Hubble Space Telescope (HST)...</td>\n",
       "      <td>['astro-ph']</td>\n",
       "      <td>astro-ph/9609075</td>\n",
       "      <td>10.1086/303661</td>\n",
       "    </tr>\n",
       "    <tr>\n",
       "      <th>2018-10-30</th>\n",
       "      <td>34432</td>\n",
       "      <td>34432</td>\n",
       "      <td>Towards a radially-resolved semi-analytic mode...</td>\n",
       "      <td>We present a flexible, detailed model for the ...</td>\n",
       "      <td>['astro-ph.GA']</td>\n",
       "      <td>1810.1291899999999</td>\n",
       "      <td>NaN</td>\n",
       "    </tr>\n",
       "    <tr>\n",
       "      <th>2018-11-07</th>\n",
       "      <td>34838</td>\n",
       "      <td>34838</td>\n",
       "      <td>Forging new worlds: high-resolution synthetic ...</td>\n",
       "      <td>Astronomy of the 21st century finds itself wit...</td>\n",
       "      <td>['astro-ph.IM', 'astro-ph.GA', 'cs.LG', 'stat....</td>\n",
       "      <td>1811.0308100000002</td>\n",
       "      <td>NaN</td>\n",
       "    </tr>\n",
       "    <tr>\n",
       "      <th>2018-11-08</th>\n",
       "      <td>34930</td>\n",
       "      <td>34930</td>\n",
       "      <td>Machine learning Applied to Star-Galaxy-QSO Cl...</td>\n",
       "      <td>In modern astrophysics, the machine learning h...</td>\n",
       "      <td>['astro-ph.GA', 'astro-ph.IM', 'astro-ph.SR']</td>\n",
       "      <td>1811.0374</td>\n",
       "      <td>NaN</td>\n",
       "    </tr>\n",
       "    <tr>\n",
       "      <th>2018-11-09</th>\n",
       "      <td>34933</td>\n",
       "      <td>34933</td>\n",
       "      <td>Finding high-redshift strong lenses in DES usi...</td>\n",
       "      <td>We search Dark Energy Survey (DES) Year 3 imag...</td>\n",
       "      <td>['astro-ph.GA', 'astro-ph.IM']</td>\n",
       "      <td>1811.0378600000001</td>\n",
       "      <td>NaN</td>\n",
       "    </tr>\n",
       "  </tbody>\n",
       "</table>\n",
       "</div>"
      ],
      "text/plain": [
       "            Unnamed: 0  Unnamed: 0.1  \\\n",
       "created                                \n",
       "1996-09-10       49421         49421   \n",
       "2018-10-30       34432         34432   \n",
       "2018-11-07       34838         34838   \n",
       "2018-11-08       34930         34930   \n",
       "2018-11-09       34933         34933   \n",
       "\n",
       "                                                        title  \\\n",
       "created                                                         \n",
       "1996-09-10  Quantitative Morphology of Moderate Redshift G...   \n",
       "2018-10-30  Towards a radially-resolved semi-analytic mode...   \n",
       "2018-11-07  Forging new worlds: high-resolution synthetic ...   \n",
       "2018-11-08  Machine learning Applied to Star-Galaxy-QSO Cl...   \n",
       "2018-11-09  Finding high-redshift strong lenses in DES usi...   \n",
       "\n",
       "                                                     abstract  \\\n",
       "created                                                         \n",
       "1996-09-10  The advent of the Hubble Space Telescope (HST)...   \n",
       "2018-10-30  We present a flexible, detailed model for the ...   \n",
       "2018-11-07  Astronomy of the 21st century finds itself wit...   \n",
       "2018-11-08  In modern astrophysics, the machine learning h...   \n",
       "2018-11-09  We search Dark Energy Survey (DES) Year 3 imag...   \n",
       "\n",
       "                                                   categories  \\\n",
       "created                                                         \n",
       "1996-09-10                                       ['astro-ph']   \n",
       "2018-10-30                                    ['astro-ph.GA']   \n",
       "2018-11-07  ['astro-ph.IM', 'astro-ph.GA', 'cs.LG', 'stat....   \n",
       "2018-11-08      ['astro-ph.GA', 'astro-ph.IM', 'astro-ph.SR']   \n",
       "2018-11-09                     ['astro-ph.GA', 'astro-ph.IM']   \n",
       "\n",
       "                            id             doi  \n",
       "created                                         \n",
       "1996-09-10    astro-ph/9609075  10.1086/303661  \n",
       "2018-10-30  1810.1291899999999             NaN  \n",
       "2018-11-07  1811.0308100000002             NaN  \n",
       "2018-11-08           1811.0374             NaN  \n",
       "2018-11-09  1811.0378600000001             NaN  "
      ]
     },
     "execution_count": 65,
     "metadata": {},
     "output_type": "execute_result"
    }
   ],
   "source": [
    "# How many of them are about galaxy\n",
    "print(\"How many of them are about galaxy: {:.3g}\".format(\n",
    "    len(df_nn[df_nn.abstract.str.contains(\"galaxy\")]) / len(df_nn)\n",
    "))\n",
    "df_nn[df_nn.abstract.str.contains(\"galaxy\")].tail()"
   ]
  },
  {
   "cell_type": "markdown",
   "metadata": {},
   "source": [
    "## Paper number through time"
   ]
  },
  {
   "cell_type": "code",
   "execution_count": 66,
   "metadata": {},
   "outputs": [
    {
     "data": {
      "text/plain": [
       "<matplotlib.axes._subplots.AxesSubplot at 0x11ef05898>"
      ]
     },
     "execution_count": 66,
     "metadata": {},
     "output_type": "execute_result"
    },
    {
     "data": {
      "image/png": "[encoded data removed]",
      "text/plain": [
       "<Figure size 720x360 with 1 Axes>"
      ]
     },
     "metadata": {},
     "output_type": "display_data"
    }
   ],
   "source": [
    "df.resample(\"Y\").title.count().plot(label=\"nn+ml+dl\")"
   ]
  },
  {
   "cell_type": "code",
   "execution_count": 60,
   "metadata": {},
   "outputs": [
    {
     "data": {
      "text/plain": [
       "Text(0.5,1,'Neural Net and Machine Learning Related Papers in Astro-ph')"
      ]
     },
     "execution_count": 60,
     "metadata": {},
     "output_type": "execute_result"
    },
    {
     "data": {
      "image/png": "[encoded data removed]",
      "text/plain": [
       "<Figure size 720x360 with 1 Axes>"
      ]
     },
     "metadata": {},
     "output_type": "display_data"
    }
   ],
   "source": [
    "# Paper about neural net, ml, dl in astro-ph\n",
    "df_nn.resample(\"Y\").title.count().plot(label=\"nn+ml+dl\")\n",
    "df_nn[df_nn.abstract.str.contains(\"galaxy\")].resample(\"Y\").title.count().plot(label=\"nn+ml+dl+galaxy\")\n",
    "plt.legend()\n",
    "plt.title(\"Neural Net and Machine Learning Related Papers in Astro-ph\")"
   ]
  },
  {
   "cell_type": "markdown",
   "metadata": {},
   "source": [
    "## Category"
   ]
  },
  {
   "cell_type": "code",
   "execution_count": 24,
   "metadata": {},
   "outputs": [],
   "source": [
    "import itertools\n",
    "from collections import Counter\n",
    "import re\n",
    "\n",
    "all_category = list(itertools.chain.from_iterable(\n",
    "    df_nn.categories.apply(\n",
    "        lambda x: re.sub(r\"[\\[\\]' ]\", \"\", x).split(\",\") \n",
    "    ).values\n",
    "))"
   ]
  },
  {
   "cell_type": "code",
   "execution_count": 25,
   "metadata": {},
   "outputs": [
    {
     "data": {
      "text/plain": [
       "[('astro-ph.IM', 208),\n",
       " ('astro-ph.CO', 112),\n",
       " ('astro-ph', 88),\n",
       " ('astro-ph.GA', 79),\n",
       " ('astro-ph.SR', 63),\n",
       " ('astro-ph.HE', 32),\n",
       " ('cs.LG', 30),\n",
       " ('astro-ph.EP', 21),\n",
       " ('stat.ML', 19),\n",
       " ('physics.data-an', 16),\n",
       " ('cs.CV', 15),\n",
       " ('gr-qc', 11),\n",
       " ('cs.NE', 8),\n",
       " ('hep-ph', 7),\n",
       " ('cs.AI', 6)]"
      ]
     },
     "execution_count": 25,
     "metadata": {},
     "output_type": "execute_result"
    }
   ],
   "source": [
    "one_gram_category = Counter(all_category).most_common(15)\n",
    "one_gram_category"
   ]
  },
  {
   "cell_type": "code",
   "execution_count": 26,
   "metadata": {},
   "outputs": [
    {
     "data": {
      "application/vnd.vegalite.v2+json": {
       "$schema": "https://vega.github.io/schema/vega-lite/v2.4.3.json",
       "config": {
        "view": {
         "height": 300,
         "width": 400
        }
       },
       "data": {
        "values": [
         {
          "category": "astro-ph.IM",
          "count": 208
         },
         {
          "category": "astro-ph.CO",
          "count": 112
         },
         {
          "category": "astro-ph",
          "count": 88
         },
         {
          "category": "astro-ph.GA",
          "count": 79
         },
         {
          "category": "astro-ph.SR",
          "count": 63
         },
         {
          "category": "astro-ph.HE",
          "count": 32
         },
         {
          "category": "cs.LG",
          "count": 30
         },
         {
          "category": "astro-ph.EP",
          "count": 21
         },
         {
          "category": "stat.ML",
          "count": 19
         },
         {
          "category": "physics.data-an",
          "count": 16
         },
         {
          "category": "cs.CV",
          "count": 15
         },
         {
          "category": "gr-qc",
          "count": 11
         },
         {
          "category": "cs.NE",
          "count": 8
         },
         {
          "category": "hep-ph",
          "count": 7
         },
         {
          "category": "cs.AI",
          "count": 6
         }
        ]
       },
       "encoding": {
        "x": {
         "field": "count",
         "type": "quantitative"
        },
        "y": {
         "field": "category",
         "sort": {
          "field": "freq",
          "op": "sum",
          "order": "ascending"
         },
         "type": "nominal"
        }
       },
       "mark": "bar"
      },
      "image/png": "[encoded data removed]",
      "text/plain": [
       "<VegaLite 2 object>\n",
       "\n",
       "If you see this message, it means the renderer has not been properly enabled\n",
       "for the frontend that you are using. For more information, see\n",
       "https://altair-viz.github.io/user_guide/troubleshooting.html\n"
      ]
     },
     "execution_count": 26,
     "metadata": {},
     "output_type": "execute_result"
    }
   ],
   "source": [
    "data = pd.DataFrame(one_gram_category, columns=[\"category\", \"count\"])\n",
    "\n",
    "alt.Chart(data).mark_bar().encode(\n",
    "    x='count',\n",
    "    y=alt.Y('category', sort=alt.SortField(field=\"freq\", op=\"sum\", order=\"ascending\")), \n",
    ")"
   ]
  },
  {
   "cell_type": "markdown",
   "metadata": {},
   "source": [
    "## N-Grams on Abstract"
   ]
  },
  {
   "cell_type": "code",
   "execution_count": 27,
   "metadata": {},
   "outputs": [],
   "source": [
    "# concat all string into one big string\n",
    "all_abstract = \"\".join(df_nn.abstract)\n",
    "all_abstract = all_abstract.lower()\n",
    "all_abstract = re.sub(\n",
    "    r\"(at |using| with |which |have |of |the |and |in |from |to |for |by |such |on |as |a |has |been |We |present |find |In |this |Sky |Survey |is |used |an |not |only |are |also |that |The |or |will |be |we )\", \n",
    "    \"\", \n",
    "    all_abstract, \n",
    ")\n",
    "all_abstract = re.sub(r\"  \", \" \", all_abstract, )\n",
    "all_abstract = all_abstract.split(\" \")\n",
    "\n",
    "# ngrams\n",
    "one_gram_abstract    = Counter(all_abstract)\n",
    "two_grams_abstract   = Counter(zip(all_abstract, all_abstract[1:]))\n",
    "three_grams_abstract = Counter(zip(all_abstract, all_abstract[1:], all_abstract[2:]))"
   ]
  },
  {
   "cell_type": "code",
   "execution_count": 28,
   "metadata": {},
   "outputs": [
    {
     "data": {
      "application/vnd.vegalite.v2+json": {
       "$schema": "https://vega.github.io/schema/vega-lite/v2.4.3.json",
       "config": {
        "view": {
         "height": 300,
         "width": 400
        }
       },
       "data": {
        "values": [
         {
          "count": 315,
          "one_gram_abstract": "learning"
         },
         {
          "count": 284,
          "one_gram_abstract": "neural"
         },
         {
          "count": 268,
          "one_gram_abstract": "machine"
         },
         {
          "count": 237,
          "one_gram_abstract": "our"
         },
         {
          "count": 179,
          "one_gram_abstract": "network"
         },
         {
          "count": 172,
          "one_gram_abstract": "galaxy"
         },
         {
          "count": 170,
          "one_gram_abstract": "method"
         },
         {
          "count": 161,
          "one_gram_abstract": "it"
         },
         {
          "count": 157,
          "one_gram_abstract": "these"
         },
         {
          "count": 148,
          "one_gram_abstract": "results"
         },
         {
          "count": 147,
          "one_gram_abstract": "photometric"
         },
         {
          "count": 145,
          "one_gram_abstract": "training"
         },
         {
          "count": 143,
          "one_gram_abstract": "new"
         },
         {
          "count": 138,
          "one_gram_abstract": "based"
         },
         {
          "count": 138,
          "one_gram_abstract": "networks"
         },
         {
          "count": 135,
          "one_gram_abstract": "galaxies"
         },
         {
          "count": 129,
          "one_gram_abstract": "large"
         },
         {
          "count": 127,
          "one_gram_abstract": "survey"
         },
         {
          "count": 127,
          "one_gram_abstract": "model"
         },
         {
          "count": 123,
          "one_gram_abstract": "redshift"
         }
        ]
       },
       "encoding": {
        "x": {
         "field": "count",
         "type": "quantitative"
        },
        "y": {
         "field": "one_gram_abstract",
         "sort": {
          "field": "freq",
          "op": "sum",
          "order": "ascending"
         },
         "type": "nominal"
        }
       },
       "mark": "bar"
      },
      "image/png": "[encoded data removed]",
      "text/plain": [
       "<VegaLite 2 object>\n",
       "\n",
       "If you see this message, it means the renderer has not been properly enabled\n",
       "for the frontend that you are using. For more information, see\n",
       "https://altair-viz.github.io/user_guide/troubleshooting.html\n"
      ]
     },
     "execution_count": 28,
     "metadata": {},
     "output_type": "execute_result"
    }
   ],
   "source": [
    "# 1-gram\n",
    "one_gram_abstract.most_common(20)\n",
    "\n",
    "data = pd.DataFrame(one_gram_abstract.most_common(20), columns=[\"one_gram_abstract\", \"count\"])\n",
    "\n",
    "alt.Chart(data).mark_bar().encode(\n",
    "    x='count',\n",
    "    y=alt.Y('one_gram_abstract', sort=alt.SortField(field=\"freq\", op=\"sum\", order=\"ascending\")), \n",
    ")"
   ]
  },
  {
   "cell_type": "code",
   "execution_count": 29,
   "metadata": {},
   "outputs": [
    {
     "data": {
      "application/vnd.vegalite.v2+json": {
       "$schema": "https://vega.github.io/schema/vega-lite/v2.4.3.json",
       "config": {
        "view": {
         "height": 300,
         "width": 400
        }
       },
       "data": {
        "values": [
         {
          "count": 206,
          "two_grams_abstract": [
           "machine",
           "learning"
          ]
         },
         {
          "count": 102,
          "two_grams_abstract": [
           "neural",
           "network"
          ]
         },
         {
          "count": 87,
          "two_grams_abstract": [
           "neural",
           "networks"
          ]
         },
         {
          "count": 54,
          "two_grams_abstract": [
           "artificial",
           "neural"
          ]
         },
         {
          "count": 35,
          "two_grams_abstract": [
           "sky",
           "survey"
          ]
         },
         {
          "count": 32,
          "two_grams_abstract": [
           "convolutional",
           "neural"
          ]
         },
         {
          "count": 29,
          "two_grams_abstract": [
           "photometric",
           "redshift"
          ]
         },
         {
          "count": 26,
          "two_grams_abstract": [
           "photometric",
           "redshifts"
          ]
         },
         {
          "count": 25,
          "two_grams_abstract": [
           "training",
           "set"
          ]
         },
         {
          "count": 25,
          "two_grams_abstract": [
           "our",
           "method"
          ]
         },
         {
          "count": 22,
          "two_grams_abstract": [
           "light",
           "curve"
          ]
         },
         {
          "count": 22,
          "two_grams_abstract": [
           "deep",
           "learning"
          ]
         },
         {
          "count": 20,
          "two_grams_abstract": [
           "learning",
           "techniques"
          ]
         },
         {
          "count": 20,
          "two_grams_abstract": [
           "our",
           "results"
          ]
         },
         {
          "count": 19,
          "two_grams_abstract": [
           "slodigital",
           "sky"
          ]
         },
         {
          "count": 19,
          "two_grams_abstract": [
           "et",
           "al."
          ]
         },
         {
          "count": 18,
          "two_grams_abstract": [
           "random",
           "forest"
          ]
         },
         {
          "count": 18,
          "two_grams_abstract": [
           "learning",
           "algorithms"
          ]
         },
         {
          "count": 17,
          "two_grams_abstract": [
           "learning",
           "methods"
          ]
         },
         {
          "count": 17,
          "two_grams_abstract": [
           "neural",
           "networks,"
          ]
         }
        ]
       },
       "encoding": {
        "x": {
         "field": "count",
         "type": "quantitative"
        },
        "y": {
         "field": "two_grams_abstract",
         "sort": {
          "field": "freq",
          "op": "sum",
          "order": "ascending"
         },
         "type": "nominal"
        }
       },
       "mark": "bar"
      },
      "image/png": "[encoded data removed]",
      "text/plain": [
       "<VegaLite 2 object>\n",
       "\n",
       "If you see this message, it means the renderer has not been properly enabled\n",
       "for the frontend that you are using. For more information, see\n",
       "https://altair-viz.github.io/user_guide/troubleshooting.html\n"
      ]
     },
     "execution_count": 29,
     "metadata": {},
     "output_type": "execute_result"
    }
   ],
   "source": [
    "# 2-grams\n",
    "two_grams_abstract.most_common(20)\n",
    "\n",
    "data = pd.DataFrame(two_grams_abstract.most_common(20), columns=[\"two_grams_abstract\", \"count\"])\n",
    "\n",
    "alt.Chart(data).mark_bar().encode(\n",
    "    x='count',\n",
    "    y=alt.Y('two_grams_abstract', sort=alt.SortField(field=\"freq\", op=\"sum\", order=\"ascending\")), \n",
    ")"
   ]
  },
  {
   "cell_type": "code",
   "execution_count": 42,
   "metadata": {},
   "outputs": [
    {
     "data": {
      "application/vnd.vegalite.v2+json": {
       "$schema": "https://vega.github.io/schema/vega-lite/v2.4.3.json",
       "config": {
        "view": {
         "height": 300,
         "width": 400
        }
       },
       "data": {
        "values": [
         {
          "count": 19,
          "three_grams_abstract": [
           "artificial",
           "neural",
           "networks"
          ]
         },
         {
          "count": 16,
          "three_grams_abstract": [
           "artificial",
           "neural",
           "network"
          ]
         },
         {
          "count": 15,
          "three_grams_abstract": [
           "convolutional",
           "neural",
           "networks"
          ]
         },
         {
          "count": 14,
          "three_grams_abstract": [
           "slodigital",
           "sky",
           "survey"
          ]
         },
         {
          "count": 13,
          "three_grams_abstract": [
           "machine",
           "learning",
           "techniques"
          ]
         },
         {
          "count": 11,
          "three_grams_abstract": [
           "machine",
           "learning",
           "methods"
          ]
         },
         {
          "count": 11,
          "three_grams_abstract": [
           "machine",
           "learning",
           "algorithms"
          ]
         },
         {
          "count": 10,
          "three_grams_abstract": [
           "machine",
           "learning",
           "algorithm"
          ]
         },
         {
          "count": 10,
          "three_grams_abstract": [
           "convolutional",
           "neural",
           "network"
          ]
         },
         {
          "count": 9,
          "three_grams_abstract": [
           "neural",
           "network",
           "(ann)"
          ]
         },
         {
          "count": 8,
          "three_grams_abstract": [
           "cosmic",
           "microwave",
           "background"
          ]
         },
         {
          "count": 8,
          "three_grams_abstract": [
           "machine",
           "learning",
           "(ml)"
          ]
         },
         {
          "count": 8,
          "three_grams_abstract": [
           "large",
           "synoptic",
           "survey"
          ]
         },
         {
          "count": 7,
          "three_grams_abstract": [
           "machine",
           "learning",
           "methods."
          ]
         },
         {
          "count": 7,
          "three_grams_abstract": [
           "dark",
           "energy",
           "survey"
          ]
         },
         {
          "count": 7,
          "three_grams_abstract": [
           "machine",
           "learning",
           "approach"
          ]
         },
         {
          "count": 7,
          "three_grams_abstract": [
           "supervised",
           "machine",
           "learning"
          ]
         },
         {
          "count": 6,
          "three_grams_abstract": [
           "sky",
           "survey",
           "(sdss)"
          ]
         },
         {
          "count": 6,
          "three_grams_abstract": [
           "deep",
           "convolutional",
           "neural"
          ]
         },
         {
          "count": 5,
          "three_grams_abstract": [
           "based",
           "artificial",
           "neural"
          ]
         }
        ]
       },
       "encoding": {
        "x": {
         "field": "count",
         "type": "quantitative"
        },
        "y": {
         "field": "three_grams_abstract",
         "sort": {
          "field": "freq",
          "op": "sum",
          "order": "ascending"
         },
         "type": "nominal"
        }
       },
       "mark": "bar"
      },
      "image/png": "[encoded data removed]",
      "text/plain": [
       "<VegaLite 2 object>\n",
       "\n",
       "If you see this message, it means the renderer has not been properly enabled\n",
       "for the frontend that you are using. For more information, see\n",
       "https://altair-viz.github.io/user_guide/troubleshooting.html\n"
      ]
     },
     "execution_count": 42,
     "metadata": {},
     "output_type": "execute_result"
    }
   ],
   "source": [
    "# 3-grams\n",
    "three_grams_abstract.most_common(20)\n",
    "\n",
    "data = pd.DataFrame(three_grams_abstract.most_common(20), columns=[\"three_grams_abstract\", \"count\"])\n",
    "\n",
    "alt.Chart(data).mark_bar().encode(\n",
    "    x='count',\n",
    "    y=alt.Y('three_grams_abstract', sort=alt.SortField(field=\"freq\", op=\"sum\", order=\"ascending\")), \n",
    ")"
   ]
  },
  {
   "cell_type": "markdown",
   "metadata": {},
   "source": [
    "## Neural Network Type\n",
    "\n",
    "It is interesting to see what type of the NN has been used most often."
   ]
  },
  {
   "cell_type": "code",
   "execution_count": 60,
   "metadata": {},
   "outputs": [
    {
     "data": {
      "text/html": [
       "<div>\n",
       "<style scoped>\n",
       "    .dataframe tbody tr th:only-of-type {\n",
       "        vertical-align: middle;\n",
       "    }\n",
       "\n",
       "    .dataframe tbody tr th {\n",
       "        vertical-align: top;\n",
       "    }\n",
       "\n",
       "    .dataframe thead th {\n",
       "        text-align: right;\n",
       "    }\n",
       "</style>\n",
       "<table border=\"1\" class=\"dataframe\">\n",
       "  <thead>\n",
       "    <tr style=\"text-align: right;\">\n",
       "      <th></th>\n",
       "      <th>Unnamed: 0</th>\n",
       "      <th>title</th>\n",
       "      <th>abstract</th>\n",
       "      <th>categories</th>\n",
       "      <th>created</th>\n",
       "      <th>id</th>\n",
       "      <th>doi</th>\n",
       "    </tr>\n",
       "  </thead>\n",
       "  <tbody>\n",
       "    <tr>\n",
       "      <th>19251</th>\n",
       "      <td>19251</td>\n",
       "      <td>Increasing Lifetime of Recurrent Sunspot Group...</td>\n",
       "      <td>Long-lived (&gt;20 days) sunspot groups extracted...</td>\n",
       "      <td>['astro-ph.SR']</td>\n",
       "      <td>2009-07-24</td>\n",
       "      <td>0907.4274</td>\n",
       "      <td>10.1007/s11207-009-9419-5</td>\n",
       "    </tr>\n",
       "    <tr>\n",
       "      <th>29501</th>\n",
       "      <td>29501</td>\n",
       "      <td>Deep Learning for Image Sequence Classificatio...</td>\n",
       "      <td>We propose a new sequential classification mod...</td>\n",
       "      <td>['astro-ph.IM']</td>\n",
       "      <td>2018-07-10</td>\n",
       "      <td>1807.04</td>\n",
       "      <td>NaN</td>\n",
       "    </tr>\n",
       "    <tr>\n",
       "      <th>30467</th>\n",
       "      <td>30467</td>\n",
       "      <td>Analyzing interferometric observations of stro...</td>\n",
       "      <td>We use convolutional neural networks (CNNs) an...</td>\n",
       "      <td>['astro-ph.IM']</td>\n",
       "      <td>2018-07-31</td>\n",
       "      <td>1808</td>\n",
       "      <td>NaN</td>\n",
       "    </tr>\n",
       "    <tr>\n",
       "      <th>31581</th>\n",
       "      <td>31581</td>\n",
       "      <td>Detecting Radio Frequency Interference in radi...</td>\n",
       "      <td>Signal artefacts due to Radio Frequency Interf...</td>\n",
       "      <td>['astro-ph.IM']</td>\n",
       "      <td>2018-08-29</td>\n",
       "      <td>1808.1</td>\n",
       "      <td>10.1002/asna.201813505</td>\n",
       "    </tr>\n",
       "    <tr>\n",
       "      <th>33703</th>\n",
       "      <td>33703</td>\n",
       "      <td>Improved Photometric Classification of Superno...</td>\n",
       "      <td>We present improved photometric supernovae cla...</td>\n",
       "      <td>['astro-ph.IM']</td>\n",
       "      <td>2018-10-15</td>\n",
       "      <td>1810.06</td>\n",
       "      <td>NaN</td>\n",
       "    </tr>\n",
       "  </tbody>\n",
       "</table>\n",
       "</div>"
      ],
      "text/plain": [
       "       Unnamed: 0                                              title  \\\n",
       "19251       19251  Increasing Lifetime of Recurrent Sunspot Group...   \n",
       "29501       29501  Deep Learning for Image Sequence Classificatio...   \n",
       "30467       30467  Analyzing interferometric observations of stro...   \n",
       "31581       31581  Detecting Radio Frequency Interference in radi...   \n",
       "33703       33703  Improved Photometric Classification of Superno...   \n",
       "\n",
       "                                                abstract       categories  \\\n",
       "19251  Long-lived (>20 days) sunspot groups extracted...  ['astro-ph.SR']   \n",
       "29501  We propose a new sequential classification mod...  ['astro-ph.IM']   \n",
       "30467  We use convolutional neural networks (CNNs) an...  ['astro-ph.IM']   \n",
       "31581  Signal artefacts due to Radio Frequency Interf...  ['astro-ph.IM']   \n",
       "33703  We present improved photometric supernovae cla...  ['astro-ph.IM']   \n",
       "\n",
       "          created         id                        doi  \n",
       "19251  2009-07-24  0907.4274  10.1007/s11207-009-9419-5  \n",
       "29501  2018-07-10    1807.04                        NaN  \n",
       "30467  2018-07-31       1808                        NaN  \n",
       "31581  2018-08-29     1808.1     10.1002/asna.201813505  \n",
       "33703  2018-10-15    1810.06                        NaN  "
      ]
     },
     "execution_count": 60,
     "metadata": {},
     "output_type": "execute_result"
    }
   ],
   "source": [
    "df_nn[df_nn.abstract.apply(lambda x : \"recurrent\" in x)]"
   ]
  },
  {
   "cell_type": "code",
   "execution_count": 72,
   "metadata": {},
   "outputs": [
    {
     "data": {
      "text/html": [
       "<div>\n",
       "<style scoped>\n",
       "    .dataframe tbody tr th:only-of-type {\n",
       "        vertical-align: middle;\n",
       "    }\n",
       "\n",
       "    .dataframe tbody tr th {\n",
       "        vertical-align: top;\n",
       "    }\n",
       "\n",
       "    .dataframe thead th {\n",
       "        text-align: right;\n",
       "    }\n",
       "</style>\n",
       "<table border=\"1\" class=\"dataframe\">\n",
       "  <thead>\n",
       "    <tr style=\"text-align: right;\">\n",
       "      <th></th>\n",
       "      <th>Unnamed: 0</th>\n",
       "      <th>title</th>\n",
       "      <th>abstract</th>\n",
       "      <th>categories</th>\n",
       "      <th>created</th>\n",
       "      <th>id</th>\n",
       "      <th>doi</th>\n",
       "    </tr>\n",
       "  </thead>\n",
       "  <tbody>\n",
       "    <tr>\n",
       "      <th>81437</th>\n",
       "      <td>81437</td>\n",
       "      <td>Spectral classification using convolutional ne...</td>\n",
       "      <td>There is a great need for accurate and autonom...</td>\n",
       "      <td>['cs.CV', 'astro-ph.IM', 'cs.NE']</td>\n",
       "      <td>2014-12-29</td>\n",
       "      <td>1412.83</td>\n",
       "      <td>NaN</td>\n",
       "    </tr>\n",
       "    <tr>\n",
       "      <th>105730</th>\n",
       "      <td>105730</td>\n",
       "      <td>Star-galaxy Classification Using Deep Convolut...</td>\n",
       "      <td>Most existing star-galaxy classifiers use the ...</td>\n",
       "      <td>['astro-ph.IM', 'astro-ph.CO', 'astro-ph.GA', ...</td>\n",
       "      <td>2016-08-15</td>\n",
       "      <td>1608.04</td>\n",
       "      <td>10.1093/mnras/stw2672</td>\n",
       "    </tr>\n",
       "    <tr>\n",
       "      <th>21894</th>\n",
       "      <td>21894</td>\n",
       "      <td>Radio Galaxy Zoo: Compact and extended radio s...</td>\n",
       "      <td>Machine learning techniques have been increasi...</td>\n",
       "      <td>['astro-ph.IM']</td>\n",
       "      <td>2018-01-15</td>\n",
       "      <td>1801.05</td>\n",
       "      <td>10.1093/mnras/sty163</td>\n",
       "    </tr>\n",
       "    <tr>\n",
       "      <th>22788</th>\n",
       "      <td>22788</td>\n",
       "      <td>Non-Gaussian information from weak lensing dat...</td>\n",
       "      <td>Weak lensing maps contain information beyond t...</td>\n",
       "      <td>['astro-ph.CO', 'cs.LG', 'stat.ML']</td>\n",
       "      <td>2018-02-04</td>\n",
       "      <td>1802.01</td>\n",
       "      <td>10.1103/PhysRevD.97.103515</td>\n",
       "    </tr>\n",
       "    <tr>\n",
       "      <th>23080</th>\n",
       "      <td>23080</td>\n",
       "      <td>The Strong Gravitational Lens Finding Challenge</td>\n",
       "      <td>Large scale imaging surveys will increase the ...</td>\n",
       "      <td>['astro-ph.GA', 'astro-ph.CO', 'astro-ph.IM']</td>\n",
       "      <td>2018-02-10</td>\n",
       "      <td>1802.04</td>\n",
       "      <td>NaN</td>\n",
       "    </tr>\n",
       "    <tr>\n",
       "      <th>23443</th>\n",
       "      <td>23443</td>\n",
       "      <td>Deep Learning Classification in Asteroseismolo...</td>\n",
       "      <td>Deep learning in the form of 1D convolutional ...</td>\n",
       "      <td>['astro-ph.IM', 'astro-ph.SR']</td>\n",
       "      <td>2018-02-20</td>\n",
       "      <td>1802.07</td>\n",
       "      <td>10.1093/mnras/sty483</td>\n",
       "    </tr>\n",
       "    <tr>\n",
       "      <th>23634</th>\n",
       "      <td>23634</td>\n",
       "      <td>Muon Hunter: a Zooniverse project</td>\n",
       "      <td>The large datasets and often low signal-to-noi...</td>\n",
       "      <td>['astro-ph.IM', 'astro-ph.HE', 'physics.data-an']</td>\n",
       "      <td>2018-02-24</td>\n",
       "      <td>1802.09</td>\n",
       "      <td>NaN</td>\n",
       "    </tr>\n",
       "    <tr>\n",
       "      <th>24043</th>\n",
       "      <td>24043</td>\n",
       "      <td>Lunar Crater Identification via Deep Learning</td>\n",
       "      <td>Crater counting on the Moon and other bodies i...</td>\n",
       "      <td>['astro-ph.EP']</td>\n",
       "      <td>2018-03-06</td>\n",
       "      <td>1803.02</td>\n",
       "      <td>10.1016/j.icarus.2018.06.022</td>\n",
       "    </tr>\n",
       "    <tr>\n",
       "      <th>24149</th>\n",
       "      <td>24149</td>\n",
       "      <td>Applying Deep Learning to Fast Radio Burst Cla...</td>\n",
       "      <td>Upcoming Fast Radio Burst (FRB) surveys will s...</td>\n",
       "      <td>['astro-ph.IM', 'astro-ph.HE']</td>\n",
       "      <td>2018-03-08</td>\n",
       "      <td>1803.03</td>\n",
       "      <td>NaN</td>\n",
       "    </tr>\n",
       "    <tr>\n",
       "      <th>24286</th>\n",
       "      <td>24286</td>\n",
       "      <td>Particle Identification In Camera Image Sensor...</td>\n",
       "      <td>We present a deep learning, computer vision al...</td>\n",
       "      <td>['astro-ph.IM', 'physics.data-an']</td>\n",
       "      <td>2018-03-12</td>\n",
       "      <td>1803.04</td>\n",
       "      <td>10.1016/j.astropartphys.2018.08.009</td>\n",
       "    </tr>\n",
       "    <tr>\n",
       "      <th>24449</th>\n",
       "      <td>24449</td>\n",
       "      <td>Characterizing the velocity of a wandering bla...</td>\n",
       "      <td>We present a method for estimating the velocit...</td>\n",
       "      <td>['astro-ph.HE']</td>\n",
       "      <td>2018-03-15</td>\n",
       "      <td>1803.06</td>\n",
       "      <td>10.1103/PhysRevD.97.063001</td>\n",
       "    </tr>\n",
       "    <tr>\n",
       "      <th>24884</th>\n",
       "      <td>24884</td>\n",
       "      <td>Image-based deep learning for classification o...</td>\n",
       "      <td>The detection of gravitational waves has inaug...</td>\n",
       "      <td>['gr-qc', 'astro-ph.IM', 'cs.CV']</td>\n",
       "      <td>2018-03-27</td>\n",
       "      <td>1803.1</td>\n",
       "      <td>10.1088/1361-6382/aab793</td>\n",
       "    </tr>\n",
       "    <tr>\n",
       "      <th>26551</th>\n",
       "      <td>26551</td>\n",
       "      <td>Searching for hot subdwarf stars from the LAMO...</td>\n",
       "      <td>Hot subdwarf stars are core He burning stars l...</td>\n",
       "      <td>['astro-ph.IM']</td>\n",
       "      <td>2018-05-04</td>\n",
       "      <td>1805.02</td>\n",
       "      <td>NaN</td>\n",
       "    </tr>\n",
       "    <tr>\n",
       "      <th>26655</th>\n",
       "      <td>26655</td>\n",
       "      <td>Deep learning from 21-cm images of the Cosmic ...</td>\n",
       "      <td>The 21-cm power spectrum (PS) has been shown t...</td>\n",
       "      <td>['astro-ph.CO']</td>\n",
       "      <td>2018-05-07</td>\n",
       "      <td>1805.03</td>\n",
       "      <td>NaN</td>\n",
       "    </tr>\n",
       "    <tr>\n",
       "      <th>27538</th>\n",
       "      <td>27538</td>\n",
       "      <td>Using transfer learning to detect galaxy mergers</td>\n",
       "      <td>We investigate the use of deep convolutional n...</td>\n",
       "      <td>['astro-ph.IM', 'cs.LG']</td>\n",
       "      <td>2018-05-25</td>\n",
       "      <td>1805.1</td>\n",
       "      <td>10.1093/mnras/sty1398</td>\n",
       "    </tr>\n",
       "    <tr>\n",
       "      <th>28391</th>\n",
       "      <td>28391</td>\n",
       "      <td>Learning from deep learning: better cosmologic...</td>\n",
       "      <td>Gravitational weak lensing is one of the most ...</td>\n",
       "      <td>['astro-ph.CO']</td>\n",
       "      <td>2018-06-15</td>\n",
       "      <td>1806.06</td>\n",
       "      <td>NaN</td>\n",
       "    </tr>\n",
       "    <tr>\n",
       "      <th>29257</th>\n",
       "      <td>29257</td>\n",
       "      <td>The SPectral Image Typer (SPIT)</td>\n",
       "      <td>We present the Spectral Image Typer (SPIT), a ...</td>\n",
       "      <td>['astro-ph.IM']</td>\n",
       "      <td>2018-07-04</td>\n",
       "      <td>1807.02</td>\n",
       "      <td>NaN</td>\n",
       "    </tr>\n",
       "    <tr>\n",
       "      <th>29357</th>\n",
       "      <td>29357</td>\n",
       "      <td>DeepSource: Point Source Detection using Deep ...</td>\n",
       "      <td>Point source detection at low signal-to-noise ...</td>\n",
       "      <td>['astro-ph.IM', 'cs.CV', 'cs.LG', 'hep-ph', 's...</td>\n",
       "      <td>2018-07-07</td>\n",
       "      <td>1807.03</td>\n",
       "      <td>NaN</td>\n",
       "    </tr>\n",
       "    <tr>\n",
       "      <th>29501</th>\n",
       "      <td>29501</td>\n",
       "      <td>Deep Learning for Image Sequence Classificatio...</td>\n",
       "      <td>We propose a new sequential classification mod...</td>\n",
       "      <td>['astro-ph.IM']</td>\n",
       "      <td>2018-07-10</td>\n",
       "      <td>1807.04</td>\n",
       "      <td>NaN</td>\n",
       "    </tr>\n",
       "    <tr>\n",
       "      <th>29716</th>\n",
       "      <td>29716</td>\n",
       "      <td>Visualizing the Hidden Features of Galaxy Morp...</td>\n",
       "      <td>We train three convolutional neural networks (...</td>\n",
       "      <td>['astro-ph.GA', 'astro-ph.IM']</td>\n",
       "      <td>2018-07-15</td>\n",
       "      <td>1807.06</td>\n",
       "      <td>NaN</td>\n",
       "    </tr>\n",
       "    <tr>\n",
       "      <th>30354</th>\n",
       "      <td>30354</td>\n",
       "      <td>Detecting solar system objects with convolutio...</td>\n",
       "      <td>In the preparation for ESA's Euclid mission an...</td>\n",
       "      <td>['astro-ph.IM', 'astro-ph.EP']</td>\n",
       "      <td>2018-07-28</td>\n",
       "      <td>1807.11</td>\n",
       "      <td>NaN</td>\n",
       "    </tr>\n",
       "    <tr>\n",
       "      <th>30467</th>\n",
       "      <td>30467</td>\n",
       "      <td>Analyzing interferometric observations of stro...</td>\n",
       "      <td>We use convolutional neural networks (CNNs) an...</td>\n",
       "      <td>['astro-ph.IM']</td>\n",
       "      <td>2018-07-31</td>\n",
       "      <td>1808</td>\n",
       "      <td>NaN</td>\n",
       "    </tr>\n",
       "    <tr>\n",
       "      <th>31356</th>\n",
       "      <td>31356</td>\n",
       "      <td>Weak lensing shear estimation beyond the shape...</td>\n",
       "      <td>Weak lensing shear estimation typically result...</td>\n",
       "      <td>['astro-ph.CO']</td>\n",
       "      <td>2018-08-22</td>\n",
       "      <td>1808.07</td>\n",
       "      <td>NaN</td>\n",
       "    </tr>\n",
       "    <tr>\n",
       "      <th>31602</th>\n",
       "      <td>31602</td>\n",
       "      <td>QuasarNET: Human-level spectral classification...</td>\n",
       "      <td>We introduce QuasarNET, a deep convolutional n...</td>\n",
       "      <td>['astro-ph.IM', 'astro-ph.CO', 'astro-ph.GA', ...</td>\n",
       "      <td>2018-08-29</td>\n",
       "      <td>1808.1</td>\n",
       "      <td>NaN</td>\n",
       "    </tr>\n",
       "    <tr>\n",
       "      <th>31942</th>\n",
       "      <td>31942</td>\n",
       "      <td>Galaxy detection and identification using deep...</td>\n",
       "      <td>We present a method for automatic detection an...</td>\n",
       "      <td>['astro-ph.IM']</td>\n",
       "      <td>2018-09-05</td>\n",
       "      <td>1809.02</td>\n",
       "      <td>NaN</td>\n",
       "    </tr>\n",
       "    <tr>\n",
       "      <th>32069</th>\n",
       "      <td>32069</td>\n",
       "      <td>Fast Radio Burst 121102 Pulse Detection and Pe...</td>\n",
       "      <td>We report the detection of 72 new pulses from ...</td>\n",
       "      <td>['astro-ph.HE', 'astro-ph.IM']</td>\n",
       "      <td>2018-09-09</td>\n",
       "      <td>1809.03</td>\n",
       "      <td>10.3847/1538-4357/aadf31</td>\n",
       "    </tr>\n",
       "    <tr>\n",
       "      <th>33039</th>\n",
       "      <td>33039</td>\n",
       "      <td>Extracting gamma-ray information from images w...</td>\n",
       "      <td>The Cherenkov Telescope Array (CTA) will be th...</td>\n",
       "      <td>['astro-ph.IM']</td>\n",
       "      <td>2018-10-01</td>\n",
       "      <td>1810.01</td>\n",
       "      <td>10.1007/978-3-319-99978-4</td>\n",
       "    </tr>\n",
       "    <tr>\n",
       "      <th>33149</th>\n",
       "      <td>33149</td>\n",
       "      <td>DeepCMB: Lensing Reconstruction of the Cosmic ...</td>\n",
       "      <td>Next-generation cosmic microwave background (C...</td>\n",
       "      <td>['astro-ph.CO', 'cs.CV']</td>\n",
       "      <td>2018-10-02</td>\n",
       "      <td>1810.01</td>\n",
       "      <td>NaN</td>\n",
       "    </tr>\n",
       "    <tr>\n",
       "      <th>33906</th>\n",
       "      <td>33906</td>\n",
       "      <td>Multiband galaxy morphologies for CLASH: a con...</td>\n",
       "      <td>We present visual-like morphologies over 16 ph...</td>\n",
       "      <td>['astro-ph.IM']</td>\n",
       "      <td>2018-10-17</td>\n",
       "      <td>1810.08</td>\n",
       "      <td>NaN</td>\n",
       "    </tr>\n",
       "    <tr>\n",
       "      <th>33936</th>\n",
       "      <td>33936</td>\n",
       "      <td>Machine Learning Applied to the Reionization H...</td>\n",
       "      <td>The Epoch of Reionization (EoR) features a ric...</td>\n",
       "      <td>['astro-ph.CO']</td>\n",
       "      <td>2018-10-18</td>\n",
       "      <td>1810.08</td>\n",
       "      <td>NaN</td>\n",
       "    </tr>\n",
       "    <tr>\n",
       "      <th>34046</th>\n",
       "      <td>34046</td>\n",
       "      <td>Deep multi-survey classification of variable s...</td>\n",
       "      <td>During the last decade, a considerable amount ...</td>\n",
       "      <td>['astro-ph.IM', 'cs.LG', 'stat.ML']</td>\n",
       "      <td>2018-10-21</td>\n",
       "      <td>1810.09</td>\n",
       "      <td>10.1093/mnras/sty2836</td>\n",
       "    </tr>\n",
       "    <tr>\n",
       "      <th>34255</th>\n",
       "      <td>34255</td>\n",
       "      <td>Distinguishing standard and modified gravity c...</td>\n",
       "      <td>We present a convolutional neural network to i...</td>\n",
       "      <td>['astro-ph.CO']</td>\n",
       "      <td>2018-10-25</td>\n",
       "      <td>1810.11</td>\n",
       "      <td>NaN</td>\n",
       "    </tr>\n",
       "    <tr>\n",
       "      <th>34324</th>\n",
       "      <td>34324</td>\n",
       "      <td>Inferring Cosmic String Tension through the Ne...</td>\n",
       "      <td>In references [1, 2] we constructed a convolut...</td>\n",
       "      <td>['astro-ph.CO', 'gr-qc', 'hep-ph', 'hep-th']</td>\n",
       "      <td>2018-10-28</td>\n",
       "      <td>1810.12</td>\n",
       "      <td>NaN</td>\n",
       "    </tr>\n",
       "    <tr>\n",
       "      <th>34427</th>\n",
       "      <td>34427</td>\n",
       "      <td>Using convolutional neural networks to predict...</td>\n",
       "      <td>We train a deep residual convolutional neural ...</td>\n",
       "      <td>['astro-ph.GA']</td>\n",
       "      <td>2018-10-30</td>\n",
       "      <td>1810.13</td>\n",
       "      <td>NaN</td>\n",
       "    </tr>\n",
       "    <tr>\n",
       "      <th>34495</th>\n",
       "      <td>34495</td>\n",
       "      <td>Scientific Domain Knowledge Improves Exoplanet...</td>\n",
       "      <td>Space missions such as Kepler, and soon TESS, ...</td>\n",
       "      <td>['astro-ph.EP']</td>\n",
       "      <td>2018-10-31</td>\n",
       "      <td>1810.13</td>\n",
       "      <td>NaN</td>\n",
       "    </tr>\n",
       "    <tr>\n",
       "      <th>34933</th>\n",
       "      <td>34933</td>\n",
       "      <td>Finding high-redshift strong lenses in DES usi...</td>\n",
       "      <td>We search Dark Energy Survey (DES) Year 3 imag...</td>\n",
       "      <td>['astro-ph.GA', 'astro-ph.IM']</td>\n",
       "      <td>2018-11-09</td>\n",
       "      <td>1811.04</td>\n",
       "      <td>NaN</td>\n",
       "    </tr>\n",
       "  </tbody>\n",
       "</table>\n",
       "</div>"
      ],
      "text/plain": [
       "        Unnamed: 0                                              title  \\\n",
       "81437        81437  Spectral classification using convolutional ne...   \n",
       "105730      105730  Star-galaxy Classification Using Deep Convolut...   \n",
       "21894        21894  Radio Galaxy Zoo: Compact and extended radio s...   \n",
       "22788        22788  Non-Gaussian information from weak lensing dat...   \n",
       "23080        23080    The Strong Gravitational Lens Finding Challenge   \n",
       "23443        23443  Deep Learning Classification in Asteroseismolo...   \n",
       "23634        23634                  Muon Hunter: a Zooniverse project   \n",
       "24043        24043      Lunar Crater Identification via Deep Learning   \n",
       "24149        24149  Applying Deep Learning to Fast Radio Burst Cla...   \n",
       "24286        24286  Particle Identification In Camera Image Sensor...   \n",
       "24449        24449  Characterizing the velocity of a wandering bla...   \n",
       "24884        24884  Image-based deep learning for classification o...   \n",
       "26551        26551  Searching for hot subdwarf stars from the LAMO...   \n",
       "26655        26655  Deep learning from 21-cm images of the Cosmic ...   \n",
       "27538        27538   Using transfer learning to detect galaxy mergers   \n",
       "28391        28391  Learning from deep learning: better cosmologic...   \n",
       "29257        29257                    The SPectral Image Typer (SPIT)   \n",
       "29357        29357  DeepSource: Point Source Detection using Deep ...   \n",
       "29501        29501  Deep Learning for Image Sequence Classificatio...   \n",
       "29716        29716  Visualizing the Hidden Features of Galaxy Morp...   \n",
       "30354        30354  Detecting solar system objects with convolutio...   \n",
       "30467        30467  Analyzing interferometric observations of stro...   \n",
       "31356        31356  Weak lensing shear estimation beyond the shape...   \n",
       "31602        31602  QuasarNET: Human-level spectral classification...   \n",
       "31942        31942  Galaxy detection and identification using deep...   \n",
       "32069        32069  Fast Radio Burst 121102 Pulse Detection and Pe...   \n",
       "33039        33039  Extracting gamma-ray information from images w...   \n",
       "33149        33149  DeepCMB: Lensing Reconstruction of the Cosmic ...   \n",
       "33906        33906  Multiband galaxy morphologies for CLASH: a con...   \n",
       "33936        33936  Machine Learning Applied to the Reionization H...   \n",
       "34046        34046  Deep multi-survey classification of variable s...   \n",
       "34255        34255  Distinguishing standard and modified gravity c...   \n",
       "34324        34324  Inferring Cosmic String Tension through the Ne...   \n",
       "34427        34427  Using convolutional neural networks to predict...   \n",
       "34495        34495  Scientific Domain Knowledge Improves Exoplanet...   \n",
       "34933        34933  Finding high-redshift strong lenses in DES usi...   \n",
       "\n",
       "                                                 abstract  \\\n",
       "81437   There is a great need for accurate and autonom...   \n",
       "105730  Most existing star-galaxy classifiers use the ...   \n",
       "21894   Machine learning techniques have been increasi...   \n",
       "22788   Weak lensing maps contain information beyond t...   \n",
       "23080   Large scale imaging surveys will increase the ...   \n",
       "23443   Deep learning in the form of 1D convolutional ...   \n",
       "23634   The large datasets and often low signal-to-noi...   \n",
       "24043   Crater counting on the Moon and other bodies i...   \n",
       "24149   Upcoming Fast Radio Burst (FRB) surveys will s...   \n",
       "24286   We present a deep learning, computer vision al...   \n",
       "24449   We present a method for estimating the velocit...   \n",
       "24884   The detection of gravitational waves has inaug...   \n",
       "26551   Hot subdwarf stars are core He burning stars l...   \n",
       "26655   The 21-cm power spectrum (PS) has been shown t...   \n",
       "27538   We investigate the use of deep convolutional n...   \n",
       "28391   Gravitational weak lensing is one of the most ...   \n",
       "29257   We present the Spectral Image Typer (SPIT), a ...   \n",
       "29357   Point source detection at low signal-to-noise ...   \n",
       "29501   We propose a new sequential classification mod...   \n",
       "29716   We train three convolutional neural networks (...   \n",
       "30354   In the preparation for ESA's Euclid mission an...   \n",
       "30467   We use convolutional neural networks (CNNs) an...   \n",
       "31356   Weak lensing shear estimation typically result...   \n",
       "31602   We introduce QuasarNET, a deep convolutional n...   \n",
       "31942   We present a method for automatic detection an...   \n",
       "32069   We report the detection of 72 new pulses from ...   \n",
       "33039   The Cherenkov Telescope Array (CTA) will be th...   \n",
       "33149   Next-generation cosmic microwave background (C...   \n",
       "33906   We present visual-like morphologies over 16 ph...   \n",
       "33936   The Epoch of Reionization (EoR) features a ric...   \n",
       "34046   During the last decade, a considerable amount ...   \n",
       "34255   We present a convolutional neural network to i...   \n",
       "34324   In references [1, 2] we constructed a convolut...   \n",
       "34427   We train a deep residual convolutional neural ...   \n",
       "34495   Space missions such as Kepler, and soon TESS, ...   \n",
       "34933   We search Dark Energy Survey (DES) Year 3 imag...   \n",
       "\n",
       "                                               categories    created       id  \\\n",
       "81437                   ['cs.CV', 'astro-ph.IM', 'cs.NE'] 2014-12-29  1412.83   \n",
       "105730  ['astro-ph.IM', 'astro-ph.CO', 'astro-ph.GA', ... 2016-08-15  1608.04   \n",
       "21894                                     ['astro-ph.IM'] 2018-01-15  1801.05   \n",
       "22788                 ['astro-ph.CO', 'cs.LG', 'stat.ML'] 2018-02-04  1802.01   \n",
       "23080       ['astro-ph.GA', 'astro-ph.CO', 'astro-ph.IM'] 2018-02-10  1802.04   \n",
       "23443                      ['astro-ph.IM', 'astro-ph.SR'] 2018-02-20  1802.07   \n",
       "23634   ['astro-ph.IM', 'astro-ph.HE', 'physics.data-an'] 2018-02-24  1802.09   \n",
       "24043                                     ['astro-ph.EP'] 2018-03-06  1803.02   \n",
       "24149                      ['astro-ph.IM', 'astro-ph.HE'] 2018-03-08  1803.03   \n",
       "24286                  ['astro-ph.IM', 'physics.data-an'] 2018-03-12  1803.04   \n",
       "24449                                     ['astro-ph.HE'] 2018-03-15  1803.06   \n",
       "24884                   ['gr-qc', 'astro-ph.IM', 'cs.CV'] 2018-03-27   1803.1   \n",
       "26551                                     ['astro-ph.IM'] 2018-05-04  1805.02   \n",
       "26655                                     ['astro-ph.CO'] 2018-05-07  1805.03   \n",
       "27538                            ['astro-ph.IM', 'cs.LG'] 2018-05-25   1805.1   \n",
       "28391                                     ['astro-ph.CO'] 2018-06-15  1806.06   \n",
       "29257                                     ['astro-ph.IM'] 2018-07-04  1807.02   \n",
       "29357   ['astro-ph.IM', 'cs.CV', 'cs.LG', 'hep-ph', 's... 2018-07-07  1807.03   \n",
       "29501                                     ['astro-ph.IM'] 2018-07-10  1807.04   \n",
       "29716                      ['astro-ph.GA', 'astro-ph.IM'] 2018-07-15  1807.06   \n",
       "30354                      ['astro-ph.IM', 'astro-ph.EP'] 2018-07-28  1807.11   \n",
       "30467                                     ['astro-ph.IM'] 2018-07-31     1808   \n",
       "31356                                     ['astro-ph.CO'] 2018-08-22  1808.07   \n",
       "31602   ['astro-ph.IM', 'astro-ph.CO', 'astro-ph.GA', ... 2018-08-29   1808.1   \n",
       "31942                                     ['astro-ph.IM'] 2018-09-05  1809.02   \n",
       "32069                      ['astro-ph.HE', 'astro-ph.IM'] 2018-09-09  1809.03   \n",
       "33039                                     ['astro-ph.IM'] 2018-10-01  1810.01   \n",
       "33149                            ['astro-ph.CO', 'cs.CV'] 2018-10-02  1810.01   \n",
       "33906                                     ['astro-ph.IM'] 2018-10-17  1810.08   \n",
       "33936                                     ['astro-ph.CO'] 2018-10-18  1810.08   \n",
       "34046                 ['astro-ph.IM', 'cs.LG', 'stat.ML'] 2018-10-21  1810.09   \n",
       "34255                                     ['astro-ph.CO'] 2018-10-25  1810.11   \n",
       "34324        ['astro-ph.CO', 'gr-qc', 'hep-ph', 'hep-th'] 2018-10-28  1810.12   \n",
       "34427                                     ['astro-ph.GA'] 2018-10-30  1810.13   \n",
       "34495                                     ['astro-ph.EP'] 2018-10-31  1810.13   \n",
       "34933                      ['astro-ph.GA', 'astro-ph.IM'] 2018-11-09  1811.04   \n",
       "\n",
       "                                        doi  \n",
       "81437                                   NaN  \n",
       "105730                10.1093/mnras/stw2672  \n",
       "21894                  10.1093/mnras/sty163  \n",
       "22788            10.1103/PhysRevD.97.103515  \n",
       "23080                                   NaN  \n",
       "23443                  10.1093/mnras/sty483  \n",
       "23634                                   NaN  \n",
       "24043          10.1016/j.icarus.2018.06.022  \n",
       "24149                                   NaN  \n",
       "24286   10.1016/j.astropartphys.2018.08.009  \n",
       "24449            10.1103/PhysRevD.97.063001  \n",
       "24884              10.1088/1361-6382/aab793  \n",
       "26551                                   NaN  \n",
       "26655                                   NaN  \n",
       "27538                 10.1093/mnras/sty1398  \n",
       "28391                                   NaN  \n",
       "29257                                   NaN  \n",
       "29357                                   NaN  \n",
       "29501                                   NaN  \n",
       "29716                                   NaN  \n",
       "30354                                   NaN  \n",
       "30467                                   NaN  \n",
       "31356                                   NaN  \n",
       "31602                                   NaN  \n",
       "31942                                   NaN  \n",
       "32069              10.3847/1538-4357/aadf31  \n",
       "33039             10.1007/978-3-319-99978-4  \n",
       "33149                                   NaN  \n",
       "33906                                   NaN  \n",
       "33936                                   NaN  \n",
       "34046                 10.1093/mnras/sty2836  \n",
       "34255                                   NaN  \n",
       "34324                                   NaN  \n",
       "34427                                   NaN  \n",
       "34495                                   NaN  \n",
       "34933                                   NaN  "
      ]
     },
     "execution_count": 72,
     "metadata": {},
     "output_type": "execute_result"
    }
   ],
   "source": [
    "df_nn[df_nn.abstract.apply(lambda x : \"convolutional\" in x)]"
   ]
  },
  {
   "cell_type": "code",
   "execution_count": 78,
   "metadata": {},
   "outputs": [
    {
     "data": {
      "text/html": [
       "<div>\n",
       "<style scoped>\n",
       "    .dataframe tbody tr th:only-of-type {\n",
       "        vertical-align: middle;\n",
       "    }\n",
       "\n",
       "    .dataframe tbody tr th {\n",
       "        vertical-align: top;\n",
       "    }\n",
       "\n",
       "    .dataframe thead th {\n",
       "        text-align: right;\n",
       "    }\n",
       "</style>\n",
       "<table border=\"1\" class=\"dataframe\">\n",
       "  <thead>\n",
       "    <tr style=\"text-align: right;\">\n",
       "      <th></th>\n",
       "      <th>Unnamed: 0</th>\n",
       "      <th>title</th>\n",
       "      <th>abstract</th>\n",
       "      <th>categories</th>\n",
       "      <th>created</th>\n",
       "      <th>id</th>\n",
       "      <th>doi</th>\n",
       "    </tr>\n",
       "  </thead>\n",
       "  <tbody>\n",
       "    <tr>\n",
       "      <th>34838</th>\n",
       "      <td>34838</td>\n",
       "      <td>Forging new worlds: high-resolution synthetic ...</td>\n",
       "      <td>Astronomy of the 21st century finds itself wit...</td>\n",
       "      <td>['astro-ph.IM', 'astro-ph.GA', 'cs.LG', 'stat....</td>\n",
       "      <td>2018-11-07</td>\n",
       "      <td>1811.03</td>\n",
       "      <td>NaN</td>\n",
       "    </tr>\n",
       "  </tbody>\n",
       "</table>\n",
       "</div>"
      ],
      "text/plain": [
       "       Unnamed: 0                                              title  \\\n",
       "34838       34838  Forging new worlds: high-resolution synthetic ...   \n",
       "\n",
       "                                                abstract  \\\n",
       "34838  Astronomy of the 21st century finds itself wit...   \n",
       "\n",
       "                                              categories    created       id  \\\n",
       "34838  ['astro-ph.IM', 'astro-ph.GA', 'cs.LG', 'stat.... 2018-11-07  1811.03   \n",
       "\n",
       "       doi  \n",
       "34838  NaN  "
      ]
     },
     "execution_count": 78,
     "metadata": {},
     "output_type": "execute_result"
    }
   ],
   "source": [
    "df_nn[df_nn.abstract.apply(lambda x : \"adversarial\" in x)]"
   ]
  },
  {
   "cell_type": "code",
   "execution_count": 43,
   "metadata": {},
   "outputs": [
    {
     "data": {
      "text/html": [
       "<div>\n",
       "<style scoped>\n",
       "    .dataframe tbody tr th:only-of-type {\n",
       "        vertical-align: middle;\n",
       "    }\n",
       "\n",
       "    .dataframe tbody tr th {\n",
       "        vertical-align: top;\n",
       "    }\n",
       "\n",
       "    .dataframe thead th {\n",
       "        text-align: right;\n",
       "    }\n",
       "</style>\n",
       "<table border=\"1\" class=\"dataframe\">\n",
       "  <thead>\n",
       "    <tr style=\"text-align: right;\">\n",
       "      <th></th>\n",
       "      <th>Unnamed: 0</th>\n",
       "      <th>Unnamed: 0.1</th>\n",
       "      <th>title</th>\n",
       "      <th>abstract</th>\n",
       "      <th>categories</th>\n",
       "      <th>id</th>\n",
       "      <th>doi</th>\n",
       "    </tr>\n",
       "    <tr>\n",
       "      <th>created</th>\n",
       "      <th></th>\n",
       "      <th></th>\n",
       "      <th></th>\n",
       "      <th></th>\n",
       "      <th></th>\n",
       "      <th></th>\n",
       "      <th></th>\n",
       "    </tr>\n",
       "  </thead>\n",
       "  <tbody>\n",
       "    <tr>\n",
       "      <th>2008-06-17</th>\n",
       "      <td>11871</td>\n",
       "      <td>11871</td>\n",
       "      <td>Decoding Beta-Decay Systematics: A Global Stat...</td>\n",
       "      <td>Statistical modeling of nuclear data provides ...</td>\n",
       "      <td>['nucl-th', 'astro-ph', 'cond-mat.dis-nn', 'cs...</td>\n",
       "      <td>0806.2850</td>\n",
       "      <td>10.1103/PhysRevC.80.044332</td>\n",
       "    </tr>\n",
       "    <tr>\n",
       "      <th>2008-10-24</th>\n",
       "      <td>14936</td>\n",
       "      <td>14936</td>\n",
       "      <td>Towards Real-time Classification of Astronomic...</td>\n",
       "      <td>Exploration of time domain is now a vibrant ar...</td>\n",
       "      <td>['astro-ph']</td>\n",
       "      <td>0810.4527</td>\n",
       "      <td>10.1063/1.3059064</td>\n",
       "    </tr>\n",
       "    <tr>\n",
       "      <th>2005-11-11</th>\n",
       "      <td>58806</td>\n",
       "      <td>58806</td>\n",
       "      <td>Automatic classification of eclipsing binaries...</td>\n",
       "      <td>In this work we present a system for the autom...</td>\n",
       "      <td>['astro-ph']</td>\n",
       "      <td>astro-ph/0511346</td>\n",
       "      <td>10.1051/0004-6361:20052830</td>\n",
       "    </tr>\n",
       "    <tr>\n",
       "      <th>2007-03-06</th>\n",
       "      <td>68883</td>\n",
       "      <td>68883</td>\n",
       "      <td>Mining the SDSS archive. I. Photometric redshi...</td>\n",
       "      <td>We present a supervised neural network approac...</td>\n",
       "      <td>['astro-ph']</td>\n",
       "      <td>astro-ph/0703108</td>\n",
       "      <td>10.1086/518020</td>\n",
       "    </tr>\n",
       "    <tr>\n",
       "      <th>2007-03-16</th>\n",
       "      <td>69138</td>\n",
       "      <td>69138</td>\n",
       "      <td>{\\sc CosmoNet}: fast cosmological parameter es...</td>\n",
       "      <td>We present a further development of a method f...</td>\n",
       "      <td>['astro-ph']</td>\n",
       "      <td>astro-ph/0703445</td>\n",
       "      <td>10.1111/j.1365-2966.2008.13279.x</td>\n",
       "    </tr>\n",
       "    <tr>\n",
       "      <th>2009-03-03</th>\n",
       "      <td>4651</td>\n",
       "      <td>4651</td>\n",
       "      <td>BayesCLUMPY: Bayesian Inference with Clumpy Du...</td>\n",
       "      <td>Our aim is to present a fast and general Bayes...</td>\n",
       "      <td>['astro-ph.IM', 'astro-ph.CO']</td>\n",
       "      <td>903.0622</td>\n",
       "      <td>10.1088/0004-637X/696/2/2075</td>\n",
       "    </tr>\n",
       "    <tr>\n",
       "      <th>2011-09-14</th>\n",
       "      <td>34513</td>\n",
       "      <td>34513</td>\n",
       "      <td>A Gaussian process framework for modelling ins...</td>\n",
       "      <td>Transmission spectroscopy, which consists of m...</td>\n",
       "      <td>['astro-ph.EP']</td>\n",
       "      <td>1109.3251</td>\n",
       "      <td>10.1111/j.1365-2966.2011.19915.x</td>\n",
       "    </tr>\n",
       "    <tr>\n",
       "      <th>2011-10-13</th>\n",
       "      <td>35788</td>\n",
       "      <td>35788</td>\n",
       "      <td>BAMBI: blind accelerated multimodal Bayesian i...</td>\n",
       "      <td>In this paper we present an algorithm for rapi...</td>\n",
       "      <td>['astro-ph.IM', 'astro-ph.CO', 'physics.data-a...</td>\n",
       "      <td>1110.2997</td>\n",
       "      <td>10.1111/j.1365-2966.2011.20288.x</td>\n",
       "    </tr>\n",
       "    <tr>\n",
       "      <th>2011-11-18</th>\n",
       "      <td>37291</td>\n",
       "      <td>37291</td>\n",
       "      <td>Characterization of Dwarf Novae Using SDSS Colors</td>\n",
       "      <td>We have developed a method for estimating the ...</td>\n",
       "      <td>['astro-ph.SR']</td>\n",
       "      <td>1111.4286</td>\n",
       "      <td>10.1093/pasj/64.3.63</td>\n",
       "    </tr>\n",
       "    <tr>\n",
       "      <th>2012-02-28</th>\n",
       "      <td>41081</td>\n",
       "      <td>41081</td>\n",
       "      <td>Decoding spectral energy distributions of dust...</td>\n",
       "      <td>We present BayeSED, a general purpose tool for...</td>\n",
       "      <td>['astro-ph.CO', 'astro-ph.GA']</td>\n",
       "      <td>1202.62</td>\n",
       "      <td>10.1088/0004-637X/749/2/123</td>\n",
       "    </tr>\n",
       "    <tr>\n",
       "      <th>2012-05-11</th>\n",
       "      <td>43823</td>\n",
       "      <td>43823</td>\n",
       "      <td>Determining Frequentist Confidence Limits Usin...</td>\n",
       "      <td>We consider the problem of inferring constrain...</td>\n",
       "      <td>['astro-ph.CO', 'astro-ph.IM']</td>\n",
       "      <td>1205.27</td>\n",
       "      <td>10.1088/0004-637X/794/1/38</td>\n",
       "    </tr>\n",
       "    <tr>\n",
       "      <th>2012-08-06</th>\n",
       "      <td>47030</td>\n",
       "      <td>47030</td>\n",
       "      <td>A simple and robust method for automated photo...</td>\n",
       "      <td>A method is presented for automated photometri...</td>\n",
       "      <td>['astro-ph.CO', 'astro-ph.IM']</td>\n",
       "      <td>1208.13</td>\n",
       "      <td>10.1093/mnras/sts412</td>\n",
       "    </tr>\n",
       "    <tr>\n",
       "      <th>2013-01-14</th>\n",
       "      <td>53184</td>\n",
       "      <td>53184</td>\n",
       "      <td>A new method to improve photometric redshift r...</td>\n",
       "      <td>In the next decade, the LSST will become a maj...</td>\n",
       "      <td>['astro-ph.CO', 'astro-ph.IM']</td>\n",
       "      <td>1301.3</td>\n",
       "      <td>10.1051/0004-6361/201321102</td>\n",
       "    </tr>\n",
       "    <tr>\n",
       "      <th>2013-01-14</th>\n",
       "      <td>53189</td>\n",
       "      <td>53189</td>\n",
       "      <td>Semi-parametric Robust Event Detection for Mas...</td>\n",
       "      <td>The detection and analysis of events within ma...</td>\n",
       "      <td>['stat.AP', 'astro-ph.IM']</td>\n",
       "      <td>1301.3</td>\n",
       "      <td>NaN</td>\n",
       "    </tr>\n",
       "    <tr>\n",
       "      <th>2014-02-10</th>\n",
       "      <td>68538</td>\n",
       "      <td>68538</td>\n",
       "      <td>The Spatial Sensitivity Function of a Light Se...</td>\n",
       "      <td>The Spatial Sensitivity Function (SSF) is used...</td>\n",
       "      <td>['astro-ph.IM', 'physics.data-an', 'stat.AP']</td>\n",
       "      <td>1402.22</td>\n",
       "      <td>NaN</td>\n",
       "    </tr>\n",
       "    <tr>\n",
       "      <th>2014-02-28</th>\n",
       "      <td>69272</td>\n",
       "      <td>69272</td>\n",
       "      <td>Exhausting the Information: Novel Bayesian Com...</td>\n",
       "      <td>The estimation and utilization of photometric ...</td>\n",
       "      <td>['astro-ph.CO', 'astro-ph.IM']</td>\n",
       "      <td>1403</td>\n",
       "      <td>10.1093/mnras/stu1098</td>\n",
       "    </tr>\n",
       "    <tr>\n",
       "      <th>2014-04-07</th>\n",
       "      <td>70749</td>\n",
       "      <td>70749</td>\n",
       "      <td>Towards Characterization of the Type IIP Super...</td>\n",
       "      <td>In recent years, wide-field sky surveys provid...</td>\n",
       "      <td>['astro-ph.HE', 'astro-ph.SR']</td>\n",
       "      <td>1404.2</td>\n",
       "      <td>10.1088/0004-637X/799/2/208</td>\n",
       "    </tr>\n",
       "    <tr>\n",
       "      <th>2014-04-14</th>\n",
       "      <td>71000</td>\n",
       "      <td>71000</td>\n",
       "      <td>Unsupervised Transient Light Curve Analysis Vi...</td>\n",
       "      <td>Historically, light curve studies of supernova...</td>\n",
       "      <td>['astro-ph.IM', 'astro-ph.HE']</td>\n",
       "      <td>1404.36</td>\n",
       "      <td>10.1088/0004-637X/800/1/36</td>\n",
       "    </tr>\n",
       "    <tr>\n",
       "      <th>2014-07-28</th>\n",
       "      <td>75258</td>\n",
       "      <td>75258</td>\n",
       "      <td>Bayesian parameter estimation of core collapse...</td>\n",
       "      <td>Using the latest numerical simulations of rota...</td>\n",
       "      <td>['physics.data-an', 'astro-ph.IM', 'gr-qc']</td>\n",
       "      <td>1407.75</td>\n",
       "      <td>10.1088/0266-5611/30/11/114008</td>\n",
       "    </tr>\n",
       "    <tr>\n",
       "      <th>2014-09-26</th>\n",
       "      <td>77705</td>\n",
       "      <td>77705</td>\n",
       "      <td>The Overlooked Potential of Generalized Linear...</td>\n",
       "      <td>Revealing hidden patterns in astronomical data...</td>\n",
       "      <td>['astro-ph.IM', 'astro-ph.CO']</td>\n",
       "      <td>1409.77</td>\n",
       "      <td>10.1016/j.ascom.2015.04.002</td>\n",
       "    </tr>\n",
       "    <tr>\n",
       "      <th>2014-11-10</th>\n",
       "      <td>79554</td>\n",
       "      <td>79554</td>\n",
       "      <td>Low/High Redshift Classification of Emission L...</td>\n",
       "      <td>We discuss different methods to separate high-...</td>\n",
       "      <td>['astro-ph.IM']</td>\n",
       "      <td>1411.27</td>\n",
       "      <td>NaN</td>\n",
       "    </tr>\n",
       "    <tr>\n",
       "      <th>2015-03-12</th>\n",
       "      <td>84361</td>\n",
       "      <td>84361</td>\n",
       "      <td>The supernova cosmology cookbook: Bayesian num...</td>\n",
       "      <td>Theoretical and observational cosmology have e...</td>\n",
       "      <td>['astro-ph.CO']</td>\n",
       "      <td>1503.04</td>\n",
       "      <td>NaN</td>\n",
       "    </tr>\n",
       "    <tr>\n",
       "      <th>2015-05-08</th>\n",
       "      <td>86663</td>\n",
       "      <td>86663</td>\n",
       "      <td>A Hybrid Ensemble Learning Approach to Star-Ga...</td>\n",
       "      <td>There exist a variety of star-galaxy classific...</td>\n",
       "      <td>['astro-ph.IM']</td>\n",
       "      <td>1505.02</td>\n",
       "      <td>10.1093/mnras/stv1608</td>\n",
       "    </tr>\n",
       "    <tr>\n",
       "      <th>2015-07-28</th>\n",
       "      <td>89822</td>\n",
       "      <td>89822</td>\n",
       "      <td>Bayesian High-Redshift Quasar Classification f...</td>\n",
       "      <td>We identify 885,503 type 1 quasar candidates t...</td>\n",
       "      <td>['astro-ph.GA']</td>\n",
       "      <td>1507.08</td>\n",
       "      <td>10.1088/0067-0049/219/2/39</td>\n",
       "    </tr>\n",
       "    <tr>\n",
       "      <th>2015-08-25</th>\n",
       "      <td>90826</td>\n",
       "      <td>90826</td>\n",
       "      <td>Nuclear Mass Predictions for the Crustal Compo...</td>\n",
       "      <td>Besides their intrinsic nuclear-structure valu...</td>\n",
       "      <td>['nucl-th', 'astro-ph.HE', 'astro-ph.SR', 'nuc...</td>\n",
       "      <td>1508.06</td>\n",
       "      <td>10.1103/PhysRevC.93.014311</td>\n",
       "    </tr>\n",
       "    <tr>\n",
       "      <th>2015-09-03</th>\n",
       "      <td>91289</td>\n",
       "      <td>91289</td>\n",
       "      <td>Machine Learning Model of the Swift/BAT Trigge...</td>\n",
       "      <td>To draw inferences about gamma-ray burst (GRB)...</td>\n",
       "      <td>['astro-ph.HE', 'physics.data-an', 'stat.ML']</td>\n",
       "      <td>1509.01</td>\n",
       "      <td>10.3847/0004-637X/818/1/55</td>\n",
       "    </tr>\n",
       "    <tr>\n",
       "      <th>2015-11-06</th>\n",
       "      <td>94201</td>\n",
       "      <td>94201</td>\n",
       "      <td>Oscillation frequencies for 35 \\Kepler solar-t...</td>\n",
       "      <td>\\Kepler has revolutionised our understanding o...</td>\n",
       "      <td>['astro-ph.SR']</td>\n",
       "      <td>1511.02</td>\n",
       "      <td>10.1093/mnras/stv2593</td>\n",
       "    </tr>\n",
       "    <tr>\n",
       "      <th>2016-02-06</th>\n",
       "      <td>97866</td>\n",
       "      <td>97866</td>\n",
       "      <td>Bayesian analysis of cosmic-ray propagation: e...</td>\n",
       "      <td>We present the results of the most complete ev...</td>\n",
       "      <td>['astro-ph.HE', 'astro-ph.GA']</td>\n",
       "      <td>1602.02</td>\n",
       "      <td>10.3847/0004-637X/824/1/16</td>\n",
       "    </tr>\n",
       "    <tr>\n",
       "      <th>2016-02-26</th>\n",
       "      <td>98693</td>\n",
       "      <td>98693</td>\n",
       "      <td>SOMBI: Bayesian identification of parameter re...</td>\n",
       "      <td>This work describes the implementation and app...</td>\n",
       "      <td>['astro-ph.CO', 'astro-ph.IM']</td>\n",
       "      <td>1602.08</td>\n",
       "      <td>10.1051/0004-6361/201628393</td>\n",
       "    </tr>\n",
       "    <tr>\n",
       "      <th>2016-04-12</th>\n",
       "      <td>100607</td>\n",
       "      <td>100607</td>\n",
       "      <td>GPz: Non-stationary sparse Gaussian processes ...</td>\n",
       "      <td>The next generation of cosmology experiments w...</td>\n",
       "      <td>['astro-ph.IM']</td>\n",
       "      <td>1604.04</td>\n",
       "      <td>10.1093/mnras/stw1618</td>\n",
       "    </tr>\n",
       "    <tr>\n",
       "      <th>2016-04-22</th>\n",
       "      <td>101014</td>\n",
       "      <td>101014</td>\n",
       "      <td>Application of Bayesian Neural Networks to Ene...</td>\n",
       "      <td>A toy detector array is designed to detect a s...</td>\n",
       "      <td>['astro-ph.IM', 'hep-ex', 'physics.data-an']</td>\n",
       "      <td>1604.07</td>\n",
       "      <td>10.1088/1748-0221/11/07/P07006</td>\n",
       "    </tr>\n",
       "    <tr>\n",
       "      <th>2016-07-19</th>\n",
       "      <td>104698</td>\n",
       "      <td>104698</td>\n",
       "      <td>On the estimation of stellar parameters with u...</td>\n",
       "      <td>Aims. We present an innovative artificial neur...</td>\n",
       "      <td>['astro-ph.IM', 'astro-ph.SR', 'cs.AI', 'cs.NE']</td>\n",
       "      <td>1607.06</td>\n",
       "      <td>10.1051/0004-6361/201527045</td>\n",
       "    </tr>\n",
       "    <tr>\n",
       "      <th>2016-12-07</th>\n",
       "      <td>110665</td>\n",
       "      <td>110665</td>\n",
       "      <td>A cooperative approach among methods for photo...</td>\n",
       "      <td>Photometric redshifts (photo-z's) are fundamen...</td>\n",
       "      <td>['astro-ph.IM']</td>\n",
       "      <td>1612.02</td>\n",
       "      <td>10.1093/mnras/stw3208</td>\n",
       "    </tr>\n",
       "    <tr>\n",
       "      <th>2018-01-11</th>\n",
       "      <td>21780</td>\n",
       "      <td>21780</td>\n",
       "      <td>A machine learns to predict the stability of c...</td>\n",
       "      <td>Long-period circumbinary planets appear to be ...</td>\n",
       "      <td>['astro-ph.EP']</td>\n",
       "      <td>1801.04</td>\n",
       "      <td>10.1093/mnras/sty022</td>\n",
       "    </tr>\n",
       "    <tr>\n",
       "      <th>2018-01-13</th>\n",
       "      <td>21854</td>\n",
       "      <td>21854</td>\n",
       "      <td>Nuclear mass predictions based on Bayesian neu...</td>\n",
       "      <td>Bayesian neural network (BNN) approach is empl...</td>\n",
       "      <td>['nucl-th', 'astro-ph.SR', 'nucl-ex']</td>\n",
       "      <td>1801.04</td>\n",
       "      <td>10.1016/j.physletb.2018.01.002</td>\n",
       "    </tr>\n",
       "    <tr>\n",
       "      <th>2018-02-07</th>\n",
       "      <td>22951</td>\n",
       "      <td>22951</td>\n",
       "      <td>Self-consistent redshift estimation using corr...</td>\n",
       "      <td>We present a new method to estimate redshift d...</td>\n",
       "      <td>['astro-ph.CO', 'astro-ph.GA']</td>\n",
       "      <td>1802.03</td>\n",
       "      <td>NaN</td>\n",
       "    </tr>\n",
       "    <tr>\n",
       "      <th>2018-02-10</th>\n",
       "      <td>23073</td>\n",
       "      <td>23073</td>\n",
       "      <td>Automatic physical inference with information ...</td>\n",
       "      <td>Compressing large data sets to a manageable nu...</td>\n",
       "      <td>['astro-ph.IM']</td>\n",
       "      <td>1802.04</td>\n",
       "      <td>10.1103/PhysRevD.97.083004</td>\n",
       "    </tr>\n",
       "    <tr>\n",
       "      <th>2018-02-23</th>\n",
       "      <td>23620</td>\n",
       "      <td>23620</td>\n",
       "      <td>Integrating human and machine intelligence in ...</td>\n",
       "      <td>Quantifying galaxy morphology is a challenging...</td>\n",
       "      <td>['astro-ph.IM', 'astro-ph.GA']</td>\n",
       "      <td>1802.09</td>\n",
       "      <td>10.1093/mnras/sty503</td>\n",
       "    </tr>\n",
       "    <tr>\n",
       "      <th>2018-04-25</th>\n",
       "      <td>26136</td>\n",
       "      <td>26136</td>\n",
       "      <td>MADE: A spectroscopic Mass, Age, and Distance ...</td>\n",
       "      <td>We present a new approach (MADE) that generate...</td>\n",
       "      <td>['astro-ph.GA']</td>\n",
       "      <td>1804.1</td>\n",
       "      <td>10.1093/mnras/sty2776</td>\n",
       "    </tr>\n",
       "    <tr>\n",
       "      <th>2018-05-18</th>\n",
       "      <td>27210</td>\n",
       "      <td>27210</td>\n",
       "      <td>Bayesian optimisation for likelihood-free cosm...</td>\n",
       "      <td>Many cosmological models have only a finite nu...</td>\n",
       "      <td>['astro-ph.CO', 'astro-ph.IM', 'stat.AP']</td>\n",
       "      <td>1805.07</td>\n",
       "      <td>10.1103/PhysRevD.98.063511</td>\n",
       "    </tr>\n",
       "    <tr>\n",
       "      <th>2018-06-07</th>\n",
       "      <td>28076</td>\n",
       "      <td>28076</td>\n",
       "      <td>ExoGAN: Retrieving Exoplanetary Atmospheres Us...</td>\n",
       "      <td>Atmospheric retrievals on exoplanets usually i...</td>\n",
       "      <td>['astro-ph.IM', 'astro-ph.EP']</td>\n",
       "      <td>1806.03</td>\n",
       "      <td>NaN</td>\n",
       "    </tr>\n",
       "    <tr>\n",
       "      <th>2018-10-07</th>\n",
       "      <td>33329</td>\n",
       "      <td>33329</td>\n",
       "      <td>Predictions of nuclear $\\beta$-decay half-live...</td>\n",
       "      <td>Nuclear $\\beta$ decay is a key process to unde...</td>\n",
       "      <td>['nucl-th', 'astro-ph.SR', 'nucl-ex']</td>\n",
       "      <td>1810.03</td>\n",
       "      <td>NaN</td>\n",
       "    </tr>\n",
       "    <tr>\n",
       "      <th>2018-10-30</th>\n",
       "      <td>34432</td>\n",
       "      <td>34432</td>\n",
       "      <td>Towards a radially-resolved semi-analytic mode...</td>\n",
       "      <td>We present a flexible, detailed model for the ...</td>\n",
       "      <td>['astro-ph.GA']</td>\n",
       "      <td>1810.13</td>\n",
       "      <td>NaN</td>\n",
       "    </tr>\n",
       "    <tr>\n",
       "      <th>2018-11-08</th>\n",
       "      <td>34881</td>\n",
       "      <td>34881</td>\n",
       "      <td>Bayesian Deep Learning for Exoplanet Atmospher...</td>\n",
       "      <td>Over the past decade, the study of exoplanets ...</td>\n",
       "      <td>['astro-ph.EP', 'cs.LG']</td>\n",
       "      <td>1811.03</td>\n",
       "      <td>NaN</td>\n",
       "    </tr>\n",
       "  </tbody>\n",
       "</table>\n",
       "</div>"
      ],
      "text/plain": [
       "            Unnamed: 0  Unnamed: 0.1  \\\n",
       "created                                \n",
       "2008-06-17       11871         11871   \n",
       "2008-10-24       14936         14936   \n",
       "2005-11-11       58806         58806   \n",
       "2007-03-06       68883         68883   \n",
       "2007-03-16       69138         69138   \n",
       "2009-03-03        4651          4651   \n",
       "2011-09-14       34513         34513   \n",
       "2011-10-13       35788         35788   \n",
       "2011-11-18       37291         37291   \n",
       "2012-02-28       41081         41081   \n",
       "2012-05-11       43823         43823   \n",
       "2012-08-06       47030         47030   \n",
       "2013-01-14       53184         53184   \n",
       "2013-01-14       53189         53189   \n",
       "2014-02-10       68538         68538   \n",
       "2014-02-28       69272         69272   \n",
       "2014-04-07       70749         70749   \n",
       "2014-04-14       71000         71000   \n",
       "2014-07-28       75258         75258   \n",
       "2014-09-26       77705         77705   \n",
       "2014-11-10       79554         79554   \n",
       "2015-03-12       84361         84361   \n",
       "2015-05-08       86663         86663   \n",
       "2015-07-28       89822         89822   \n",
       "2015-08-25       90826         90826   \n",
       "2015-09-03       91289         91289   \n",
       "2015-11-06       94201         94201   \n",
       "2016-02-06       97866         97866   \n",
       "2016-02-26       98693         98693   \n",
       "2016-04-12      100607        100607   \n",
       "2016-04-22      101014        101014   \n",
       "2016-07-19      104698        104698   \n",
       "2016-12-07      110665        110665   \n",
       "2018-01-11       21780         21780   \n",
       "2018-01-13       21854         21854   \n",
       "2018-02-07       22951         22951   \n",
       "2018-02-10       23073         23073   \n",
       "2018-02-23       23620         23620   \n",
       "2018-04-25       26136         26136   \n",
       "2018-05-18       27210         27210   \n",
       "2018-06-07       28076         28076   \n",
       "2018-10-07       33329         33329   \n",
       "2018-10-30       34432         34432   \n",
       "2018-11-08       34881         34881   \n",
       "\n",
       "                                                        title  \\\n",
       "created                                                         \n",
       "2008-06-17  Decoding Beta-Decay Systematics: A Global Stat...   \n",
       "2008-10-24  Towards Real-time Classification of Astronomic...   \n",
       "2005-11-11  Automatic classification of eclipsing binaries...   \n",
       "2007-03-06  Mining the SDSS archive. I. Photometric redshi...   \n",
       "2007-03-16  {\\sc CosmoNet}: fast cosmological parameter es...   \n",
       "2009-03-03  BayesCLUMPY: Bayesian Inference with Clumpy Du...   \n",
       "2011-09-14  A Gaussian process framework for modelling ins...   \n",
       "2011-10-13  BAMBI: blind accelerated multimodal Bayesian i...   \n",
       "2011-11-18  Characterization of Dwarf Novae Using SDSS Colors   \n",
       "2012-02-28  Decoding spectral energy distributions of dust...   \n",
       "2012-05-11  Determining Frequentist Confidence Limits Usin...   \n",
       "2012-08-06  A simple and robust method for automated photo...   \n",
       "2013-01-14  A new method to improve photometric redshift r...   \n",
       "2013-01-14  Semi-parametric Robust Event Detection for Mas...   \n",
       "2014-02-10  The Spatial Sensitivity Function of a Light Se...   \n",
       "2014-02-28  Exhausting the Information: Novel Bayesian Com...   \n",
       "2014-04-07  Towards Characterization of the Type IIP Super...   \n",
       "2014-04-14  Unsupervised Transient Light Curve Analysis Vi...   \n",
       "2014-07-28  Bayesian parameter estimation of core collapse...   \n",
       "2014-09-26  The Overlooked Potential of Generalized Linear...   \n",
       "2014-11-10  Low/High Redshift Classification of Emission L...   \n",
       "2015-03-12  The supernova cosmology cookbook: Bayesian num...   \n",
       "2015-05-08  A Hybrid Ensemble Learning Approach to Star-Ga...   \n",
       "2015-07-28  Bayesian High-Redshift Quasar Classification f...   \n",
       "2015-08-25  Nuclear Mass Predictions for the Crustal Compo...   \n",
       "2015-09-03  Machine Learning Model of the Swift/BAT Trigge...   \n",
       "2015-11-06  Oscillation frequencies for 35 \\Kepler solar-t...   \n",
       "2016-02-06  Bayesian analysis of cosmic-ray propagation: e...   \n",
       "2016-02-26  SOMBI: Bayesian identification of parameter re...   \n",
       "2016-04-12  GPz: Non-stationary sparse Gaussian processes ...   \n",
       "2016-04-22  Application of Bayesian Neural Networks to Ene...   \n",
       "2016-07-19  On the estimation of stellar parameters with u...   \n",
       "2016-12-07  A cooperative approach among methods for photo...   \n",
       "2018-01-11  A machine learns to predict the stability of c...   \n",
       "2018-01-13  Nuclear mass predictions based on Bayesian neu...   \n",
       "2018-02-07  Self-consistent redshift estimation using corr...   \n",
       "2018-02-10  Automatic physical inference with information ...   \n",
       "2018-02-23  Integrating human and machine intelligence in ...   \n",
       "2018-04-25  MADE: A spectroscopic Mass, Age, and Distance ...   \n",
       "2018-05-18  Bayesian optimisation for likelihood-free cosm...   \n",
       "2018-06-07  ExoGAN: Retrieving Exoplanetary Atmospheres Us...   \n",
       "2018-10-07  Predictions of nuclear $\\beta$-decay half-live...   \n",
       "2018-10-30  Towards a radially-resolved semi-analytic mode...   \n",
       "2018-11-08  Bayesian Deep Learning for Exoplanet Atmospher...   \n",
       "\n",
       "                                                     abstract  \\\n",
       "created                                                         \n",
       "2008-06-17  Statistical modeling of nuclear data provides ...   \n",
       "2008-10-24  Exploration of time domain is now a vibrant ar...   \n",
       "2005-11-11  In this work we present a system for the autom...   \n",
       "2007-03-06  We present a supervised neural network approac...   \n",
       "2007-03-16  We present a further development of a method f...   \n",
       "2009-03-03  Our aim is to present a fast and general Bayes...   \n",
       "2011-09-14  Transmission spectroscopy, which consists of m...   \n",
       "2011-10-13  In this paper we present an algorithm for rapi...   \n",
       "2011-11-18  We have developed a method for estimating the ...   \n",
       "2012-02-28  We present BayeSED, a general purpose tool for...   \n",
       "2012-05-11  We consider the problem of inferring constrain...   \n",
       "2012-08-06  A method is presented for automated photometri...   \n",
       "2013-01-14  In the next decade, the LSST will become a maj...   \n",
       "2013-01-14  The detection and analysis of events within ma...   \n",
       "2014-02-10  The Spatial Sensitivity Function (SSF) is used...   \n",
       "2014-02-28  The estimation and utilization of photometric ...   \n",
       "2014-04-07  In recent years, wide-field sky surveys provid...   \n",
       "2014-04-14  Historically, light curve studies of supernova...   \n",
       "2014-07-28  Using the latest numerical simulations of rota...   \n",
       "2014-09-26  Revealing hidden patterns in astronomical data...   \n",
       "2014-11-10  We discuss different methods to separate high-...   \n",
       "2015-03-12  Theoretical and observational cosmology have e...   \n",
       "2015-05-08  There exist a variety of star-galaxy classific...   \n",
       "2015-07-28  We identify 885,503 type 1 quasar candidates t...   \n",
       "2015-08-25  Besides their intrinsic nuclear-structure valu...   \n",
       "2015-09-03  To draw inferences about gamma-ray burst (GRB)...   \n",
       "2015-11-06  \\Kepler has revolutionised our understanding o...   \n",
       "2016-02-06  We present the results of the most complete ev...   \n",
       "2016-02-26  This work describes the implementation and app...   \n",
       "2016-04-12  The next generation of cosmology experiments w...   \n",
       "2016-04-22  A toy detector array is designed to detect a s...   \n",
       "2016-07-19  Aims. We present an innovative artificial neur...   \n",
       "2016-12-07  Photometric redshifts (photo-z's) are fundamen...   \n",
       "2018-01-11  Long-period circumbinary planets appear to be ...   \n",
       "2018-01-13  Bayesian neural network (BNN) approach is empl...   \n",
       "2018-02-07  We present a new method to estimate redshift d...   \n",
       "2018-02-10  Compressing large data sets to a manageable nu...   \n",
       "2018-02-23  Quantifying galaxy morphology is a challenging...   \n",
       "2018-04-25  We present a new approach (MADE) that generate...   \n",
       "2018-05-18  Many cosmological models have only a finite nu...   \n",
       "2018-06-07  Atmospheric retrievals on exoplanets usually i...   \n",
       "2018-10-07  Nuclear $\\beta$ decay is a key process to unde...   \n",
       "2018-10-30  We present a flexible, detailed model for the ...   \n",
       "2018-11-08  Over the past decade, the study of exoplanets ...   \n",
       "\n",
       "                                                   categories  \\\n",
       "created                                                         \n",
       "2008-06-17  ['nucl-th', 'astro-ph', 'cond-mat.dis-nn', 'cs...   \n",
       "2008-10-24                                       ['astro-ph']   \n",
       "2005-11-11                                       ['astro-ph']   \n",
       "2007-03-06                                       ['astro-ph']   \n",
       "2007-03-16                                       ['astro-ph']   \n",
       "2009-03-03                     ['astro-ph.IM', 'astro-ph.CO']   \n",
       "2011-09-14                                    ['astro-ph.EP']   \n",
       "2011-10-13  ['astro-ph.IM', 'astro-ph.CO', 'physics.data-a...   \n",
       "2011-11-18                                    ['astro-ph.SR']   \n",
       "2012-02-28                     ['astro-ph.CO', 'astro-ph.GA']   \n",
       "2012-05-11                     ['astro-ph.CO', 'astro-ph.IM']   \n",
       "2012-08-06                     ['astro-ph.CO', 'astro-ph.IM']   \n",
       "2013-01-14                     ['astro-ph.CO', 'astro-ph.IM']   \n",
       "2013-01-14                         ['stat.AP', 'astro-ph.IM']   \n",
       "2014-02-10      ['astro-ph.IM', 'physics.data-an', 'stat.AP']   \n",
       "2014-02-28                     ['astro-ph.CO', 'astro-ph.IM']   \n",
       "2014-04-07                     ['astro-ph.HE', 'astro-ph.SR']   \n",
       "2014-04-14                     ['astro-ph.IM', 'astro-ph.HE']   \n",
       "2014-07-28        ['physics.data-an', 'astro-ph.IM', 'gr-qc']   \n",
       "2014-09-26                     ['astro-ph.IM', 'astro-ph.CO']   \n",
       "2014-11-10                                    ['astro-ph.IM']   \n",
       "2015-03-12                                    ['astro-ph.CO']   \n",
       "2015-05-08                                    ['astro-ph.IM']   \n",
       "2015-07-28                                    ['astro-ph.GA']   \n",
       "2015-08-25  ['nucl-th', 'astro-ph.HE', 'astro-ph.SR', 'nuc...   \n",
       "2015-09-03      ['astro-ph.HE', 'physics.data-an', 'stat.ML']   \n",
       "2015-11-06                                    ['astro-ph.SR']   \n",
       "2016-02-06                     ['astro-ph.HE', 'astro-ph.GA']   \n",
       "2016-02-26                     ['astro-ph.CO', 'astro-ph.IM']   \n",
       "2016-04-12                                    ['astro-ph.IM']   \n",
       "2016-04-22       ['astro-ph.IM', 'hep-ex', 'physics.data-an']   \n",
       "2016-07-19   ['astro-ph.IM', 'astro-ph.SR', 'cs.AI', 'cs.NE']   \n",
       "2016-12-07                                    ['astro-ph.IM']   \n",
       "2018-01-11                                    ['astro-ph.EP']   \n",
       "2018-01-13              ['nucl-th', 'astro-ph.SR', 'nucl-ex']   \n",
       "2018-02-07                     ['astro-ph.CO', 'astro-ph.GA']   \n",
       "2018-02-10                                    ['astro-ph.IM']   \n",
       "2018-02-23                     ['astro-ph.IM', 'astro-ph.GA']   \n",
       "2018-04-25                                    ['astro-ph.GA']   \n",
       "2018-05-18          ['astro-ph.CO', 'astro-ph.IM', 'stat.AP']   \n",
       "2018-06-07                     ['astro-ph.IM', 'astro-ph.EP']   \n",
       "2018-10-07              ['nucl-th', 'astro-ph.SR', 'nucl-ex']   \n",
       "2018-10-30                                    ['astro-ph.GA']   \n",
       "2018-11-08                           ['astro-ph.EP', 'cs.LG']   \n",
       "\n",
       "                          id                               doi  \n",
       "created                                                         \n",
       "2008-06-17         0806.2850        10.1103/PhysRevC.80.044332  \n",
       "2008-10-24         0810.4527                 10.1063/1.3059064  \n",
       "2005-11-11  astro-ph/0511346        10.1051/0004-6361:20052830  \n",
       "2007-03-06  astro-ph/0703108                    10.1086/518020  \n",
       "2007-03-16  astro-ph/0703445  10.1111/j.1365-2966.2008.13279.x  \n",
       "2009-03-03          903.0622      10.1088/0004-637X/696/2/2075  \n",
       "2011-09-14         1109.3251  10.1111/j.1365-2966.2011.19915.x  \n",
       "2011-10-13         1110.2997  10.1111/j.1365-2966.2011.20288.x  \n",
       "2011-11-18         1111.4286              10.1093/pasj/64.3.63  \n",
       "2012-02-28           1202.62       10.1088/0004-637X/749/2/123  \n",
       "2012-05-11           1205.27        10.1088/0004-637X/794/1/38  \n",
       "2012-08-06           1208.13              10.1093/mnras/sts412  \n",
       "2013-01-14            1301.3       10.1051/0004-6361/201321102  \n",
       "2013-01-14            1301.3                               NaN  \n",
       "2014-02-10           1402.22                               NaN  \n",
       "2014-02-28              1403             10.1093/mnras/stu1098  \n",
       "2014-04-07            1404.2       10.1088/0004-637X/799/2/208  \n",
       "2014-04-14           1404.36        10.1088/0004-637X/800/1/36  \n",
       "2014-07-28           1407.75    10.1088/0266-5611/30/11/114008  \n",
       "2014-09-26           1409.77       10.1016/j.ascom.2015.04.002  \n",
       "2014-11-10           1411.27                               NaN  \n",
       "2015-03-12           1503.04                               NaN  \n",
       "2015-05-08           1505.02             10.1093/mnras/stv1608  \n",
       "2015-07-28           1507.08        10.1088/0067-0049/219/2/39  \n",
       "2015-08-25           1508.06        10.1103/PhysRevC.93.014311  \n",
       "2015-09-03           1509.01        10.3847/0004-637X/818/1/55  \n",
       "2015-11-06           1511.02             10.1093/mnras/stv2593  \n",
       "2016-02-06           1602.02        10.3847/0004-637X/824/1/16  \n",
       "2016-02-26           1602.08       10.1051/0004-6361/201628393  \n",
       "2016-04-12           1604.04             10.1093/mnras/stw1618  \n",
       "2016-04-22           1604.07    10.1088/1748-0221/11/07/P07006  \n",
       "2016-07-19           1607.06       10.1051/0004-6361/201527045  \n",
       "2016-12-07           1612.02             10.1093/mnras/stw3208  \n",
       "2018-01-11           1801.04              10.1093/mnras/sty022  \n",
       "2018-01-13           1801.04    10.1016/j.physletb.2018.01.002  \n",
       "2018-02-07           1802.03                               NaN  \n",
       "2018-02-10           1802.04        10.1103/PhysRevD.97.083004  \n",
       "2018-02-23           1802.09              10.1093/mnras/sty503  \n",
       "2018-04-25            1804.1             10.1093/mnras/sty2776  \n",
       "2018-05-18           1805.07        10.1103/PhysRevD.98.063511  \n",
       "2018-06-07           1806.03                               NaN  \n",
       "2018-10-07           1810.03                               NaN  \n",
       "2018-10-30           1810.13                               NaN  \n",
       "2018-11-08           1811.03                               NaN  "
      ]
     },
     "execution_count": 43,
     "metadata": {},
     "output_type": "execute_result"
    }
   ],
   "source": [
    "df_nn[df_nn.abstract.apply(lambda x : \"Bayesian\" in x)]"
   ]
  },
  {
   "cell_type": "code",
   "execution_count": null,
   "metadata": {},
   "outputs": [],
   "source": []
  }
 ],
 "metadata": {
  "kernelspec": {
   "display_name": "Python 3",
   "language": "python",
   "name": "python3"
  },
  "language_info": {
   "codemirror_mode": {
    "name": "ipython",
    "version": 3
   },
   "file_extension": ".py",
   "mimetype": "text/x-python",
   "name": "python",
   "nbconvert_exporter": "python",
   "pygments_lexer": "ipython3",
   "version": "3.6.1"
  }
 },
 "nbformat": 4,
 "nbformat_minor": 2
}
