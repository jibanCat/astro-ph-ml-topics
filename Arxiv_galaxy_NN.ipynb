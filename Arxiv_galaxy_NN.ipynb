{
 "cells": [
  {
   "cell_type": "code",
   "execution_count": 1,
   "metadata": {},
   "outputs": [],
   "source": [
    "from bs4 import BeautifulSoup\n",
    "from matplotlib import pyplot as plt\n",
    "import pandas as pd\n",
    "import numpy as np\n",
    "import urllib\n",
    "import time\n",
    "\n",
    "%matplotlib inline"
   ]
  },
  {
   "cell_type": "code",
   "execution_count": 2,
   "metadata": {},
   "outputs": [],
   "source": [
    "import altair as alt"
   ]
  },
  {
   "cell_type": "code",
   "execution_count": 3,
   "metadata": {},
   "outputs": [],
   "source": [
    "# using xml tool to scrape\n",
    "import xml.etree.ElementTree as ET"
   ]
  },
  {
   "cell_type": "markdown",
   "metadata": {},
   "source": [
    "# Galaxy NN in Arxiv"
   ]
  },
  {
   "cell_type": "code",
   "execution_count": 4,
   "metadata": {},
   "outputs": [],
   "source": [
    "from arxiv_harvest import harvest"
   ]
  },
  {
   "cell_type": "code",
   "execution_count": null,
   "metadata": {},
   "outputs": [],
   "source": [
    "# fetch all arxiv astro-ph metadata\n",
    "df = harvest(\n",
    "    arxiv=\"physics:astro-ph\", \n",
    "    start_date=\"2016-01-01\", \n",
    "    end_date=\"2018-11-15\",\n",
    "    output_filename=\"df_astro_16-18.csv\"\n",
    ")"
   ]
  },
  {
   "cell_type": "code",
   "execution_count": 5,
   "metadata": {},
   "outputs": [],
   "source": [
    "df = pd.read_csv(\"df_astro_16-18.csv\")"
   ]
  },
  {
   "cell_type": "markdown",
   "metadata": {},
   "source": [
    "## Anything about NN"
   ]
  },
  {
   "cell_type": "code",
   "execution_count": 6,
   "metadata": {},
   "outputs": [
    {
     "data": {
      "text/html": [
       "<div>\n",
       "<style scoped>\n",
       "    .dataframe tbody tr th:only-of-type {\n",
       "        vertical-align: middle;\n",
       "    }\n",
       "\n",
       "    .dataframe tbody tr th {\n",
       "        vertical-align: top;\n",
       "    }\n",
       "\n",
       "    .dataframe thead th {\n",
       "        text-align: right;\n",
       "    }\n",
       "</style>\n",
       "<table border=\"1\" class=\"dataframe\">\n",
       "  <thead>\n",
       "    <tr style=\"text-align: right;\">\n",
       "      <th></th>\n",
       "      <th>Unnamed: 0</th>\n",
       "      <th>title</th>\n",
       "      <th>abstract</th>\n",
       "      <th>categories</th>\n",
       "      <th>created</th>\n",
       "      <th>id</th>\n",
       "      <th>doi</th>\n",
       "    </tr>\n",
       "  </thead>\n",
       "  <tbody>\n",
       "    <tr>\n",
       "      <th>1006</th>\n",
       "      <td>1006</td>\n",
       "      <td>Cosmic Ray Composition and Energy Spectrum fro...</td>\n",
       "      <td>The mass composition of high energy cosmic ray...</td>\n",
       "      <td>['astro-ph.HE', 'astro-ph.IM']</td>\n",
       "      <td>2012-07-14</td>\n",
       "      <td>1207.34550</td>\n",
       "      <td>10.1016/j.astropartphys.2012.11.003</td>\n",
       "    </tr>\n",
       "    <tr>\n",
       "      <th>2414</th>\n",
       "      <td>2414</td>\n",
       "      <td>Photometric redshift estimation based on data ...</td>\n",
       "      <td>Photometric redshifts (photo-z) are crucial to...</td>\n",
       "      <td>['astro-ph.IM']</td>\n",
       "      <td>2015-01-26</td>\n",
       "      <td>1501.06506</td>\n",
       "      <td>10.1007/s10686-015-9443-4</td>\n",
       "    </tr>\n",
       "    <tr>\n",
       "      <th>3358</th>\n",
       "      <td>3358</td>\n",
       "      <td>ANNz2 - photometric redshift and probability d...</td>\n",
       "      <td>We present ANNz2, a new implementation of the ...</td>\n",
       "      <td>['astro-ph.CO']</td>\n",
       "      <td>2015-07-02</td>\n",
       "      <td>1507.00490</td>\n",
       "      <td>10.1088/1538-3873/128/968/104502</td>\n",
       "    </tr>\n",
       "    <tr>\n",
       "      <th>3876</th>\n",
       "      <td>3876</td>\n",
       "      <td>Nuclear Mass Predictions for the Crustal Compo...</td>\n",
       "      <td>Besides their intrinsic nuclear-structure valu...</td>\n",
       "      <td>['nucl-th', 'astro-ph.HE', 'astro-ph.SR', 'nuc...</td>\n",
       "      <td>2015-08-25</td>\n",
       "      <td>1508.06263</td>\n",
       "      <td>10.1103/PhysRevC.93.014311</td>\n",
       "    </tr>\n",
       "    <tr>\n",
       "      <th>4010</th>\n",
       "      <td>4010</td>\n",
       "      <td>Machine Learning Model of the Swift/BAT Trigge...</td>\n",
       "      <td>To draw inferences about gamma-ray burst (GRB)...</td>\n",
       "      <td>['astro-ph.HE', 'physics.data-an', 'stat.ML']</td>\n",
       "      <td>2015-09-03</td>\n",
       "      <td>1509.01228</td>\n",
       "      <td>10.3847/0004-637X/818/1/55</td>\n",
       "    </tr>\n",
       "    <tr>\n",
       "      <th>5752</th>\n",
       "      <td>5752</td>\n",
       "      <td>Predicting Coronal Mass Ejections transit time...</td>\n",
       "      <td>Predicting transit times of Coronal Mass Eject...</td>\n",
       "      <td>['astro-ph.SR']</td>\n",
       "      <td>2015-11-24</td>\n",
       "      <td>1511.07620</td>\n",
       "      <td>10.1093/mnras/stv2782</td>\n",
       "    </tr>\n",
       "    <tr>\n",
       "      <th>7104</th>\n",
       "      <td>7104</td>\n",
       "      <td>An Artificial Neural Network Approach For Rank...</td>\n",
       "      <td>We present a novel technique for ranking the r...</td>\n",
       "      <td>['astro-ph.GA']</td>\n",
       "      <td>2016-01-06</td>\n",
       "      <td>1601.01258</td>\n",
       "      <td>10.1093/mnras/stw036</td>\n",
       "    </tr>\n",
       "    <tr>\n",
       "      <th>7439</th>\n",
       "      <td>7439</td>\n",
       "      <td>The star formation rates of active galactic nu...</td>\n",
       "      <td>Using artificial neural network (ANN) predicti...</td>\n",
       "      <td>['astro-ph.GA']</td>\n",
       "      <td>2016-01-13</td>\n",
       "      <td>1601.03349</td>\n",
       "      <td>10.1093/mnrasl/slw012</td>\n",
       "    </tr>\n",
       "    <tr>\n",
       "      <th>8181</th>\n",
       "      <td>8181</td>\n",
       "      <td>Asteroseismic determination of fundamental par...</td>\n",
       "      <td>The advent of space-based observatories such a...</td>\n",
       "      <td>['astro-ph.SR']</td>\n",
       "      <td>2016-02-02</td>\n",
       "      <td>1602.00902</td>\n",
       "      <td>10.1093/mnras/stw1621</td>\n",
       "    </tr>\n",
       "    <tr>\n",
       "      <th>8230</th>\n",
       "      <td>8230</td>\n",
       "      <td>Excess B-modes extracted from the Planck polar...</td>\n",
       "      <td>One of the main obstacles for extracting the C...</td>\n",
       "      <td>['astro-ph.CO']</td>\n",
       "      <td>2016-02-03</td>\n",
       "      <td>1602.01284</td>\n",
       "      <td>10.1002/asna.201512351</td>\n",
       "    </tr>\n",
       "    <tr>\n",
       "      <th>8363</th>\n",
       "      <td>8363</td>\n",
       "      <td>Bayesian analysis of cosmic-ray propagation: e...</td>\n",
       "      <td>We present the results of the most complete ev...</td>\n",
       "      <td>['astro-ph.HE', 'astro-ph.GA']</td>\n",
       "      <td>2016-02-06</td>\n",
       "      <td>1602.02243</td>\n",
       "      <td>10.3847/0004-637X/824/1/16</td>\n",
       "    </tr>\n",
       "    <tr>\n",
       "      <th>9190</th>\n",
       "      <td>9190</td>\n",
       "      <td>SOMBI: Bayesian identification of parameter re...</td>\n",
       "      <td>This work describes the implementation and app...</td>\n",
       "      <td>['astro-ph.CO', 'astro-ph.IM']</td>\n",
       "      <td>2016-02-26</td>\n",
       "      <td>1602.08497</td>\n",
       "      <td>10.1051/0004-6361/201628393</td>\n",
       "    </tr>\n",
       "    <tr>\n",
       "      <th>9228</th>\n",
       "      <td>9228</td>\n",
       "      <td>Sensitivity of YAC to measure the light-compon...</td>\n",
       "      <td>A new air-shower core-detector array (YAC : Ya...</td>\n",
       "      <td>['astro-ph.HE', 'hep-ex']</td>\n",
       "      <td>2016-02-29</td>\n",
       "      <td>1602.08830</td>\n",
       "      <td>10.1088/0954-3899/42/4/045201</td>\n",
       "    </tr>\n",
       "    <tr>\n",
       "      <th>9412</th>\n",
       "      <td>9412</td>\n",
       "      <td>Photometric Supernova Classification With Mach...</td>\n",
       "      <td>Automated photometric supernova classification...</td>\n",
       "      <td>['astro-ph.IM', 'astro-ph.CO']</td>\n",
       "      <td>2016-03-02</td>\n",
       "      <td>1603.00882</td>\n",
       "      <td>10.3847/0067-0049/225/2/31</td>\n",
       "    </tr>\n",
       "    <tr>\n",
       "      <th>9426</th>\n",
       "      <td>9426</td>\n",
       "      <td>Parameterizing Stellar Spectra Using Deep Neur...</td>\n",
       "      <td>This work investigates the spectrum parameteri...</td>\n",
       "      <td>['astro-ph.SR']</td>\n",
       "      <td>2016-03-03</td>\n",
       "      <td>1603.00995</td>\n",
       "      <td>10.1088/1674-4527/17/4/36</td>\n",
       "    </tr>\n",
       "    <tr>\n",
       "      <th>11511</th>\n",
       "      <td>11511</td>\n",
       "      <td>Application of Bayesian Neural Networks to Ene...</td>\n",
       "      <td>A toy detector array is designed to detect a s...</td>\n",
       "      <td>['astro-ph.IM', 'hep-ex', 'physics.data-an']</td>\n",
       "      <td>2016-04-22</td>\n",
       "      <td>1604.06532</td>\n",
       "      <td>10.1088/1748-0221/11/07/P07006</td>\n",
       "    </tr>\n",
       "    <tr>\n",
       "      <th>12272</th>\n",
       "      <td>12272</td>\n",
       "      <td>Stellar classification from single-band imagin...</td>\n",
       "      <td>Information on the spectral types of stars is ...</td>\n",
       "      <td>['astro-ph.IM']</td>\n",
       "      <td>2016-05-10</td>\n",
       "      <td>1605.03201</td>\n",
       "      <td>10.1051/0004-6361/201628660</td>\n",
       "    </tr>\n",
       "    <tr>\n",
       "      <th>13458</th>\n",
       "      <td>13458</td>\n",
       "      <td>Estimating the Mass of the Local Group using M...</td>\n",
       "      <td>We revisit the estimation of the combined mass...</td>\n",
       "      <td>['astro-ph.GA', 'astro-ph.IM']</td>\n",
       "      <td>2016-06-08</td>\n",
       "      <td>1606.02694</td>\n",
       "      <td>10.1088/1475-7516/2017/12/034</td>\n",
       "    </tr>\n",
       "    <tr>\n",
       "      <th>14077</th>\n",
       "      <td>14077</td>\n",
       "      <td>Deep Recurrent Neural Networks for Supernovae ...</td>\n",
       "      <td>We apply deep recurrent neural networks, which...</td>\n",
       "      <td>['astro-ph.IM', 'astro-ph.CO', 'cs.LG', 'physi...</td>\n",
       "      <td>2016-06-23</td>\n",
       "      <td>1606.07442</td>\n",
       "      <td>10.3847/2041-8213/aa603d</td>\n",
       "    </tr>\n",
       "    <tr>\n",
       "      <th>14147</th>\n",
       "      <td>14147</td>\n",
       "      <td>Using an Artificial Neural Network to Classify...</td>\n",
       "      <td>We present The Machine, an artificial neural n...</td>\n",
       "      <td>['astro-ph.IM', 'astro-ph.GA']</td>\n",
       "      <td>2016-06-27</td>\n",
       "      <td>1606.08133</td>\n",
       "      <td>10.1093/mnras/stx1413</td>\n",
       "    </tr>\n",
       "    <tr>\n",
       "      <th>15195</th>\n",
       "      <td>15195</td>\n",
       "      <td>On the estimation of stellar parameters with u...</td>\n",
       "      <td>Aims. We present an innovative artificial neur...</td>\n",
       "      <td>['astro-ph.IM', 'astro-ph.SR', 'cs.AI', 'cs.NE']</td>\n",
       "      <td>2016-07-19</td>\n",
       "      <td>1607.05954</td>\n",
       "      <td>10.1051/0004-6361/201527045</td>\n",
       "    </tr>\n",
       "    <tr>\n",
       "      <th>15983</th>\n",
       "      <td>15983</td>\n",
       "      <td>Parameter estimates in binary black hole colli...</td>\n",
       "      <td>We present an algorithm based on artificial ne...</td>\n",
       "      <td>['astro-ph.IM', 'astro-ph.HE', 'gr-qc']</td>\n",
       "      <td>2016-08-08</td>\n",
       "      <td>1608.02491</td>\n",
       "      <td>10.1007/s10714-016-2136-0</td>\n",
       "    </tr>\n",
       "    <tr>\n",
       "      <th>16227</th>\n",
       "      <td>16227</td>\n",
       "      <td>Star-galaxy Classification Using Deep Convolut...</td>\n",
       "      <td>Most existing star-galaxy classifiers use the ...</td>\n",
       "      <td>['astro-ph.IM', 'astro-ph.CO', 'astro-ph.GA', ...</td>\n",
       "      <td>2016-08-15</td>\n",
       "      <td>1608.04369</td>\n",
       "      <td>10.1093/mnras/stw2672</td>\n",
       "    </tr>\n",
       "    <tr>\n",
       "      <th>17377</th>\n",
       "      <td>17377</td>\n",
       "      <td>Photo-$z$ with CuBAN$z$: An improved photometr...</td>\n",
       "      <td>We present an improved photometric redshift es...</td>\n",
       "      <td>['astro-ph.CO']</td>\n",
       "      <td>2016-09-12</td>\n",
       "      <td>1609.03568</td>\n",
       "      <td>10.1016/j.newast.2016.09.002</td>\n",
       "    </tr>\n",
       "    <tr>\n",
       "      <th>18562</th>\n",
       "      <td>18562</td>\n",
       "      <td>Pattern recognition in the ALFALFA.70 and Sloa...</td>\n",
       "      <td>The application of artificial neural networks ...</td>\n",
       "      <td>['astro-ph.GA']</td>\n",
       "      <td>2016-10-07</td>\n",
       "      <td>1610.02341</td>\n",
       "      <td>10.1093/mnras/stw2606</td>\n",
       "    </tr>\n",
       "    <tr>\n",
       "      <th>19824</th>\n",
       "      <td>19824</td>\n",
       "      <td>METAPHOR: A machine learning based method for ...</td>\n",
       "      <td>A variety of fundamental astrophysical science...</td>\n",
       "      <td>['astro-ph.IM']</td>\n",
       "      <td>2016-11-07</td>\n",
       "      <td>1611.02162</td>\n",
       "      <td>10.1093/mnras/stw2930</td>\n",
       "    </tr>\n",
       "  </tbody>\n",
       "</table>\n",
       "</div>"
      ],
      "text/plain": [
       "       Unnamed: 0                                              title  \\\n",
       "1006         1006  Cosmic Ray Composition and Energy Spectrum fro...   \n",
       "2414         2414  Photometric redshift estimation based on data ...   \n",
       "3358         3358  ANNz2 - photometric redshift and probability d...   \n",
       "3876         3876  Nuclear Mass Predictions for the Crustal Compo...   \n",
       "4010         4010  Machine Learning Model of the Swift/BAT Trigge...   \n",
       "5752         5752  Predicting Coronal Mass Ejections transit time...   \n",
       "7104         7104  An Artificial Neural Network Approach For Rank...   \n",
       "7439         7439  The star formation rates of active galactic nu...   \n",
       "8181         8181  Asteroseismic determination of fundamental par...   \n",
       "8230         8230  Excess B-modes extracted from the Planck polar...   \n",
       "8363         8363  Bayesian analysis of cosmic-ray propagation: e...   \n",
       "9190         9190  SOMBI: Bayesian identification of parameter re...   \n",
       "9228         9228  Sensitivity of YAC to measure the light-compon...   \n",
       "9412         9412  Photometric Supernova Classification With Mach...   \n",
       "9426         9426  Parameterizing Stellar Spectra Using Deep Neur...   \n",
       "11511       11511  Application of Bayesian Neural Networks to Ene...   \n",
       "12272       12272  Stellar classification from single-band imagin...   \n",
       "13458       13458  Estimating the Mass of the Local Group using M...   \n",
       "14077       14077  Deep Recurrent Neural Networks for Supernovae ...   \n",
       "14147       14147  Using an Artificial Neural Network to Classify...   \n",
       "15195       15195  On the estimation of stellar parameters with u...   \n",
       "15983       15983  Parameter estimates in binary black hole colli...   \n",
       "16227       16227  Star-galaxy Classification Using Deep Convolut...   \n",
       "17377       17377  Photo-$z$ with CuBAN$z$: An improved photometr...   \n",
       "18562       18562  Pattern recognition in the ALFALFA.70 and Sloa...   \n",
       "19824       19824  METAPHOR: A machine learning based method for ...   \n",
       "\n",
       "                                                abstract  \\\n",
       "1006   The mass composition of high energy cosmic ray...   \n",
       "2414   Photometric redshifts (photo-z) are crucial to...   \n",
       "3358   We present ANNz2, a new implementation of the ...   \n",
       "3876   Besides their intrinsic nuclear-structure valu...   \n",
       "4010   To draw inferences about gamma-ray burst (GRB)...   \n",
       "5752   Predicting transit times of Coronal Mass Eject...   \n",
       "7104   We present a novel technique for ranking the r...   \n",
       "7439   Using artificial neural network (ANN) predicti...   \n",
       "8181   The advent of space-based observatories such a...   \n",
       "8230   One of the main obstacles for extracting the C...   \n",
       "8363   We present the results of the most complete ev...   \n",
       "9190   This work describes the implementation and app...   \n",
       "9228   A new air-shower core-detector array (YAC : Ya...   \n",
       "9412   Automated photometric supernova classification...   \n",
       "9426   This work investigates the spectrum parameteri...   \n",
       "11511  A toy detector array is designed to detect a s...   \n",
       "12272  Information on the spectral types of stars is ...   \n",
       "13458  We revisit the estimation of the combined mass...   \n",
       "14077  We apply deep recurrent neural networks, which...   \n",
       "14147  We present The Machine, an artificial neural n...   \n",
       "15195  Aims. We present an innovative artificial neur...   \n",
       "15983  We present an algorithm based on artificial ne...   \n",
       "16227  Most existing star-galaxy classifiers use the ...   \n",
       "17377  We present an improved photometric redshift es...   \n",
       "18562  The application of artificial neural networks ...   \n",
       "19824  A variety of fundamental astrophysical science...   \n",
       "\n",
       "                                              categories     created  \\\n",
       "1006                      ['astro-ph.HE', 'astro-ph.IM']  2012-07-14   \n",
       "2414                                     ['astro-ph.IM']  2015-01-26   \n",
       "3358                                     ['astro-ph.CO']  2015-07-02   \n",
       "3876   ['nucl-th', 'astro-ph.HE', 'astro-ph.SR', 'nuc...  2015-08-25   \n",
       "4010       ['astro-ph.HE', 'physics.data-an', 'stat.ML']  2015-09-03   \n",
       "5752                                     ['astro-ph.SR']  2015-11-24   \n",
       "7104                                     ['astro-ph.GA']  2016-01-06   \n",
       "7439                                     ['astro-ph.GA']  2016-01-13   \n",
       "8181                                     ['astro-ph.SR']  2016-02-02   \n",
       "8230                                     ['astro-ph.CO']  2016-02-03   \n",
       "8363                      ['astro-ph.HE', 'astro-ph.GA']  2016-02-06   \n",
       "9190                      ['astro-ph.CO', 'astro-ph.IM']  2016-02-26   \n",
       "9228                           ['astro-ph.HE', 'hep-ex']  2016-02-29   \n",
       "9412                      ['astro-ph.IM', 'astro-ph.CO']  2016-03-02   \n",
       "9426                                     ['astro-ph.SR']  2016-03-03   \n",
       "11511       ['astro-ph.IM', 'hep-ex', 'physics.data-an']  2016-04-22   \n",
       "12272                                    ['astro-ph.IM']  2016-05-10   \n",
       "13458                     ['astro-ph.GA', 'astro-ph.IM']  2016-06-08   \n",
       "14077  ['astro-ph.IM', 'astro-ph.CO', 'cs.LG', 'physi...  2016-06-23   \n",
       "14147                     ['astro-ph.IM', 'astro-ph.GA']  2016-06-27   \n",
       "15195   ['astro-ph.IM', 'astro-ph.SR', 'cs.AI', 'cs.NE']  2016-07-19   \n",
       "15983            ['astro-ph.IM', 'astro-ph.HE', 'gr-qc']  2016-08-08   \n",
       "16227  ['astro-ph.IM', 'astro-ph.CO', 'astro-ph.GA', ...  2016-08-15   \n",
       "17377                                    ['astro-ph.CO']  2016-09-12   \n",
       "18562                                    ['astro-ph.GA']  2016-10-07   \n",
       "19824                                    ['astro-ph.IM']  2016-11-07   \n",
       "\n",
       "               id                                  doi  \n",
       "1006   1207.34550  10.1016/j.astropartphys.2012.11.003  \n",
       "2414   1501.06506            10.1007/s10686-015-9443-4  \n",
       "3358   1507.00490     10.1088/1538-3873/128/968/104502  \n",
       "3876   1508.06263           10.1103/PhysRevC.93.014311  \n",
       "4010   1509.01228           10.3847/0004-637X/818/1/55  \n",
       "5752   1511.07620                10.1093/mnras/stv2782  \n",
       "7104   1601.01258                 10.1093/mnras/stw036  \n",
       "7439   1601.03349                10.1093/mnrasl/slw012  \n",
       "8181   1602.00902                10.1093/mnras/stw1621  \n",
       "8230   1602.01284               10.1002/asna.201512351  \n",
       "8363   1602.02243           10.3847/0004-637X/824/1/16  \n",
       "9190   1602.08497          10.1051/0004-6361/201628393  \n",
       "9228   1602.08830        10.1088/0954-3899/42/4/045201  \n",
       "9412   1603.00882           10.3847/0067-0049/225/2/31  \n",
       "9426   1603.00995            10.1088/1674-4527/17/4/36  \n",
       "11511  1604.06532       10.1088/1748-0221/11/07/P07006  \n",
       "12272  1605.03201          10.1051/0004-6361/201628660  \n",
       "13458  1606.02694        10.1088/1475-7516/2017/12/034  \n",
       "14077  1606.07442             10.3847/2041-8213/aa603d  \n",
       "14147  1606.08133                10.1093/mnras/stx1413  \n",
       "15195  1607.05954          10.1051/0004-6361/201527045  \n",
       "15983  1608.02491            10.1007/s10714-016-2136-0  \n",
       "16227  1608.04369                10.1093/mnras/stw2672  \n",
       "17377  1609.03568         10.1016/j.newast.2016.09.002  \n",
       "18562  1610.02341                10.1093/mnras/stw2606  \n",
       "19824  1611.02162                10.1093/mnras/stw2930  "
      ]
     },
     "execution_count": 6,
     "metadata": {},
     "output_type": "execute_result"
    }
   ],
   "source": [
    "df_nn = df[df.abstract.str.contains(\"neural network\")]\n",
    "df_nn"
   ]
  },
  {
   "cell_type": "code",
   "execution_count": 7,
   "metadata": {},
   "outputs": [
    {
     "data": {
      "text/plain": [
       "0.0013"
      ]
     },
     "execution_count": 7,
     "metadata": {},
     "output_type": "execute_result"
    }
   ],
   "source": [
    "# ratio of neural network in the astro-ph\n",
    "len(df_nn) / len(df)"
   ]
  },
  {
   "cell_type": "code",
   "execution_count": 8,
   "metadata": {},
   "outputs": [
    {
     "name": "stdout",
     "output_type": "stream",
     "text": [
      "0.34615384615384615\n"
     ]
    },
    {
     "data": {
      "text/html": [
       "<div>\n",
       "<style scoped>\n",
       "    .dataframe tbody tr th:only-of-type {\n",
       "        vertical-align: middle;\n",
       "    }\n",
       "\n",
       "    .dataframe tbody tr th {\n",
       "        vertical-align: top;\n",
       "    }\n",
       "\n",
       "    .dataframe thead th {\n",
       "        text-align: right;\n",
       "    }\n",
       "</style>\n",
       "<table border=\"1\" class=\"dataframe\">\n",
       "  <thead>\n",
       "    <tr style=\"text-align: right;\">\n",
       "      <th></th>\n",
       "      <th>Unnamed: 0</th>\n",
       "      <th>title</th>\n",
       "      <th>abstract</th>\n",
       "      <th>categories</th>\n",
       "      <th>created</th>\n",
       "      <th>id</th>\n",
       "      <th>doi</th>\n",
       "    </tr>\n",
       "  </thead>\n",
       "  <tbody>\n",
       "    <tr>\n",
       "      <th>7104</th>\n",
       "      <td>7104</td>\n",
       "      <td>An Artificial Neural Network Approach For Rank...</td>\n",
       "      <td>We present a novel technique for ranking the r...</td>\n",
       "      <td>['astro-ph.GA']</td>\n",
       "      <td>2016-01-06</td>\n",
       "      <td>1601.01258</td>\n",
       "      <td>10.1093/mnras/stw036</td>\n",
       "    </tr>\n",
       "    <tr>\n",
       "      <th>7439</th>\n",
       "      <td>7439</td>\n",
       "      <td>The star formation rates of active galactic nu...</td>\n",
       "      <td>Using artificial neural network (ANN) predicti...</td>\n",
       "      <td>['astro-ph.GA']</td>\n",
       "      <td>2016-01-13</td>\n",
       "      <td>1601.03349</td>\n",
       "      <td>10.1093/mnrasl/slw012</td>\n",
       "    </tr>\n",
       "    <tr>\n",
       "      <th>9190</th>\n",
       "      <td>9190</td>\n",
       "      <td>SOMBI: Bayesian identification of parameter re...</td>\n",
       "      <td>This work describes the implementation and app...</td>\n",
       "      <td>['astro-ph.CO', 'astro-ph.IM']</td>\n",
       "      <td>2016-02-26</td>\n",
       "      <td>1602.08497</td>\n",
       "      <td>10.1051/0004-6361/201628393</td>\n",
       "    </tr>\n",
       "    <tr>\n",
       "      <th>14077</th>\n",
       "      <td>14077</td>\n",
       "      <td>Deep Recurrent Neural Networks for Supernovae ...</td>\n",
       "      <td>We apply deep recurrent neural networks, which...</td>\n",
       "      <td>['astro-ph.IM', 'astro-ph.CO', 'cs.LG', 'physi...</td>\n",
       "      <td>2016-06-23</td>\n",
       "      <td>1606.07442</td>\n",
       "      <td>10.3847/2041-8213/aa603d</td>\n",
       "    </tr>\n",
       "    <tr>\n",
       "      <th>14147</th>\n",
       "      <td>14147</td>\n",
       "      <td>Using an Artificial Neural Network to Classify...</td>\n",
       "      <td>We present The Machine, an artificial neural n...</td>\n",
       "      <td>['astro-ph.IM', 'astro-ph.GA']</td>\n",
       "      <td>2016-06-27</td>\n",
       "      <td>1606.08133</td>\n",
       "      <td>10.1093/mnras/stx1413</td>\n",
       "    </tr>\n",
       "    <tr>\n",
       "      <th>16227</th>\n",
       "      <td>16227</td>\n",
       "      <td>Star-galaxy Classification Using Deep Convolut...</td>\n",
       "      <td>Most existing star-galaxy classifiers use the ...</td>\n",
       "      <td>['astro-ph.IM', 'astro-ph.CO', 'astro-ph.GA', ...</td>\n",
       "      <td>2016-08-15</td>\n",
       "      <td>1608.04369</td>\n",
       "      <td>10.1093/mnras/stw2672</td>\n",
       "    </tr>\n",
       "    <tr>\n",
       "      <th>17377</th>\n",
       "      <td>17377</td>\n",
       "      <td>Photo-$z$ with CuBAN$z$: An improved photometr...</td>\n",
       "      <td>We present an improved photometric redshift es...</td>\n",
       "      <td>['astro-ph.CO']</td>\n",
       "      <td>2016-09-12</td>\n",
       "      <td>1609.03568</td>\n",
       "      <td>10.1016/j.newast.2016.09.002</td>\n",
       "    </tr>\n",
       "    <tr>\n",
       "      <th>18562</th>\n",
       "      <td>18562</td>\n",
       "      <td>Pattern recognition in the ALFALFA.70 and Sloa...</td>\n",
       "      <td>The application of artificial neural networks ...</td>\n",
       "      <td>['astro-ph.GA']</td>\n",
       "      <td>2016-10-07</td>\n",
       "      <td>1610.02341</td>\n",
       "      <td>10.1093/mnras/stw2606</td>\n",
       "    </tr>\n",
       "    <tr>\n",
       "      <th>19824</th>\n",
       "      <td>19824</td>\n",
       "      <td>METAPHOR: A machine learning based method for ...</td>\n",
       "      <td>A variety of fundamental astrophysical science...</td>\n",
       "      <td>['astro-ph.IM']</td>\n",
       "      <td>2016-11-07</td>\n",
       "      <td>1611.02162</td>\n",
       "      <td>10.1093/mnras/stw2930</td>\n",
       "    </tr>\n",
       "  </tbody>\n",
       "</table>\n",
       "</div>"
      ],
      "text/plain": [
       "       Unnamed: 0                                              title  \\\n",
       "7104         7104  An Artificial Neural Network Approach For Rank...   \n",
       "7439         7439  The star formation rates of active galactic nu...   \n",
       "9190         9190  SOMBI: Bayesian identification of parameter re...   \n",
       "14077       14077  Deep Recurrent Neural Networks for Supernovae ...   \n",
       "14147       14147  Using an Artificial Neural Network to Classify...   \n",
       "16227       16227  Star-galaxy Classification Using Deep Convolut...   \n",
       "17377       17377  Photo-$z$ with CuBAN$z$: An improved photometr...   \n",
       "18562       18562  Pattern recognition in the ALFALFA.70 and Sloa...   \n",
       "19824       19824  METAPHOR: A machine learning based method for ...   \n",
       "\n",
       "                                                abstract  \\\n",
       "7104   We present a novel technique for ranking the r...   \n",
       "7439   Using artificial neural network (ANN) predicti...   \n",
       "9190   This work describes the implementation and app...   \n",
       "14077  We apply deep recurrent neural networks, which...   \n",
       "14147  We present The Machine, an artificial neural n...   \n",
       "16227  Most existing star-galaxy classifiers use the ...   \n",
       "17377  We present an improved photometric redshift es...   \n",
       "18562  The application of artificial neural networks ...   \n",
       "19824  A variety of fundamental astrophysical science...   \n",
       "\n",
       "                                              categories     created  \\\n",
       "7104                                     ['astro-ph.GA']  2016-01-06   \n",
       "7439                                     ['astro-ph.GA']  2016-01-13   \n",
       "9190                      ['astro-ph.CO', 'astro-ph.IM']  2016-02-26   \n",
       "14077  ['astro-ph.IM', 'astro-ph.CO', 'cs.LG', 'physi...  2016-06-23   \n",
       "14147                     ['astro-ph.IM', 'astro-ph.GA']  2016-06-27   \n",
       "16227  ['astro-ph.IM', 'astro-ph.CO', 'astro-ph.GA', ...  2016-08-15   \n",
       "17377                                    ['astro-ph.CO']  2016-09-12   \n",
       "18562                                    ['astro-ph.GA']  2016-10-07   \n",
       "19824                                    ['astro-ph.IM']  2016-11-07   \n",
       "\n",
       "               id                           doi  \n",
       "7104   1601.01258          10.1093/mnras/stw036  \n",
       "7439   1601.03349         10.1093/mnrasl/slw012  \n",
       "9190   1602.08497   10.1051/0004-6361/201628393  \n",
       "14077  1606.07442      10.3847/2041-8213/aa603d  \n",
       "14147  1606.08133         10.1093/mnras/stx1413  \n",
       "16227  1608.04369         10.1093/mnras/stw2672  \n",
       "17377  1609.03568  10.1016/j.newast.2016.09.002  \n",
       "18562  1610.02341         10.1093/mnras/stw2606  \n",
       "19824  1611.02162         10.1093/mnras/stw2930  "
      ]
     },
     "execution_count": 8,
     "metadata": {},
     "output_type": "execute_result"
    }
   ],
   "source": [
    "# How many of them are about galaxy\n",
    "print(len(df_nn[df_nn.abstract.str.contains(\"galaxy\")]) / len(df_nn))\n",
    "df_nn[df_nn.abstract.str.contains(\"galaxy\")]"
   ]
  },
  {
   "cell_type": "markdown",
   "metadata": {},
   "source": [
    "## Category"
   ]
  },
  {
   "cell_type": "code",
   "execution_count": 9,
   "metadata": {},
   "outputs": [
    {
     "data": {
      "text/plain": [
       "{'astro-ph.CO',\n",
       " 'astro-ph.GA',\n",
       " 'astro-ph.HE',\n",
       " 'astro-ph.IM',\n",
       " 'astro-ph.SR',\n",
       " 'cs.AI',\n",
       " 'cs.CV',\n",
       " 'cs.LG',\n",
       " 'cs.NE',\n",
       " 'gr-qc',\n",
       " 'hep-ex',\n",
       " 'nucl-ex',\n",
       " 'nucl-th',\n",
       " 'physics.data-an',\n",
       " 'stat.ML'}"
      ]
     },
     "execution_count": 9,
     "metadata": {},
     "output_type": "execute_result"
    }
   ],
   "source": [
    "import itertools\n",
    "from collections import Counter\n",
    "import re\n",
    "\n",
    "all_category = list(itertools.chain.from_iterable(\n",
    "    df_nn.categories.apply(\n",
    "        lambda x: re.sub(r\"[\\[\\]' ]\", \"\", x).split(\",\") \n",
    "    ).values\n",
    "))\n",
    "set(all_category)"
   ]
  },
  {
   "cell_type": "code",
   "execution_count": 10,
   "metadata": {},
   "outputs": [
    {
     "data": {
      "text/plain": [
       "[('astro-ph.IM', 13),\n",
       " ('astro-ph.CO', 7),\n",
       " ('astro-ph.GA', 7),\n",
       " ('astro-ph.HE', 6),\n",
       " ('astro-ph.SR', 5),\n",
       " ('physics.data-an', 3),\n",
       " ('hep-ex', 2),\n",
       " ('nucl-th', 1),\n",
       " ('nucl-ex', 1),\n",
       " ('stat.ML', 1),\n",
       " ('cs.LG', 1),\n",
       " ('cs.AI', 1),\n",
       " ('cs.NE', 1),\n",
       " ('gr-qc', 1),\n",
       " ('cs.CV', 1)]"
      ]
     },
     "execution_count": 10,
     "metadata": {},
     "output_type": "execute_result"
    }
   ],
   "source": [
    "one_gram_category = Counter(all_category).most_common(15)\n",
    "one_gram_category"
   ]
  },
  {
   "cell_type": "code",
   "execution_count": 20,
   "metadata": {},
   "outputs": [
    {
     "data": {
      "application/vnd.vegalite.v2+json": {
       "$schema": "https://vega.github.io/schema/vega-lite/v2.4.3.json",
       "config": {
        "view": {
         "height": 300,
         "width": 400
        }
       },
       "data": {
        "values": [
         {
          "category": "astro-ph.IM",
          "count": 13
         },
         {
          "category": "astro-ph.CO",
          "count": 7
         },
         {
          "category": "astro-ph.GA",
          "count": 7
         },
         {
          "category": "astro-ph.HE",
          "count": 6
         },
         {
          "category": "astro-ph.SR",
          "count": 5
         },
         {
          "category": "physics.data-an",
          "count": 3
         },
         {
          "category": "hep-ex",
          "count": 2
         },
         {
          "category": "nucl-th",
          "count": 1
         },
         {
          "category": "nucl-ex",
          "count": 1
         },
         {
          "category": "stat.ML",
          "count": 1
         },
         {
          "category": "cs.LG",
          "count": 1
         },
         {
          "category": "cs.AI",
          "count": 1
         },
         {
          "category": "cs.NE",
          "count": 1
         },
         {
          "category": "gr-qc",
          "count": 1
         },
         {
          "category": "cs.CV",
          "count": 1
         }
        ]
       },
       "encoding": {
        "x": {
         "field": "count",
         "type": "quantitative"
        },
        "y": {
         "field": "category",
         "sort": {
          "field": "freq",
          "op": "sum",
          "order": "ascending"
         },
         "type": "nominal"
        }
       },
       "mark": "bar"
      },
      "image/png": "[encoded data removed]",
      "text/plain": [
       "<VegaLite 2 object>\n",
       "\n",
       "If you see this message, it means the renderer has not been properly enabled\n",
       "for the frontend that you are using. For more information, see\n",
       "https://altair-viz.github.io/user_guide/troubleshooting.html\n"
      ]
     },
     "execution_count": 20,
     "metadata": {},
     "output_type": "execute_result"
    }
   ],
   "source": [
    "data = pd.DataFrame(one_gram_category, columns=[\"category\", \"count\"])\n",
    "\n",
    "alt.Chart(data).mark_bar().encode(\n",
    "    x='count',\n",
    "    y=alt.Y('category', sort=alt.SortField(field=\"freq\", op=\"sum\", order=\"ascending\")), \n",
    ")"
   ]
  },
  {
   "cell_type": "markdown",
   "metadata": {},
   "source": [
    "## N-Grams on Abstract"
   ]
  },
  {
   "cell_type": "code",
   "execution_count": 16,
   "metadata": {},
   "outputs": [],
   "source": [
    "# concat all string into one big string\n",
    "all_abstract = \"\".join(df_nn.abstract)\n",
    "all_abstract = re.sub(\n",
    "    r\"(with |which |have |of |the |and |in |from |to |for |by |such |on |as |a |has |been |We |present |find |In |this |Sky |Survey |is |used |an |not |only |are |also |that |The |or |will |be |we )\", \n",
    "    \"\", \n",
    "    all_abstract, \n",
    ")\n",
    "all_abstract = re.sub(r\"  \", \" \", all_abstract, )\n",
    "all_abstract = all_abstract.split(\" \")\n",
    "\n",
    "# ngrams\n",
    "one_gram_abstract    = Counter(all_abstract)\n",
    "two_grams_abstract   = Counter(zip(all_abstract, all_abstract[1:]))\n",
    "three_grams_abstract = Counter(zip(all_abstract, all_abstract[1:], all_abstract[2:]))"
   ]
  },
  {
   "cell_type": "code",
   "execution_count": 17,
   "metadata": {},
   "outputs": [
    {
     "data": {
      "text/plain": [
       "[('neural', 25),\n",
       " ('using', 20),\n",
       " ('mass', 16),\n",
       " ('network', 16),\n",
       " ('networks', 16),\n",
       " ('parameters', 15),\n",
       " ('learning', 14),\n",
       " ('photometric', 12),\n",
       " ('results', 10),\n",
       " ('based', 10),\n",
       " ('between', 10),\n",
       " ('model', 10),\n",
       " ('more', 10),\n",
       " ('galaxy', 10),\n",
       " ('machine', 9),\n",
       " ('training', 9),\n",
       " ('algorithm', 8),\n",
       " ('models', 8),\n",
       " ('method', 8),\n",
       " ('stellar', 8)]"
      ]
     },
     "execution_count": 17,
     "metadata": {},
     "output_type": "execute_result"
    }
   ],
   "source": [
    "# 1-gram\n",
    "one_gram_abstract.most_common(20)"
   ]
  },
  {
   "cell_type": "code",
   "execution_count": 19,
   "metadata": {},
   "outputs": [
    {
     "data": {
      "application/vnd.vegalite.v2+json": {
       "$schema": "https://vega.github.io/schema/vega-lite/v2.4.3.json",
       "config": {
        "view": {
         "height": 300,
         "width": 400
        }
       },
       "data": {
        "values": [
         {
          "count": 25,
          "one_gram_abstract": "neural"
         },
         {
          "count": 20,
          "one_gram_abstract": "using"
         },
         {
          "count": 16,
          "one_gram_abstract": "mass"
         },
         {
          "count": 16,
          "one_gram_abstract": "network"
         },
         {
          "count": 16,
          "one_gram_abstract": "networks"
         },
         {
          "count": 15,
          "one_gram_abstract": "parameters"
         },
         {
          "count": 14,
          "one_gram_abstract": "learning"
         },
         {
          "count": 12,
          "one_gram_abstract": "photometric"
         },
         {
          "count": 10,
          "one_gram_abstract": "results"
         },
         {
          "count": 10,
          "one_gram_abstract": "based"
         },
         {
          "count": 10,
          "one_gram_abstract": "between"
         },
         {
          "count": 10,
          "one_gram_abstract": "model"
         },
         {
          "count": 10,
          "one_gram_abstract": "more"
         },
         {
          "count": 10,
          "one_gram_abstract": "galaxy"
         },
         {
          "count": 9,
          "one_gram_abstract": "machine"
         },
         {
          "count": 9,
          "one_gram_abstract": "training"
         },
         {
          "count": 8,
          "one_gram_abstract": "algorithm"
         },
         {
          "count": 8,
          "one_gram_abstract": "models"
         },
         {
          "count": 8,
          "one_gram_abstract": "method"
         },
         {
          "count": 8,
          "one_gram_abstract": "stellar"
         }
        ]
       },
       "encoding": {
        "x": {
         "field": "count",
         "type": "quantitative"
        },
        "y": {
         "field": "one_gram_abstract",
         "sort": {
          "field": "freq",
          "op": "sum",
          "order": "ascending"
         },
         "type": "nominal"
        }
       },
       "mark": "bar"
      },
      "image/png": "[encoded data removed]",
      "text/plain": [
       "<VegaLite 2 object>\n",
       "\n",
       "If you see this message, it means the renderer has not been properly enabled\n",
       "for the frontend that you are using. For more information, see\n",
       "https://altair-viz.github.io/user_guide/troubleshooting.html\n"
      ]
     },
     "execution_count": 19,
     "metadata": {},
     "output_type": "execute_result"
    }
   ],
   "source": [
    "data = pd.DataFrame(one_gram_abstract.most_common(20), columns=[\"one_gram_abstract\", \"count\"])\n",
    "\n",
    "alt.Chart(data).mark_bar().encode(\n",
    "    x='count',\n",
    "    y=alt.Y('one_gram_abstract', sort=alt.SortField(field=\"freq\", op=\"sum\", order=\"ascending\")), \n",
    ")"
   ]
  },
  {
   "cell_type": "code",
   "execution_count": 81,
   "metadata": {},
   "outputs": [
    {
     "data": {
      "text/plain": [
       "[(('neural', 'network'), 10),\n",
       " (('machine', 'learning'), 9),\n",
       " (('neural', 'networks'), 9),\n",
       " (('artificial', 'neural'), 7),\n",
       " (('cosmic', 'ray'), 4),\n",
       " (('network', '(ANN)'), 4),\n",
       " (('neural', 'networks,'), 3),\n",
       " (('photometric', 'redshifts'), 3),\n",
       " (('study', 'cosmic'), 2),\n",
       " (('spectroscopic', 'training'), 2),\n",
       " (('residuals', 'between'), 2),\n",
       " (('boosted', 'decisitrees'), 2),\n",
       " (('support', 'vectmachines,'), 2),\n",
       " (('transit', 'times'), 2),\n",
       " (('star', 'formation.'), 2),\n",
       " (('success', 'rate'), 2),\n",
       " (('galaxy', 'properties'), 2),\n",
       " (('feasibility', 'neural'), 2),\n",
       " (('Large', 'Synoptic'), 2),\n",
       " (('light', 'curves'), 2)]"
      ]
     },
     "execution_count": 81,
     "metadata": {},
     "output_type": "execute_result"
    }
   ],
   "source": [
    "# 2-grams\n",
    "two_grams_abstract.most_common(20)"
   ]
  },
  {
   "cell_type": "code",
   "execution_count": 21,
   "metadata": {},
   "outputs": [
    {
     "data": {
      "application/vnd.vegalite.v2+json": {
       "$schema": "https://vega.github.io/schema/vega-lite/v2.4.3.json",
       "config": {
        "view": {
         "height": 300,
         "width": 400
        }
       },
       "data": {
        "values": [
         {
          "count": 10,
          "two_grams_abstract": [
           "neural",
           "network"
          ]
         },
         {
          "count": 9,
          "two_grams_abstract": [
           "machine",
           "learning"
          ]
         },
         {
          "count": 9,
          "two_grams_abstract": [
           "neural",
           "networks"
          ]
         },
         {
          "count": 7,
          "two_grams_abstract": [
           "artificial",
           "neural"
          ]
         },
         {
          "count": 4,
          "two_grams_abstract": [
           "cosmic",
           "ray"
          ]
         },
         {
          "count": 4,
          "two_grams_abstract": [
           "network",
           "(ANN)"
          ]
         },
         {
          "count": 3,
          "two_grams_abstract": [
           "neural",
           "networks,"
          ]
         },
         {
          "count": 3,
          "two_grams_abstract": [
           "photometric",
           "redshifts"
          ]
         },
         {
          "count": 2,
          "two_grams_abstract": [
           "study",
           "cosmic"
          ]
         },
         {
          "count": 2,
          "two_grams_abstract": [
           "spectroscopic",
           "training"
          ]
         },
         {
          "count": 2,
          "two_grams_abstract": [
           "residuals",
           "between"
          ]
         },
         {
          "count": 2,
          "two_grams_abstract": [
           "boosted",
           "decisitrees"
          ]
         },
         {
          "count": 2,
          "two_grams_abstract": [
           "support",
           "vectmachines,"
          ]
         },
         {
          "count": 2,
          "two_grams_abstract": [
           "transit",
           "times"
          ]
         },
         {
          "count": 2,
          "two_grams_abstract": [
           "star",
           "formation."
          ]
         },
         {
          "count": 2,
          "two_grams_abstract": [
           "success",
           "rate"
          ]
         },
         {
          "count": 2,
          "two_grams_abstract": [
           "galaxy",
           "properties"
          ]
         },
         {
          "count": 2,
          "two_grams_abstract": [
           "feasibility",
           "neural"
          ]
         },
         {
          "count": 2,
          "two_grams_abstract": [
           "Large",
           "Synoptic"
          ]
         },
         {
          "count": 2,
          "two_grams_abstract": [
           "light",
           "curves"
          ]
         }
        ]
       },
       "encoding": {
        "x": {
         "field": "count",
         "type": "quantitative"
        },
        "y": {
         "field": "two_grams_abstract",
         "sort": {
          "field": "freq",
          "op": "sum",
          "order": "ascending"
         },
         "type": "nominal"
        }
       },
       "mark": "bar"
      },
      "image/png": "[encoded data removed]",
      "text/plain": [
       "<VegaLite 2 object>\n",
       "\n",
       "If you see this message, it means the renderer has not been properly enabled\n",
       "for the frontend that you are using. For more information, see\n",
       "https://altair-viz.github.io/user_guide/troubleshooting.html\n"
      ]
     },
     "execution_count": 21,
     "metadata": {},
     "output_type": "execute_result"
    }
   ],
   "source": [
    "data = pd.DataFrame(two_grams_abstract.most_common(20), columns=[\"two_grams_abstract\", \"count\"])\n",
    "\n",
    "alt.Chart(data).mark_bar().encode(\n",
    "    x='count',\n",
    "    y=alt.Y('two_grams_abstract', sort=alt.SortField(field=\"freq\", op=\"sum\", order=\"ascending\")), \n",
    ")"
   ]
  },
  {
   "cell_type": "code",
   "execution_count": 82,
   "metadata": {},
   "outputs": [
    {
     "data": {
      "text/plain": [
       "[(('neural', 'network', '(ANN)'), 4),\n",
       " (('artificial', 'neural', 'network'), 4),\n",
       " (('study', 'cosmic', 'ray'), 2),\n",
       " (('artificial', 'neural', 'networks'), 2),\n",
       " (('machine', 'learning', 'model'), 2),\n",
       " (('deep', 'convolutional', 'neural'), 2),\n",
       " (('convolutional', 'neural', 'networks'), 2),\n",
       " (('able', 'produce', 'accurate'), 2),\n",
       " (('mass', 'compositihigh', 'energy'), 1),\n",
       " (('compositihigh', 'energy', 'cosmic'), 1),\n",
       " (('energy', 'cosmic', 'rays'), 1),\n",
       " (('cosmic', 'rays', 'depends'), 1),\n",
       " (('rays', 'depends', 'their'), 1),\n",
       " (('depends', 'their', 'production,\\nacceleration,'), 1),\n",
       " (('their', 'production,\\nacceleration,', 'propagation.'), 1),\n",
       " (('production,\\nacceleration,', 'propagation.', 'study'), 1),\n",
       " (('propagation.', 'study', 'cosmic'), 1),\n",
       " (('cosmic', 'ray', 'compositican\\ntherefore'), 1),\n",
       " (('ray', 'compositican\\ntherefore', 'reveal'), 1),\n",
       " (('compositican\\ntherefore', 'reveal', 'hints'), 1)]"
      ]
     },
     "execution_count": 82,
     "metadata": {},
     "output_type": "execute_result"
    }
   ],
   "source": [
    "three_grams_abstract.most_common(20)"
   ]
  },
  {
   "cell_type": "code",
   "execution_count": null,
   "metadata": {},
   "outputs": [],
   "source": []
  }
 ],
 "metadata": {
  "kernelspec": {
   "display_name": "Python 3",
   "language": "python",
   "name": "python3"
  },
  "language_info": {
   "codemirror_mode": {
    "name": "ipython",
    "version": 3
   },
   "file_extension": ".py",
   "mimetype": "text/x-python",
   "name": "python",
   "nbconvert_exporter": "python",
   "pygments_lexer": "ipython3",
   "version": "3.6.1"
  }
 },
 "nbformat": 4,
 "nbformat_minor": 2
}
