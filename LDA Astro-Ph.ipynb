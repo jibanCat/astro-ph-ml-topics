{
 "cells": [
  {
   "cell_type": "code",
   "execution_count": 44,
   "metadata": {},
   "outputs": [],
   "source": [
    "import pandas as pd\n",
    "from matplotlib import pyplot as plt\n",
    "\n",
    "%matplotlib inline\n",
    "\n",
    "from sklearn.feature_extraction.text import TfidfVectorizer, CountVectorizer\n",
    "import numpy as np"
   ]
  },
  {
   "cell_type": "markdown",
   "metadata": {},
   "source": [
    "# LDA on Astro-Ph \n",
    "\n",
    "Shouldn't be too hard to do."
   ]
  },
  {
   "cell_type": "code",
   "execution_count": 37,
   "metadata": {},
   "outputs": [
    {
     "name": "stderr",
     "output_type": "stream",
     "text": [
      "/Users/cicero/anaconda/envs/viper/lib/python3.6/site-packages/IPython/core/interactiveshell.py:2785: DtypeWarning: Columns (6) have mixed types. Specify dtype option on import or set low_memory=False.\n",
      "  interactivity=interactivity, compiler=compiler, result=result)\n"
     ]
    }
   ],
   "source": [
    "df_astro = pd.read_csv(\"df_astro_00-18.csv\")"
   ]
  },
  {
   "cell_type": "code",
   "execution_count": 38,
   "metadata": {},
   "outputs": [
    {
     "data": {
      "text/html": [
       "<div>\n",
       "<style scoped>\n",
       "    .dataframe tbody tr th:only-of-type {\n",
       "        vertical-align: middle;\n",
       "    }\n",
       "\n",
       "    .dataframe tbody tr th {\n",
       "        vertical-align: top;\n",
       "    }\n",
       "\n",
       "    .dataframe thead th {\n",
       "        text-align: right;\n",
       "    }\n",
       "</style>\n",
       "<table border=\"1\" class=\"dataframe\">\n",
       "  <thead>\n",
       "    <tr style=\"text-align: right;\">\n",
       "      <th></th>\n",
       "      <th>Unnamed: 0</th>\n",
       "      <th>Unnamed: 0.1</th>\n",
       "      <th>title</th>\n",
       "      <th>abstract</th>\n",
       "      <th>categories</th>\n",
       "      <th>created</th>\n",
       "      <th>id</th>\n",
       "      <th>doi</th>\n",
       "    </tr>\n",
       "  </thead>\n",
       "  <tbody>\n",
       "    <tr>\n",
       "      <th>0</th>\n",
       "      <td>0</td>\n",
       "      <td>0</td>\n",
       "      <td>Spectroscopic Observations of the Intermediate...</td>\n",
       "      <td>Results from spectroscopic observations of the...</td>\n",
       "      <td>['astro-ph']</td>\n",
       "      <td>2007-03-31</td>\n",
       "      <td>0704.0017</td>\n",
       "      <td>10.1111/j.1365-2966.2007.11762.x</td>\n",
       "    </tr>\n",
       "    <tr>\n",
       "      <th>1</th>\n",
       "      <td>1</td>\n",
       "      <td>1</td>\n",
       "      <td>ALMA as the ideal probe of the solar chromosphere</td>\n",
       "      <td>The very nature of the solar chromosphere, its...</td>\n",
       "      <td>['astro-ph']</td>\n",
       "      <td>2007-03-31</td>\n",
       "      <td>0704.0023</td>\n",
       "      <td>10.1007/s10509-007-9626-1</td>\n",
       "    </tr>\n",
       "    <tr>\n",
       "      <th>2</th>\n",
       "      <td>2</td>\n",
       "      <td>2</td>\n",
       "      <td>Inference on white dwarf binary systems using ...</td>\n",
       "      <td>We report on the analysis of selected single s...</td>\n",
       "      <td>['gr-qc', 'astro-ph']</td>\n",
       "      <td>2007-03-31</td>\n",
       "      <td>0704.0048</td>\n",
       "      <td>10.1088/0264-9381/24/19/S17</td>\n",
       "    </tr>\n",
       "    <tr>\n",
       "      <th>3</th>\n",
       "      <td>3</td>\n",
       "      <td>3</td>\n",
       "      <td>The Mass and Radius of the Unseen M-Dwarf Comp...</td>\n",
       "      <td>We derive masses and radii for both components...</td>\n",
       "      <td>['astro-ph']</td>\n",
       "      <td>2007-03-31</td>\n",
       "      <td>0704.0059</td>\n",
       "      <td>10.1086/518413</td>\n",
       "    </tr>\n",
       "    <tr>\n",
       "      <th>4</th>\n",
       "      <td>4</td>\n",
       "      <td>4</td>\n",
       "      <td>Timing and Lensing of the Colliding Bullet Clu...</td>\n",
       "      <td>We present semi-analytical constraint on the a...</td>\n",
       "      <td>['astro-ph']</td>\n",
       "      <td>2007-04-02</td>\n",
       "      <td>0704.0094</td>\n",
       "      <td>NaN</td>\n",
       "    </tr>\n",
       "  </tbody>\n",
       "</table>\n",
       "</div>"
      ],
      "text/plain": [
       "   Unnamed: 0  Unnamed: 0.1  \\\n",
       "0           0             0   \n",
       "1           1             1   \n",
       "2           2             2   \n",
       "3           3             3   \n",
       "4           4             4   \n",
       "\n",
       "                                               title  \\\n",
       "0  Spectroscopic Observations of the Intermediate...   \n",
       "1  ALMA as the ideal probe of the solar chromosphere   \n",
       "2  Inference on white dwarf binary systems using ...   \n",
       "3  The Mass and Radius of the Unseen M-Dwarf Comp...   \n",
       "4  Timing and Lensing of the Colliding Bullet Clu...   \n",
       "\n",
       "                                            abstract             categories  \\\n",
       "0  Results from spectroscopic observations of the...           ['astro-ph']   \n",
       "1  The very nature of the solar chromosphere, its...           ['astro-ph']   \n",
       "2  We report on the analysis of selected single s...  ['gr-qc', 'astro-ph']   \n",
       "3  We derive masses and radii for both components...           ['astro-ph']   \n",
       "4  We present semi-analytical constraint on the a...           ['astro-ph']   \n",
       "\n",
       "      created         id                               doi  \n",
       "0  2007-03-31  0704.0017  10.1111/j.1365-2966.2007.11762.x  \n",
       "1  2007-03-31  0704.0023         10.1007/s10509-007-9626-1  \n",
       "2  2007-03-31  0704.0048       10.1088/0264-9381/24/19/S17  \n",
       "3  2007-03-31  0704.0059                    10.1086/518413  \n",
       "4  2007-04-02  0704.0094                               NaN  "
      ]
     },
     "execution_count": 38,
     "metadata": {},
     "output_type": "execute_result"
    }
   ],
   "source": [
    "df_astro.head()"
   ]
  },
  {
   "cell_type": "markdown",
   "metadata": {},
   "source": [
    "## List of Abstracts"
   ]
  },
  {
   "cell_type": "code",
   "execution_count": 39,
   "metadata": {},
   "outputs": [],
   "source": [
    "all_abstract = df_astro.abstract.values"
   ]
  },
  {
   "cell_type": "markdown",
   "metadata": {},
   "source": [
    "## N-Grams Feature Extraction "
   ]
  },
  {
   "cell_type": "code",
   "execution_count": 77,
   "metadata": {},
   "outputs": [],
   "source": [
    "# construct the object\n",
    "count_vectorize = CountVectorizer(\n",
    "    max_features=300, stop_words=\"english\"\n",
    ")\n",
    "\n",
    "# convert the data\n",
    "n_grams_vector = count_vectorize.fit_transform(\n",
    "    all_abstract\n",
    ")\n",
    "\n",
    "# all features \n",
    "all_features = count_vectorize.get_feature_names()"
   ]
  },
  {
   "cell_type": "code",
   "execution_count": 78,
   "metadata": {},
   "outputs": [
    {
     "data": {
      "text/plain": [
       "300"
      ]
     },
     "execution_count": 78,
     "metadata": {},
     "output_type": "execute_result"
    }
   ],
   "source": [
    "len(all_features)"
   ]
  },
  {
   "cell_type": "markdown",
   "metadata": {},
   "source": [
    "## Training Set, Testing Set"
   ]
  },
  {
   "cell_type": "code",
   "execution_count": 47,
   "metadata": {},
   "outputs": [],
   "source": [
    "np.random.seed(1)"
   ]
  },
  {
   "cell_type": "code",
   "execution_count": 79,
   "metadata": {},
   "outputs": [],
   "source": [
    "# random shuffle\n",
    "n_grams_vector_train = n_grams_vector[:189970, :]\n",
    "n_grams_vector_test  = n_grams_vector[189970:, :]"
   ]
  },
  {
   "cell_type": "markdown",
   "metadata": {},
   "source": [
    "## Naive LDA"
   ]
  },
  {
   "cell_type": "code",
   "execution_count": null,
   "metadata": {},
   "outputs": [],
   "source": [
    "from sklearn.decomposition import LatentDirichletAllocation\n",
    "\n",
    "LDA = LatentDirichletAllocation(\n",
    "    n_components=15, learning_method=\"online\", \n",
    ")\n",
    "LDA.fit(n_grams_vector_train)"
   ]
  },
  {
   "cell_type": "code",
   "execution_count": null,
   "metadata": {},
   "outputs": [],
   "source": [
    "topic_vector = LDA.components_ / LDA.components_.sum(axis=1)[:, np.newaxis]\n",
    "\n",
    "for i,topic in enumerate(topic_vector):\n",
    "    print(\"Topic {} :\".format(i),\n",
    "        \", \".join(np.array(all_features)[topic.argsort()][-15:][::-1])\n",
    "    )"
   ]
  },
  {
   "cell_type": "code",
   "execution_count": 76,
   "metadata": {},
   "outputs": [
    {
     "name": "stdout",
     "output_type": "stream",
     "text": [
      "Topic 0 : radio, sources, optical, infrared, observations, source, jet, emission, objects, telescope, images, survey, band, near, detected\n",
      "Topic 1 : data, model, using, models, solar, results, analysis, method, parameters, new, used, light, based, time, present\n",
      "Topic 2 : field, magnetic, matter, dark, energy, model, scale, cosmological, density, non, large, fields, universe, models, simulations\n",
      "Topic 3 : line, emission, lines, alpha, region, velocity, molecular, km, spectra, absorption, regions, high, ii, temperature, observed\n",
      "Topic 4 : stars, cluster, clusters, stellar, ngc, dwarf, metallicity, star, galactic, galaxy, abundance, fe, halo, distance, population\n",
      "Topic 5 : ray, energy, gamma, emission, flux, 10, spectrum, high, kev, source, spectral, power, observed, thermal, cosmic\n",
      "Topic 6 : black, accretion, hole, rm, period, star, neutron, wind, binary, rate, sim, mass, frequency, 10, state\n",
      "Topic 7 : galaxies, galaxy, redshift, sample, luminosity, survey, function, correlation, relation, 10, type, evolution, high, mass, local\n",
      "Topic 8 : mass, stellar, stars, masses, star, systems, 10, planet, planets, massive, evolution, low, core, simulations, models\n",
      "Topic 9 : gas, formation, star, disk, dust, agn, galaxy, rate, galactic, regions, central, stellar, accretion, model, infrared\n"
     ]
    }
   ],
   "source": [
    "topic_vector = LDA.components_ / LDA.components_.sum(axis=1)[:, np.newaxis]\n",
    "\n",
    "for i,topic in enumerate(topic_vector):\n",
    "    print(\"Topic {} :\".format(i),\n",
    "        \", \".join(np.array(all_features)[topic.argsort()][-15:][::-1])\n",
    "    )"
   ]
  }
 ],
 "metadata": {
  "kernelspec": {
   "display_name": "Python 3",
   "language": "python",
   "name": "python3"
  },
  "language_info": {
   "codemirror_mode": {
    "name": "ipython",
    "version": 3
   },
   "file_extension": ".py",
   "mimetype": "text/x-python",
   "name": "python",
   "nbconvert_exporter": "python",
   "pygments_lexer": "ipython3",
   "version": "3.6.1"
  }
 },
 "nbformat": 4,
 "nbformat_minor": 2
}
